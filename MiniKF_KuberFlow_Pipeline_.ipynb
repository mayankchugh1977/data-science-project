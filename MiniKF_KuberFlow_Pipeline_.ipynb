{
  "nbformat": 4,
  "nbformat_minor": 0,
  "metadata": {
    "colab": {
      "name": "MiniKF KuberFlow Pipeline .ipynb",
      "version": "0.3.2",
      "provenance": [],
      "collapsed_sections": [],
      "include_colab_link": true
    },
    "kernelspec": {
      "name": "python3",
      "display_name": "Python 3"
    }
  },
  "cells": [
    {
      "cell_type": "markdown",
      "metadata": {
        "id": "view-in-github",
        "colab_type": "text"
      },
      "source": [
        "<a href=\"https://colab.research.google.com/github/shivam-kotwalia/data-science-project/blob/master/MiniKF_KuberFlow_Pipeline_.ipynb\" target=\"_parent\"><img src=\"https://colab.research.google.com/assets/colab-badge.svg\" alt=\"Open In Colab\"/></a>"
      ]
    },
    {
      "cell_type": "code",
      "metadata": {
        "id": "cLnjWOumM93m",
        "colab_type": "code",
        "colab": {
          "base_uri": "https://localhost:8080/",
          "height": 72
        },
        "outputId": "e5285426-209c-4516-8467-d07744bdbbd2"
      },
      "source": [
        "# Reference from https://medium.com/kubeflow/an-end-to-end-ml-pipeline-on-prem-notebooks-kubeflow-pipelines-on-the-new-minikf-33b7d8e9a836\n",
        "! free -m"
      ],
      "execution_count": 1,
      "outputs": [
        {
          "output_type": "stream",
          "text": [
            "              total        used        free      shared  buff/cache   available\n",
            "Mem:          13022         397        8483           0        4141       12334\n",
            "Swap:             0           0           0\n"
          ],
          "name": "stdout"
        }
      ]
    },
    {
      "cell_type": "code",
      "metadata": {
        "id": "fqUz1UhHTxV3",
        "colab_type": "code",
        "colab": {
          "base_uri": "https://localhost:8080/",
          "height": 1000
        },
        "outputId": "83b77a63-b343-4615-f13c-37ae3577ccef"
      },
      "source": [
        "# Update - \n",
        "! sudo apt-get update -qq\n",
        "! wget -N -nv -q https://kernel.ubuntu.com/~kernel-ppa/mainline/v5.0/linux-headers-5.0.0-050000_5.0.0-050000.201903032031_all.deb\n",
        "! wget -N -nv -q https://kernel.ubuntu.com/~kernel-ppa/mainline/v5.0/linux-headers-5.0.0-050000-generic_5.0.0-050000.201903032031_amd64.deb\n",
        "! wget -N -nv -q https://kernel.ubuntu.com/~kernel-ppa/mainline/v5.0/linux-image-unsigned-5.0.0-050000-generic_5.0.0-050000.201903032031_amd64.deb\n",
        "! wget -N -nv -q https://kernel.ubuntu.com/~kernel-ppa/mainline/v5.0/linux-modules-5.0.0-050000-generic_5.0.0-050000.201903032031_amd64.deb\n",
        "# ! sudo apt-get dist-upgrade -qq\n",
        "! sudo dpkg -i *.deb\n",
        "! uname -r"
      ],
      "execution_count": 13,
      "outputs": [
        {
          "output_type": "stream",
          "text": [
            "Selecting previously unselected package linux-headers-5.0.0-050000.\n",
            "(Reading database ... \r(Reading database ... 5%\r(Reading database ... 10%\r(Reading database ... 15%\r(Reading database ... 20%\r(Reading database ... 25%\r(Reading database ... 30%\r(Reading database ... 35%\r(Reading database ... 40%\r(Reading database ... 45%\r(Reading database ... 50%\r(Reading database ... 55%\r(Reading database ... 60%\r(Reading database ... 65%\r(Reading database ... 70%\r(Reading database ... 75%\r(Reading database ... 80%\r(Reading database ... 85%\r(Reading database ... 90%\r(Reading database ... 95%\r(Reading database ... 100%\r(Reading database ... 146271 files and directories currently installed.)\n",
            "Preparing to unpack linux-headers-5.0.0-050000_5.0.0-050000.201903032031_all.deb ...\n",
            "Unpacking linux-headers-5.0.0-050000 (5.0.0-050000.201903032031) ...\n",
            "Selecting previously unselected package linux-headers-5.0.0-050000-generic.\n",
            "Preparing to unpack linux-headers-5.0.0-050000-generic_5.0.0-050000.201903032031_amd64.deb ...\n",
            "Unpacking linux-headers-5.0.0-050000-generic (5.0.0-050000.201903032031) ...\n",
            "Selecting previously unselected package linux-image-unsigned-5.0.0-050000-generic.\n",
            "Preparing to unpack linux-image-unsigned-5.0.0-050000-generic_5.0.0-050000.201903032031_amd64.deb ...\n",
            "Unpacking linux-image-unsigned-5.0.0-050000-generic (5.0.0-050000.201903032031) ...\n",
            "Selecting previously unselected package linux-modules-5.0.0-050000-generic.\n",
            "Preparing to unpack linux-modules-5.0.0-050000-generic_5.0.0-050000.201903032031_amd64.deb ...\n",
            "Unpacking linux-modules-5.0.0-050000-generic (5.0.0-050000.201903032031) ...\n",
            "Setting up linux-headers-5.0.0-050000 (5.0.0-050000.201903032031) ...\n",
            "Setting up linux-headers-5.0.0-050000-generic (5.0.0-050000.201903032031) ...\n",
            "/etc/kernel/header_postinst.d/dkms:\n",
            " * dkms: running auto installation service for kernel 5.0.0-050000-generic\n",
            "\n",
            "Kernel preparation unnecessary for this kernel.  Skipping...\n",
            "\n",
            "Building module:\n",
            "cleaning build area...(bad exit status: 2)\n",
            "unset ARCH; env NV_VERBOSE=1 'make' -j2 NV_EXCLUDE_BUILD_MODULES='' KERNEL_UNAME=5.0.0-050000-generic IGNORE_XEN_PRESENCE=1 IGNORE_CC_MISMATCH=1 SYSSRC=/lib/modules/5.0.0-050000-generic/build LD=/usr/bin/ld.bfd modules..............................\n",
            "cleaning build area...(bad exit status: 2)\n",
            "\n",
            "DKMS: build completed.\n",
            "\n",
            "nvidia.ko:\n",
            "Running module version sanity check.\n",
            "/usr/sbin/dkms: line 784: find_module: command not found\n",
            "modinfo: ERROR: missing module or filename.\n",
            " - Original module\n",
            "   - No original module exists within this kernel\n",
            " - Installation\n",
            "   - Installing to /lib/modules/5.0.0-050000-generic/updates/dkms/\n",
            "\n",
            "nvidia-modeset.ko:\n",
            "Running module version sanity check.\n",
            "/usr/sbin/dkms: line 784: find_module: command not found\n",
            "modinfo: ERROR: missing module or filename.\n",
            " - Original module\n",
            "   - No original module exists within this kernel\n",
            " - Installation\n",
            "   - Installing to /lib/modules/5.0.0-050000-generic/updates/dkms/\n",
            "\n",
            "nvidia-drm.ko:\n",
            "Running module version sanity check.\n",
            "/usr/sbin/dkms: line 784: find_module: command not found\n",
            "modinfo: ERROR: missing module or filename.\n",
            " - Original module\n",
            "   - No original module exists within this kernel\n",
            " - Installation\n",
            "   - Installing to /lib/modules/5.0.0-050000-generic/updates/dkms/\n",
            "\n",
            "nvidia-uvm.ko:\n",
            "Running module version sanity check.\n",
            "/usr/sbin/dkms: line 784: find_module: command not found\n",
            "modinfo: ERROR: missing module or filename.\n",
            " - Original module\n",
            "   - No original module exists within this kernel\n",
            " - Installation\n",
            "   - Installing to /lib/modules/5.0.0-050000-generic/updates/dkms/\n",
            "\n",
            "depmod...\n",
            "\n",
            "DKMS: install completed.\n",
            "\n",
            "Kernel preparation unnecessary for this kernel.  Skipping...\n",
            "\n",
            "Building module:\n",
            "cleaning build area...\n",
            "make -j2 KERNELRELEASE=5.0.0-050000-generic -C /lib/modules/5.0.0-050000-generic/build M=/var/lib/dkms/virtualbox/5.2.18/build....(bad exit status: 2)\n",
            "Error! Bad return status for module build on kernel: 5.0.0-050000-generic (x86_64)\n",
            "Consult /var/lib/dkms/virtualbox/5.2.18/build/make.log for more information.\n",
            "   ...done.\n",
            "Setting up linux-modules-5.0.0-050000-generic (5.0.0-050000.201903032031) ...\n",
            "Setting up linux-image-unsigned-5.0.0-050000-generic (5.0.0-050000.201903032031) ...\n",
            "I: /vmlinuz.old is now a symlink to boot/vmlinuz-5.0.0-050000-generic\n",
            "I: /initrd.img.old is now a symlink to boot/initrd.img-5.0.0-050000-generic\n",
            "I: /vmlinuz is now a symlink to boot/vmlinuz-5.0.0-050000-generic\n",
            "I: /initrd.img is now a symlink to boot/initrd.img-5.0.0-050000-generic\n",
            "Processing triggers for linux-image-unsigned-5.0.0-050000-generic (5.0.0-050000.201903032031) ...\n",
            "/etc/kernel/postinst.d/dkms:\n",
            " * dkms: running auto installation service for kernel 5.0.0-050000-generic\n",
            "\n",
            "Kernel preparation unnecessary for this kernel.  Skipping...\n",
            "\n",
            "Building module:\n",
            "cleaning build area...\n",
            "make -j2 KERNELRELEASE=5.0.0-050000-generic -C /lib/modules/5.0.0-050000-generic/build M=/var/lib/dkms/virtualbox/5.2.18/build....(bad exit status: 2)\n",
            "Error! Bad return status for module build on kernel: 5.0.0-050000-generic (x86_64)\n",
            "Consult /var/lib/dkms/virtualbox/5.2.18/build/make.log for more information.\n",
            "   ...done.\n",
            "/etc/kernel/postinst.d/initramfs-tools:\n",
            "update-initramfs: Generating /boot/initrd.img-5.0.0-050000-generic\n",
            "cryptsetup: WARNING: could not determine root device from /etc/fstab\n",
            "W: mkconf: MD subsystem is not loaded, thus I cannot scan for arrays.\n",
            "W: mdadm: failed to auto-generate temporary mdadm.conf file.\n",
            "4.14.79+\n"
          ],
          "name": "stdout"
        }
      ]
    },
    {
      "cell_type": "code",
      "metadata": {
        "id": "oodsLJ_MNGf9",
        "colab_type": "code",
        "colab": {}
      },
      "source": [
        "# Update - \n",
        "! sudo apt-get update -qq\n",
        "! sudo apt-get dist-upgrade -qq\n",
        "! sudo apt install qemu-kvm libvirt-clients libvirt-daemon-system bridge-utils virt-manager -qq -y\n",
        "! \n",
        "\n",
        "# Install VirtualBox \n",
        "! wget -q -N -nv https://www.virtualbox.org/download/oracle_vbox_2016.asc -O- | sudo apt-key add -\n",
        "! wget -q -N -nv https://www.virtualbox.org/download/oracle_vbox.asc -O- | sudo apt-key add -\n",
        "! sudo add-apt-repository \"deb http://download.virtualbox.org/virtualbox/debian xenial contrib\"\n",
        "! sudo apt-get update -qq\n",
        "! sudo apt-get install virtualbox -qq\n",
        "  \n",
        "# Vagrant \n",
        "! sudo apt-get -qq install vagrant \n",
        "! vagrant plugin install vagrant-libvirt\n",
        "! vagrant up --provider virtualbox\n",
        "\n",
        "# Adding user `root` to Vagrant group\n",
        "! sudo adduser root libvirt\n",
        "! sudo adduser root libvirt-qemu\n",
        "! sudo /etc/init.d/libvirtd restart\n",
        "\n",
        "print(\"Done\")\n",
        "\n",
        "# Install ngrock \n",
        "! wget -q -N -nv https://bin.equinox.io/c/4VmDzA7iaHb/ngrok-stable-linux-amd64.zip\n",
        "! unzip ngrok-stable-linux-amd64.zip"
      ],
      "execution_count": 0,
      "outputs": []
    },
    {
      "cell_type": "code",
      "metadata": {
        "id": "1sGfeIRfShMg",
        "colab_type": "code",
        "colab": {
          "base_uri": "https://localhost:8080/",
          "height": 35
        },
        "outputId": "032c89e0-aa96-4a4f-fcbf-a5f7d07f29f1"
      },
      "source": [
        "! uname -r"
      ],
      "execution_count": 3,
      "outputs": [
        {
          "output_type": "stream",
          "text": [
            "4.14.79+\n"
          ],
          "name": "stdout"
        }
      ]
    },
    {
      "cell_type": "code",
      "metadata": {
        "id": "4tVjWPonfycM",
        "colab_type": "code",
        "colab": {
          "base_uri": "https://localhost:8080/",
          "height": 54
        },
        "outputId": "8a8eb5df-6c88-4c92-9ee9-246456a3450b"
      },
      "source": [
        "!modprobe vboxdrv"
      ],
      "execution_count": 4,
      "outputs": [
        {
          "output_type": "stream",
          "text": [
            "modprobe: ERROR: ../libkmod/libkmod.c:586 kmod_search_moddep() could not open moddep file '/lib/modules/4.14.79+/modules.dep.bin'\n",
            "modprobe: FATAL: Module vboxdrv not found in directory /lib/modules/4.14.79+\n"
          ],
          "name": "stdout"
        }
      ]
    },
    {
      "cell_type": "code",
      "metadata": {
        "id": "KoQmTZSFYQWQ",
        "colab_type": "code",
        "outputId": "dd4538a4-2b2d-4650-b863-2251fe002a6a",
        "colab": {
          "base_uri": "https://localhost:8080/",
          "height": 109
        }
      },
      "source": [
        "! sudo vagrant init arrikto/minikf\n",
        "! sudo vagrant up"
      ],
      "execution_count": 5,
      "outputs": [
        {
          "output_type": "stream",
          "text": [
            "\u001b[0;31m`Vagrantfile` already exists in this directory. Remove it before\n",
            "running `vagrant init`.\u001b[0m\n",
            "\u001b[0;31mVirtualBox is complaining that the installation is incomplete. Please\n",
            "run `VBoxManage --version` to see the error message which should contain\n",
            "instructions on how to fix this error.\u001b[0m\n"
          ],
          "name": "stdout"
        }
      ]
    },
    {
      "cell_type": "code",
      "metadata": {
        "id": "VtXQ4S5Kcc6F",
        "colab_type": "code",
        "outputId": "c4158571-4db0-4b41-c76f-dc95b697e76a",
        "colab": {
          "base_uri": "https://localhost:8080/",
          "height": 127
        }
      },
      "source": [
        "! sudo  VBoxManage --version"
      ],
      "execution_count": 6,
      "outputs": [
        {
          "output_type": "stream",
          "text": [
            "WARNING: The character device /dev/vboxdrv does not exist.\n",
            "\t Please install the virtualbox-dkms package and the appropriate\n",
            "\t headers, most likely linux-headers-4.14.79+.\n",
            "\n",
            "\t You will not be able to start VMs until this problem is fixed.\n",
            "5.2.18_Ubuntur123745\n"
          ],
          "name": "stdout"
        }
      ]
    },
    {
      "cell_type": "code",
      "metadata": {
        "id": "y0iAyxW0c9AY",
        "colab_type": "code",
        "outputId": "5b97d15e-9673-4c28-e886-49de80d85e12",
        "colab": {
          "base_uri": "https://localhost:8080/",
          "height": 1000
        }
      },
      "source": [
        "! sudo apt-get install linux-headers"
      ],
      "execution_count": 7,
      "outputs": [
        {
          "output_type": "stream",
          "text": [
            "Reading package lists... Done\n",
            "Building dependency tree       \n",
            "Reading state information... Done\n",
            "Package linux-headers is a virtual package provided by:\n",
            "  linux-headers-5.0.0-1012-oem-osp1 5.0.0-1012.13\n",
            "  linux-headers-5.0.0-1010-oem-osp1 5.0.0-1010.11\n",
            "  linux-headers-4.18.0-1020-aws 4.18.0-1020.24~18.04.1\n",
            "  linux-headers-4.18.0-1018-aws 4.18.0-1018.20~18.04.1\n",
            "  linux-headers-4.18.0-1017-aws 4.18.0-1017.19~18.04.1\n",
            "  linux-headers-4.18.0-1016-aws 4.18.0-1016.18~18.04.1\n",
            "  linux-headers-4.18.0-1013-aws 4.18.0-1013.15~18.04.1\n",
            "  linux-headers-4.18.0-1012-aws 4.18.0-1012.14~18.04.1\n",
            "  linux-headers-4.18.0-1011-aws 4.18.0-1011.13~18.04.1\n",
            "  linux-headers-4.18.0-1008-aws 4.18.0-1008.10~18.04.1\n",
            "  linux-headers-4.18.0-1007-aws 4.18.0-1007.9~18.04.1\n",
            "  linux-headers-4.18.0-1006-aws 4.18.0-1006.7~18.04.2\n",
            "  linux-headers-5.0.0-20-lowlatency 5.0.0-20.21~18.04.1\n",
            "  linux-headers-5.0.0-20-generic 5.0.0-20.21~18.04.1\n",
            "  linux-headers-5.0.0-19-lowlatency 5.0.0-19.20~18.04.1\n",
            "  linux-headers-5.0.0-19-generic 5.0.0-19.20~18.04.1\n",
            "  linux-headers-5.0.0-17-lowlatency 5.0.0-17.18~18.04.1\n",
            "  linux-headers-5.0.0-17-generic 5.0.0-17.18~18.04.1\n",
            "  linux-headers-5.0.0-16-lowlatency 5.0.0-16.17~18.04.1\n",
            "  linux-headers-5.0.0-16-generic 5.0.0-16.17~18.04.1\n",
            "  linux-headers-5.0.0-15-lowlatency 5.0.0-15.16~18.04.1\n",
            "  linux-headers-5.0.0-15-generic 5.0.0-15.16~18.04.1\n",
            "  linux-headers-4.18.0-25-lowlatency 4.18.0-25.26~18.04.1\n",
            "  linux-headers-4.18.0-25-generic 4.18.0-25.26~18.04.1\n",
            "  linux-headers-4.18.0-24-lowlatency 4.18.0-24.25~18.04.1\n",
            "  linux-headers-4.18.0-24-generic 4.18.0-24.25~18.04.1\n",
            "  linux-headers-4.18.0-22-lowlatency 4.18.0-22.23~18.04.1\n",
            "  linux-headers-4.18.0-22-generic 4.18.0-22.23~18.04.1\n",
            "  linux-headers-4.18.0-21-lowlatency 4.18.0-21.22~18.04.1\n",
            "  linux-headers-4.18.0-21-generic 4.18.0-21.22~18.04.1\n",
            "  linux-headers-4.18.0-20-lowlatency 4.18.0-20.21~18.04.1\n",
            "  linux-headers-4.18.0-20-generic 4.18.0-20.21~18.04.1\n",
            "  linux-headers-4.18.0-18-lowlatency 4.18.0-18.19~18.04.1\n",
            "  linux-headers-4.18.0-18-generic 4.18.0-18.19~18.04.1\n",
            "  linux-headers-4.18.0-17-lowlatency 4.18.0-17.18~18.04.1\n",
            "  linux-headers-4.18.0-17-generic 4.18.0-17.18~18.04.1\n",
            "  linux-headers-4.18.0-16-lowlatency 4.18.0-16.17~18.04.1\n",
            "  linux-headers-4.18.0-16-generic 4.18.0-16.17~18.04.1\n",
            "  linux-headers-4.18.0-15-lowlatency 4.18.0-15.16~18.04.1\n",
            "  linux-headers-4.18.0-15-generic 4.18.0-15.16~18.04.1\n",
            "  linux-headers-4.18.0-14-lowlatency 4.18.0-14.15~18.04.1\n",
            "  linux-headers-4.18.0-14-generic 4.18.0-14.15~18.04.1\n",
            "  linux-headers-4.18.0-13-lowlatency 4.18.0-13.14~18.04.1\n",
            "  linux-headers-4.18.0-13-generic 4.18.0-13.14~18.04.1\n",
            "  linux-headers-4.18.0-1024-azure 4.18.0-1024.25~18.04.1\n",
            "  linux-headers-4.18.0-1023-azure 4.18.0-1023.24~18.04.1\n",
            "  linux-headers-4.18.0-1020-azure 4.18.0-1020.20~18.04.1\n",
            "  linux-headers-4.18.0-1019-azure 4.18.0-1019.19~18.04.1\n",
            "  linux-headers-4.18.0-1018-azure 4.18.0-1018.18~18.04.1\n",
            "  linux-headers-4.18.0-1015-gcp 4.18.0-1015.16~18.04.1\n",
            "  linux-headers-4.18.0-1014-azure 4.18.0-1014.14~18.04.1\n",
            "  linux-headers-4.18.0-1013-gcp 4.18.0-1013.14~18.04.1\n",
            "  linux-headers-4.18.0-1013-azure 4.18.0-1013.13~18.04.1\n",
            "  linux-headers-4.18.0-1012-gcp 4.18.0-1012.13~18.04.1\n",
            "  linux-headers-4.18.0-1011-gcp 4.18.0-1011.12~18.04.1\n",
            "  linux-headers-4.18.0-1011-azure 4.18.0-1011.11~18.04.1\n",
            "  linux-headers-4.18.0-1009-gcp 4.18.0-1009.10~18.04.1\n",
            "  linux-headers-4.18.0-1008-gcp 4.18.0-1008.9~18.04.1\n",
            "  linux-headers-4.18.0-1008-azure 4.18.0-1008.8~18.04.1\n",
            "  linux-headers-4.18.0-1007-gcp 4.18.0-1007.8~18.04.1\n",
            "  linux-headers-4.18.0-1007-azure 4.18.0-1007.7~18.04.1\n",
            "  linux-headers-4.18.0-1006-gcp 4.18.0-1006.7~18.04.1\n",
            "  linux-headers-4.18.0-1006-azure 4.18.0-1006.6~18.04.1\n",
            "  linux-headers-4.18.0-1005-gcp 4.18.0-1005.6~18.04.1\n",
            "  linux-headers-4.18.0-1004-gcp 4.18.0-1004.5~18.04.1\n",
            "  linux-headers-4.15.0-54-lowlatency 4.15.0-54.58\n",
            "  linux-headers-4.15.0-54-generic 4.15.0-54.58\n",
            "  linux-headers-4.15.0-52-lowlatency 4.15.0-52.56\n",
            "  linux-headers-4.15.0-52-generic 4.15.0-52.56\n",
            "  linux-headers-4.15.0-51-lowlatency 4.15.0-51.55\n",
            "  linux-headers-4.15.0-51-generic 4.15.0-51.55\n",
            "  linux-headers-4.15.0-50-lowlatency 4.15.0-50.54\n",
            "  linux-headers-4.15.0-50-generic 4.15.0-50.54\n",
            "  linux-headers-4.15.0-48-lowlatency 4.15.0-48.51\n",
            "  linux-headers-4.15.0-48-generic 4.15.0-48.51\n",
            "  linux-headers-4.15.0-47-lowlatency 4.15.0-47.50\n",
            "  linux-headers-4.15.0-47-generic 4.15.0-47.50\n",
            "  linux-headers-4.15.0-46-lowlatency 4.15.0-46.49\n",
            "  linux-headers-4.15.0-46-generic 4.15.0-46.49\n",
            "  linux-headers-4.15.0-45-lowlatency 4.15.0-45.48\n",
            "  linux-headers-4.15.0-45-generic 4.15.0-45.48\n",
            "  linux-headers-4.15.0-44-lowlatency 4.15.0-44.47\n",
            "  linux-headers-4.15.0-44-generic 4.15.0-44.47\n",
            "  linux-headers-4.15.0-43-lowlatency 4.15.0-43.46\n",
            "  linux-headers-4.15.0-43-generic 4.15.0-43.46\n",
            "  linux-headers-4.15.0-42-lowlatency 4.15.0-42.45\n",
            "  linux-headers-4.15.0-42-generic 4.15.0-42.45\n",
            "  linux-headers-4.15.0-39-lowlatency 4.15.0-39.42\n",
            "  linux-headers-4.15.0-39-generic 4.15.0-39.42\n",
            "  linux-headers-4.15.0-38-lowlatency 4.15.0-38.41\n",
            "  linux-headers-4.15.0-38-generic 4.15.0-38.41\n",
            "  linux-headers-4.15.0-36-lowlatency 4.15.0-36.39\n",
            "  linux-headers-4.15.0-36-generic 4.15.0-36.39\n",
            "  linux-headers-4.15.0-34-lowlatency 4.15.0-34.37\n",
            "  linux-headers-4.15.0-34-generic 4.15.0-34.37\n",
            "  linux-headers-4.15.0-33-lowlatency 4.15.0-33.36\n",
            "  linux-headers-4.15.0-33-generic 4.15.0-33.36\n",
            "  linux-headers-4.15.0-32-lowlatency 4.15.0-32.35\n",
            "  linux-headers-4.15.0-32-generic 4.15.0-32.35\n",
            "  linux-headers-4.15.0-30-lowlatency 4.15.0-30.32\n",
            "  linux-headers-4.15.0-30-generic 4.15.0-30.32\n",
            "  linux-headers-4.15.0-29-lowlatency 4.15.0-29.31\n",
            "  linux-headers-4.15.0-29-generic 4.15.0-29.31\n",
            "  linux-headers-4.15.0-24-lowlatency 4.15.0-24.26\n",
            "  linux-headers-4.15.0-24-generic 4.15.0-24.26\n",
            "  linux-headers-4.15.0-23-lowlatency 4.15.0-23.25\n",
            "  linux-headers-4.15.0-23-generic 4.15.0-23.25\n",
            "  linux-headers-4.15.0-22-lowlatency 4.15.0-22.24\n",
            "  linux-headers-4.15.0-22-generic 4.15.0-22.24\n",
            "  linux-headers-4.15.0-1045-oem 4.15.0-1045.50\n",
            "  linux-headers-4.15.0-1043-oem 4.15.0-1043.48\n",
            "  linux-headers-4.15.0-1043-aws 4.15.0-1043.45\n",
            "  linux-headers-4.15.0-1041-aws 4.15.0-1041.43\n",
            "  linux-headers-4.15.0-1040-aws 4.15.0-1040.42\n",
            "  linux-headers-4.15.0-1039-oem 4.15.0-1039.44\n",
            "  linux-headers-4.15.0-1039-aws 4.15.0-1039.41\n",
            "  linux-headers-4.15.0-1038-oem 4.15.0-1038.43\n",
            "  linux-headers-4.15.0-1038-kvm 4.15.0-1038.38\n",
            "  linux-headers-4.15.0-1037-azure 4.15.0-1037.39\n",
            "  linux-headers-4.15.0-1037-aws 4.15.0-1037.39\n",
            "  linux-headers-4.15.0-1036-oem 4.15.0-1036.41\n",
            "  linux-headers-4.15.0-1036-kvm 4.15.0-1036.36\n",
            "  linux-headers-4.15.0-1036-gke 4.15.0-1036.38\n",
            "  linux-headers-4.15.0-1036-gcp 4.15.0-1036.38\n",
            "  linux-headers-4.15.0-1036-azure 4.15.0-1036.38\n",
            "  linux-headers-4.15.0-1035-oem 4.15.0-1035.40\n",
            "  linux-headers-4.15.0-1035-kvm 4.15.0-1035.35\n",
            "  linux-headers-4.15.0-1035-azure 4.15.0-1035.36\n",
            "  linux-headers-4.15.0-1035-aws 4.15.0-1035.37\n",
            "  linux-headers-4.15.0-1034-oem 4.15.0-1034.39\n",
            "  linux-headers-4.15.0-1034-kvm 4.15.0-1034.34\n",
            "  linux-headers-4.15.0-1034-gke 4.15.0-1034.36\n",
            "  linux-headers-4.15.0-1034-gcp 4.15.0-1034.36\n",
            "  linux-headers-4.15.0-1034-aws 4.15.0-1034.36\n",
            "  linux-headers-4.15.0-1033-oem 4.15.0-1033.38\n",
            "  linux-headers-4.15.0-1033-gke 4.15.0-1033.35\n",
            "  linux-headers-4.15.0-1033-gcp 4.15.0-1033.35\n",
            "  linux-headers-4.15.0-1033-aws 4.15.0-1033.35\n",
            "  linux-headers-4.15.0-1032-kvm 4.15.0-1032.32\n",
            "  linux-headers-4.15.0-1032-gke 4.15.0-1032.34\n",
            "  linux-headers-4.15.0-1032-gcp 4.15.0-1032.34\n",
            "  linux-headers-4.15.0-1032-azure 4.15.0-1032.33\n",
            "  linux-headers-4.15.0-1032-aws 4.15.0-1032.34\n",
            "  linux-headers-4.15.0-1031-kvm 4.15.0-1031.31\n",
            "  linux-headers-4.15.0-1031-azure 4.15.0-1031.32\n",
            "  linux-headers-4.15.0-1031-aws 4.15.0-1031.33\n",
            "  linux-headers-4.15.0-1030-oem 4.15.0-1030.35\n",
            "  linux-headers-4.15.0-1030-kvm 4.15.0-1030.30\n",
            "  linux-headers-4.15.0-1030-gke 4.15.0-1030.32\n",
            "  linux-headers-4.15.0-1030-gcp 4.15.0-1030.32\n",
            "  linux-headers-4.15.0-1030-azure 4.15.0-1030.31\n",
            "  linux-headers-4.15.0-1029-kvm 4.15.0-1029.29\n",
            "  linux-headers-4.15.0-1029-gcp 4.15.0-1029.31\n",
            "  linux-headers-4.15.0-1029-aws 4.15.0-1029.30\n",
            "  linux-headers-4.15.0-1028-oem 4.15.0-1028.33\n",
            "  linux-headers-4.15.0-1028-kvm 4.15.0-1028.28\n",
            "  linux-headers-4.15.0-1028-gcp 4.15.0-1028.29\n",
            "  linux-headers-4.15.0-1028-azure 4.15.0-1028.29\n",
            "  linux-headers-4.15.0-1027-kvm 4.15.0-1027.27\n",
            "  linux-headers-4.15.0-1027-gcp 4.15.0-1027.28\n",
            "  linux-headers-4.15.0-1027-aws 4.15.0-1027.27\n",
            "  linux-headers-4.15.0-1026-oem 4.15.0-1026.31\n",
            "  linux-headers-4.15.0-1026-kvm 4.15.0-1026.26\n",
            "  linux-headers-4.15.0-1026-gcp 4.15.0-1026.27\n",
            "  linux-headers-4.15.0-1025-kvm 4.15.0-1025.25\n",
            "  linux-headers-4.15.0-1025-gcp 4.15.0-1025.26\n",
            "  linux-headers-4.15.0-1025-azure 4.15.0-1025.26\n",
            "  linux-headers-4.15.0-1025-aws 4.15.0-1025.25\n",
            "  linux-headers-4.15.0-1024-oem 4.15.0-1024.29\n",
            "  linux-headers-4.15.0-1024-gcp 4.15.0-1024.25\n",
            "  linux-headers-4.15.0-1023-kvm 4.15.0-1023.23\n",
            "  linux-headers-4.15.0-1023-gcp 4.15.0-1023.24\n",
            "  linux-headers-4.15.0-1023-azure 4.15.0-1023.24\n",
            "  linux-headers-4.15.0-1023-aws 4.15.0-1023.23\n",
            "  linux-headers-4.15.0-1022-azure 4.15.0-1022.23\n",
            "  linux-headers-4.15.0-1021-oem 4.15.0-1021.24\n",
            "  linux-headers-4.15.0-1021-kvm 4.15.0-1021.21\n",
            "  linux-headers-4.15.0-1021-gcp 4.15.0-1021.22\n",
            "  linux-headers-4.15.0-1021-azure 4.15.0-1021.21\n",
            "  linux-headers-4.15.0-1021-aws 4.15.0-1021.21\n",
            "  linux-headers-4.15.0-1020-kvm 4.15.0-1020.20\n",
            "  linux-headers-4.15.0-1020-aws 4.15.0-1020.20\n",
            "  linux-headers-4.15.0-1019-kvm 4.15.0-1019.19\n",
            "  linux-headers-4.15.0-1019-gcp 4.15.0-1019.20\n",
            "  linux-headers-4.15.0-1019-azure 4.15.0-1019.19\n",
            "  linux-headers-4.15.0-1019-aws 4.15.0-1019.19\n",
            "  linux-headers-4.15.0-1018-oem 4.15.0-1018.21\n",
            "  linux-headers-4.15.0-1018-gcp 4.15.0-1018.19\n",
            "  linux-headers-4.15.0-1018-azure 4.15.0-1018.18\n",
            "  linux-headers-4.15.0-1017-oracle 4.15.0-1017.19\n",
            "  linux-headers-4.15.0-1017-oem 4.15.0-1017.20\n",
            "  linux-headers-4.15.0-1017-kvm 4.15.0-1017.17\n",
            "  linux-headers-4.15.0-1017-gcp 4.15.0-1017.18\n",
            "  linux-headers-4.15.0-1017-aws 4.15.0-1017.17\n",
            "  linux-headers-4.15.0-1016-kvm 4.15.0-1016.16\n",
            "  linux-headers-4.15.0-1016-aws 4.15.0-1016.16\n",
            "  linux-headers-4.15.0-1015-oracle 4.15.0-1015.17\n",
            "  linux-headers-4.15.0-1015-oem 4.15.0-1015.18\n",
            "  linux-headers-4.15.0-1015-gcp 4.15.0-1015.15\n",
            "  linux-headers-4.15.0-1014-oracle 4.15.0-1014.16\n",
            "  linux-headers-4.15.0-1014-gcp 4.15.0-1014.14\n",
            "  linux-headers-4.15.0-1014-azure 4.15.0-1014.14\n",
            "  linux-headers-4.15.0-1013-oracle 4.15.0-1013.15\n",
            "  linux-headers-4.15.0-1013-oem 4.15.0-1013.16\n",
            "  linux-headers-4.15.0-1013-azure 4.15.0-1013.13\n",
            "  linux-headers-4.15.0-1012-oem 4.15.0-1012.15\n",
            "  linux-headers-4.15.0-1012-kvm 4.15.0-1012.12\n",
            "  linux-headers-4.15.0-1012-azure 4.15.0-1012.12\n",
            "  linux-headers-4.15.0-1011-oracle 4.15.0-1011.13\n",
            "  linux-headers-4.15.0-1011-kvm 4.15.0-1011.11\n",
            "  linux-headers-4.15.0-1011-aws 4.15.0-1011.11\n",
            "  linux-headers-4.15.0-1010-oracle 4.15.0-1010.12\n",
            "  linux-headers-4.15.0-1010-kvm 4.15.0-1010.10\n",
            "  linux-headers-4.15.0-1010-gcp 4.15.0-1010.10\n",
            "  linux-headers-4.15.0-1010-aws 4.15.0-1010.10\n",
            "  linux-headers-4.15.0-1009-oracle 4.15.0-1009.11\n",
            "  linux-headers-4.15.0-1009-oem 4.15.0-1009.12\n",
            "  linux-headers-4.15.0-1009-gcp 4.15.0-1009.9\n",
            "  linux-headers-4.15.0-1009-aws 4.15.0-1009.9\n",
            "  linux-headers-4.15.0-1008-oracle 4.15.0-1008.10\n",
            "  linux-headers-4.15.0-1008-oem 4.15.0-1008.11\n",
            "  linux-headers-4.15.0-1008-gcp 4.15.0-1008.8\n",
            "  linux-headers-4.15.0-1007-oracle 4.15.0-1007.9\n",
            "  linux-headers-4.15.0-1006-oem 4.15.0-1006.9\n",
            "  linux-headers-4.15.0-20-lowlatency 4.15.0-20.21\n",
            "  linux-headers-4.15.0-20-generic 4.15.0-20.21\n",
            "  linux-headers-4.15.0-1009-azure 4.15.0-1009.9\n",
            "  linux-headers-4.15.0-1008-kvm 4.15.0-1008.8\n",
            "  linux-headers-4.15.0-1007-aws 4.15.0-1007.7\n",
            "  linux-headers-4.15.0-1006-gcp 4.15.0-1006.6\n",
            "  linux-headers-4.15.0-1004-oem 4.15.0-1004.5\n",
            "You should explicitly select one to install.\n",
            "\n",
            "E: Package 'linux-headers' has no installation candidate\n"
          ],
          "name": "stdout"
        }
      ]
    },
    {
      "cell_type": "code",
      "metadata": {
        "id": "FY8MlQ7MdT5Q",
        "colab_type": "code",
        "outputId": "3af24140-f614-4abb-e478-e882d9d436a8",
        "colab": {
          "base_uri": "https://localhost:8080/",
          "height": 201
        }
      },
      "source": [
        "! sudo dpkg-reconfigure virtualbox-*"
      ],
      "execution_count": 8,
      "outputs": [
        {
          "output_type": "stream",
          "text": [
            "debconf: unable to initialize frontend: Dialog\n",
            "debconf: (No usable dialog-like program is installed, so the dialog based frontend cannot be used. at /usr/share/perl5/Debconf/FrontEnd/Dialog.pm line 76.)\n",
            "debconf: falling back to frontend: Readline\n",
            "debconf: unable to initialize frontend: Readline\n",
            "debconf: (This frontend requires a controlling tty.)\n",
            "debconf: falling back to frontend: Teletype\n",
            "dpkg-query: error: --status needs a valid package name but 'virtualbox-*' is not: illegal package name in specifier 'virtualbox-*': character '*' not allowed (only letters, digits and characters '-+._')\n",
            "\n",
            "Use --help for help about querying packages.\n",
            "/usr/sbin/dpkg-reconfigure: virtualbox-* is not installed\n"
          ],
          "name": "stdout"
        }
      ]
    },
    {
      "cell_type": "code",
      "metadata": {
        "id": "6Sq6XjTJdOC3",
        "colab_type": "code",
        "outputId": "111900d9-e51d-42be-d905-d31d82df331c",
        "colab": {
          "base_uri": "https://localhost:8080/",
          "height": 1000
        }
      },
      "source": [
        "!sudo dpkg-reconfigure virtualbox-dkms\n",
        "!sudo dpkg-reconfigure virtualbox\n",
        "!sudo modprobe vboxdrv"
      ],
      "execution_count": 9,
      "outputs": [
        {
          "output_type": "stream",
          "text": [
            "debconf: unable to initialize frontend: Dialog\n",
            "debconf: (No usable dialog-like program is installed, so the dialog based frontend cannot be used. at /usr/share/perl5/Debconf/FrontEnd/Dialog.pm line 76.)\n",
            "debconf: falling back to frontend: Readline\n",
            "debconf: unable to initialize frontend: Readline\n",
            "debconf: (This frontend requires a controlling tty.)\n",
            "debconf: falling back to frontend: Teletype\n",
            "\n",
            "-------- Uninstall Beginning --------\n",
            "Module:  virtualbox\n",
            "Version: 5.2.18\n",
            "Kernel:  4.15.0-54-generic (x86_64)\n",
            "-------------------------------------\n",
            "\n",
            "Status: Before uninstall, this module version was ACTIVE on this kernel.\n",
            "\n",
            "vboxdrv.ko:\n",
            " - Uninstallation\n",
            "   - Deleting from: /lib/modules/4.15.0-54-generic/updates/dkms/\n",
            " - Original module\n",
            "   - No original module was found for this module on this kernel.\n",
            "   - Use the dkms install command to reinstall any previous module version.\n",
            "\n",
            "\n",
            "vboxnetadp.ko:\n",
            " - Uninstallation\n",
            "   - Deleting from: /lib/modules/4.15.0-54-generic/updates/dkms/\n",
            " - Original module\n",
            "   - No original module was found for this module on this kernel.\n",
            "   - Use the dkms install command to reinstall any previous module version.\n",
            "\n",
            "\n",
            "vboxnetflt.ko:\n",
            " - Uninstallation\n",
            "   - Deleting from: /lib/modules/4.15.0-54-generic/updates/dkms/\n",
            " - Original module\n",
            "   - No original module was found for this module on this kernel.\n",
            "   - Use the dkms install command to reinstall any previous module version.\n",
            "\n",
            "\n",
            "vboxpci.ko:\n",
            " - Uninstallation\n",
            "   - Deleting from: /lib/modules/4.15.0-54-generic/updates/dkms/\n",
            " - Original module\n",
            "   - No original module was found for this module on this kernel.\n",
            "   - Use the dkms install command to reinstall any previous module version.\n",
            "\n",
            "depmod...\n",
            "\n",
            "DKMS: uninstall completed.\n",
            "\n",
            "------------------------------\n",
            "Deleting module version: 5.2.18\n",
            "completely from the DKMS tree.\n",
            "------------------------------\n",
            "Done.\n",
            "debconf: unable to initialize frontend: Dialog\n",
            "debconf: (No usable dialog-like program is installed, so the dialog based frontend cannot be used. at /usr/share/perl5/Debconf/FrontEnd/Dialog.pm line 76.)\n",
            "debconf: falling back to frontend: Readline\n",
            "debconf: unable to initialize frontend: Readline\n",
            "debconf: (This frontend requires a controlling tty.)\n",
            "debconf: falling back to frontend: Teletype\n",
            "Loading new virtualbox-5.2.18 DKMS files...\n",
            "It is likely that 4.14.79+ belongs to a chroot's host\n",
            "Building for 4.15.0-54-generic\n",
            "Building initial module for 4.15.0-54-generic\n",
            "Done.\n",
            "\n",
            "vboxdrv:\n",
            "Running module version sanity check.\n",
            "/usr/sbin/dkms: line 784: find_module: command not found\n",
            "modinfo: ERROR: missing module or filename.\n",
            " - Original module\n",
            "   - No original module exists within this kernel\n",
            " - Installation\n",
            "   - Installing to /lib/modules/4.15.0-54-generic/updates/dkms/\n",
            "\n",
            "vboxnetadp.ko:\n",
            "Running module version sanity check.\n",
            "/usr/sbin/dkms: line 784: find_module: command not found\n",
            "modinfo: ERROR: missing module or filename.\n",
            " - Original module\n",
            "   - No original module exists within this kernel\n",
            " - Installation\n",
            "   - Installing to /lib/modules/4.15.0-54-generic/updates/dkms/\n",
            "\n",
            "vboxnetflt.ko:\n",
            "Running module version sanity check.\n",
            "/usr/sbin/dkms: line 784: find_module: command not found\n",
            "modinfo: ERROR: missing module or filename.\n",
            " - Original module\n",
            "   - No original module exists within this kernel\n",
            " - Installation\n",
            "   - Installing to /lib/modules/4.15.0-54-generic/updates/dkms/\n",
            "\n",
            "vboxpci.ko:\n",
            "Running module version sanity check.\n",
            "/usr/sbin/dkms: line 784: find_module: command not found\n",
            "modinfo: ERROR: missing module or filename.\n",
            " - Original module\n",
            "   - No original module exists within this kernel\n",
            " - Installation\n",
            "   - Installing to /lib/modules/4.15.0-54-generic/updates/dkms/\n",
            "\n",
            "depmod...\n",
            "\n",
            "DKMS: install completed.\n",
            "invoke-rc.d: could not determine current runlevel\n",
            "invoke-rc.d: policy-rc.d denied execution of restart.\n",
            "debconf: unable to initialize frontend: Dialog\n",
            "debconf: (No usable dialog-like program is installed, so the dialog based frontend cannot be used. at /usr/share/perl5/Debconf/FrontEnd/Dialog.pm line 76.)\n",
            "debconf: falling back to frontend: Readline\n",
            "debconf: unable to initialize frontend: Readline\n",
            "debconf: (This frontend requires a controlling tty.)\n",
            "debconf: falling back to frontend: Teletype\n",
            "invoke-rc.d: could not determine current runlevel\n",
            "invoke-rc.d: policy-rc.d denied execution of restart.\n",
            "modprobe: ERROR: ../libkmod/libkmod.c:586 kmod_search_moddep() could not open moddep file '/lib/modules/4.14.79+/modules.dep.bin'\n",
            "modprobe: FATAL: Module vboxdrv not found in directory /lib/modules/4.14.79+\n"
          ],
          "name": "stdout"
        }
      ]
    },
    {
      "cell_type": "code",
      "metadata": {
        "id": "u-7RZj6lZzsq",
        "colab_type": "code",
        "colab": {}
      },
      "source": [
        ""
      ],
      "execution_count": 0,
      "outputs": []
    },
    {
      "cell_type": "code",
      "metadata": {
        "id": "mhIe9LPyaSYt",
        "colab_type": "code",
        "colab": {}
      },
      "source": [
        ""
      ],
      "execution_count": 0,
      "outputs": []
    }
  ]
}