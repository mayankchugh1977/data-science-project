{
  "nbformat": 4,
  "nbformat_minor": 0,
  "metadata": {
    "colab": {
      "name": "Object Dectection (YOLO) on Keras.ipynb",
      "version": "0.3.2",
      "provenance": [],
      "collapsed_sections": [],
      "include_colab_link": true
    },
    "kernelspec": {
      "name": "python3",
      "display_name": "Python 3"
    }
  },
  "cells": [
    {
      "cell_type": "markdown",
      "metadata": {
        "id": "view-in-github",
        "colab_type": "text"
      },
      "source": [
        "<a href=\"https://colab.research.google.com/github/shivam-kotwalia/data-science-project/blob/master/Object_Dectection_(YOLO)_on_Keras.ipynb\" target=\"_parent\"><img src=\"https://colab.research.google.com/assets/colab-badge.svg\" alt=\"Open In Colab\"/></a>"
      ]
    },
    {
      "cell_type": "markdown",
      "metadata": {
        "id": "LF2EbVwdZAql",
        "colab_type": "text"
      },
      "source": [
        "## **You Only Look Once: Unified, Real-Time Object Detection, 2015.**\n",
        "\n",
        "\n",
        "https://arxiv.org/abs/1506.02640\n",
        "\n",
        "Dark Net Repo - https://github.com/pjreddie/darknet"
      ]
    },
    {
      "cell_type": "markdown",
      "metadata": {
        "id": "E0Im9RaJaiQZ",
        "colab_type": "text"
      },
      "source": [
        "### YOLO KERAS - https://github.com/experiencor/keras-yolo3"
      ]
    },
    {
      "cell_type": "markdown",
      "metadata": {
        "id": "CjT1YpzoaUyA",
        "colab_type": "text"
      },
      "source": [
        "### Download the pre-trained model weights at \n",
        "\n",
        "\n",
        "YOLOv3 Pre-trained Model Weights (yolov3.weights) (237 MB) - https://pjreddie.com/media/files/yolov3.weights\n"
      ]
    },
    {
      "cell_type": "code",
      "metadata": {
        "id": "ugYO2mOEaYC6",
        "colab_type": "code",
        "colab": {}
      },
      "source": [
        ""
      ],
      "execution_count": 0,
      "outputs": []
    }
  ]
}