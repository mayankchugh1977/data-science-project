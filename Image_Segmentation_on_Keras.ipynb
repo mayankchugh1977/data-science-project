{
  "nbformat": 4,
  "nbformat_minor": 0,
  "metadata": {
    "colab": {
      "name": "Image Segmentation on Keras.ipynb",
      "version": "0.3.2",
      "provenance": [],
      "collapsed_sections": [],
      "toc_visible": true,
      "include_colab_link": true
    },
    "kernelspec": {
      "name": "python3",
      "display_name": "Python 3"
    },
    "accelerator": "GPU"
  },
  "cells": [
    {
      "cell_type": "markdown",
      "metadata": {
        "id": "view-in-github",
        "colab_type": "text"
      },
      "source": [
        "<a href=\"https://colab.research.google.com/github/shivam-kotwalia/data-science-project/blob/master/Image_Segmentation_on_Keras.ipynb\" target=\"_parent\"><img src=\"https://colab.research.google.com/assets/colab-badge.svg\" alt=\"Open In Colab\"/></a>"
      ]
    },
    {
      "cell_type": "markdown",
      "metadata": {
        "id": "-wl2hmT-ndov",
        "colab_type": "text"
      },
      "source": [
        "# Image Segmetation on Oxford Pets Dataset "
      ]
    },
    {
      "cell_type": "code",
      "metadata": {
        "id": "iCElsLjunjUn",
        "colab_type": "code",
        "colab": {}
      },
      "source": [
        "# Download the dataset \n",
        "!wget http://www.robots.ox.ac.uk/~vgg/data/pets/data/images.tar.gz\n",
        "!wget http://www.robots.ox.ac.uk/~vgg/data/pets/data/annotations.tar.gz\n",
        "!tar -xvf images.tar.gz\n",
        "!tar -xvf annotations.tar.gz"
      ],
      "execution_count": 0,
      "outputs": []
    },
    {
      "cell_type": "code",
      "metadata": {
        "id": "G5BtSYc-nqOV",
        "colab_type": "code",
        "colab": {
          "base_uri": "https://localhost:8080/",
          "height": 733
        },
        "outputId": "8f488c32-b054-4eef-f5a4-0425f1950398"
      },
      "source": [
        "import os\n",
        "import numpy as np \n",
        "import pandas as pd\n",
        "# print(os.getcwd())\n",
        "print(len(os.listdir(\"images\")))\n",
        "images_name = os.listdir(\"images\")\n",
        "images_name = [i.split(\"_\")[0] for i in images_name]\n",
        "print(images_name[0])\n",
        "print(pd.Series(images_name).value_counts())"
      ],
      "execution_count": 11,
      "outputs": [
        {
          "output_type": "stream",
          "text": [
            "/content\n",
            "7393\n",
            "havanese\n",
            "english          400\n",
            "american         400\n",
            "Abyssinian       203\n",
            "boxer            200\n",
            "shiba            200\n",
            "german           200\n",
            "Sphynx           200\n",
            "keeshond         200\n",
            "Siamese          200\n",
            "wheaten          200\n",
            "pug              200\n",
            "great            200\n",
            "havanese         200\n",
            "japanese         200\n",
            "Birman           200\n",
            "yorkshire        200\n",
            "basset           200\n",
            "leonberger       200\n",
            "samoyed          200\n",
            "Maine            200\n",
            "saint            200\n",
            "chihuahua        200\n",
            "newfoundland     200\n",
            "Egyptian         200\n",
            "Russian          200\n",
            "British          200\n",
            "Persian          200\n",
            "Ragdoll          200\n",
            "beagle           200\n",
            "miniature        200\n",
            "pomeranian       200\n",
            "Bombay           200\n",
            "Bengal           200\n",
            "scottish         199\n",
            "staffordshire    191\n",
            "dtype: int64\n"
          ],
          "name": "stdout"
        }
      ]
    },
    {
      "cell_type": "code",
      "metadata": {
        "id": "nxEqWjnGoJZf",
        "colab_type": "code",
        "colab": {}
      },
      "source": [
        ""
      ],
      "execution_count": 0,
      "outputs": []
    },
    {
      "cell_type": "code",
      "metadata": {
        "id": "iPMqlYguoynw",
        "colab_type": "code",
        "colab": {}
      },
      "source": [
        ""
      ],
      "execution_count": 0,
      "outputs": []
    }
  ]
}