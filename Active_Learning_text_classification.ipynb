{
  "nbformat": 4,
  "nbformat_minor": 0,
  "metadata": {
    "colab": {
      "name": "Active Learning text_classification.ipynb",
      "provenance": [],
      "collapsed_sections": [],
      "authorship_tag": "ABX9TyOjEU3FjwoH2iIdNaZ9V8A/",
      "include_colab_link": true
    },
    "kernelspec": {
      "name": "python3",
      "display_name": "Python 3"
    },
    "accelerator": "GPU"
  },
  "cells": [
    {
      "cell_type": "markdown",
      "metadata": {
        "id": "view-in-github",
        "colab_type": "text"
      },
      "source": [
        "<a href=\"https://colab.research.google.com/github/shivam-kotwalia/data-science-project/blob/master/Active_Learning_text_classification.ipynb\" target=\"_parent\"><img src=\"https://colab.research.google.com/assets/colab-badge.svg\" alt=\"Open In Colab\"/></a>"
      ]
    },
    {
      "cell_type": "code",
      "metadata": {
        "id": "KhRnRPjw2Bup"
      },
      "source": [
        "! pip install -q modAL"
      ],
      "execution_count": 1,
      "outputs": []
    },
    {
      "cell_type": "code",
      "metadata": {
        "id": "q-OSxQ2t11gL"
      },
      "source": [
        "import numpy as np \n",
        "import pandas as pd\n",
        "import matplotlib.pyplot as plt\n",
        "import seaborn as sns\n",
        "import modAL\n",
        "import tensorflow_hub as hub\n",
        "import re\n",
        "from sklearn.model_selection import train_test_split\n",
        "from sklearn.ensemble import RandomForestClassifier\n",
        "from modAL import ActiveLearner\n",
        "from modAL.uncertainty import uncertainty_sampling\n",
        "from sklearn.metrics import confusion_matrix\n",
        "from IPython import display\n",
        "sns.set()"
      ],
      "execution_count": 2,
      "outputs": []
    },
    {
      "cell_type": "code",
      "metadata": {
        "id": "LBAXc-tv2tH1"
      },
      "source": [
        "embed = hub.load(\"https://tfhub.dev/google/universal-sentence-encoder-large/5\")"
      ],
      "execution_count": 3,
      "outputs": []
    },
    {
      "cell_type": "code",
      "metadata": {
        "id": "pJdsj85d2v_U"
      },
      "source": [
        "# Dataset - \n",
        "# http://help.sentiment140.com/for-students\n",
        "! wget -q http://cs.stanford.edu/people/alecmgo/trainingandtestdata.zip\n",
        "! unzip -q trainingandtestdata.zip"
      ],
      "execution_count": 4,
      "outputs": []
    },
    {
      "cell_type": "code",
      "metadata": {
        "colab": {
          "base_uri": "https://localhost:8080/"
        },
        "id": "eO4RJDUH3r5X",
        "outputId": "88068d63-f665-42b3-a2ae-98a58338f59c"
      },
      "source": [
        "# Sample of data\n",
        "! tail training.1600000.processed.noemoticon.csv"
      ],
      "execution_count": 5,
      "outputs": [
        {
          "output_type": "stream",
          "text": [
            "\"4\",\"2193579249\",\"Tue Jun 16 08:38:59 PDT 2009\",\"NO_QUERY\",\"razzberry5594\",\"WOOOOO! Xbox is back \"\n",
            "\"4\",\"2193579284\",\"Tue Jun 16 08:38:59 PDT 2009\",\"NO_QUERY\",\"AgustinaP\",\"@rmedina @LaTati Mmmm  That sounds absolutely perfect... but my schedule is full. I won't have time to lay in bed until Sunday. Ugh!!\"\n",
            "\"4\",\"2193579434\",\"Tue Jun 16 08:39:00 PDT 2009\",\"NO_QUERY\",\"sdancingsteph\",\"ReCoVeRiNg FrOm ThE lOnG wEeKeNd \"\n",
            "\"4\",\"2193579477\",\"Tue Jun 16 08:39:00 PDT 2009\",\"NO_QUERY\",\"ChloeAmisha\",\"@SCOOBY_GRITBOYS \"\n",
            "\"4\",\"2193579489\",\"Tue Jun 16 08:39:00 PDT 2009\",\"NO_QUERY\",\"EvolveTom\",\"@Cliff_Forster Yeah, that does work better than just waiting for it  In the end I just wonder if I have time to keep up a good blog.\"\n",
            "\"4\",\"2193601966\",\"Tue Jun 16 08:40:49 PDT 2009\",\"NO_QUERY\",\"AmandaMarie1028\",\"Just woke up. Having no school is the best feeling ever \"\n",
            "\"4\",\"2193601969\",\"Tue Jun 16 08:40:49 PDT 2009\",\"NO_QUERY\",\"TheWDBoards\",\"TheWDB.com - Very cool to hear old Walt interviews!  ♫ http://blip.fm/~8bmta\"\n",
            "\"4\",\"2193601991\",\"Tue Jun 16 08:40:49 PDT 2009\",\"NO_QUERY\",\"bpbabe\",\"Are you ready for your MoJo Makeover? Ask me for details \"\n",
            "\"4\",\"2193602064\",\"Tue Jun 16 08:40:49 PDT 2009\",\"NO_QUERY\",\"tinydiamondz\",\"Happy 38th Birthday to my boo of alll time!!! Tupac Amaru Shakur \"\n",
            "\"4\",\"2193602129\",\"Tue Jun 16 08:40:50 PDT 2009\",\"NO_QUERY\",\"RyanTrevMorris\",\"happy #charitytuesday @theNSPCC @SparksCharity @SpeakingUpH4H \"\n"
          ],
          "name": "stdout"
        }
      ]
    },
    {
      "cell_type": "code",
      "metadata": {
        "colab": {
          "base_uri": "https://localhost:8080/",
          "height": 206
        },
        "id": "gAcrw3vI32dl",
        "outputId": "45fd6a3b-737a-41dd-ddd1-f8a1fbfec31f"
      },
      "source": [
        "# Reading only sentiment and tweet\n",
        "data = pd.read_csv(\"training.1600000.processed.noemoticon.csv\", header=None, encoding=\"latin-1\")[[0, 5]]\n",
        "data.columns = [\"sentiment\", \"tweet\"]\n",
        "data.head()"
      ],
      "execution_count": 6,
      "outputs": [
        {
          "output_type": "execute_result",
          "data": {
            "text/html": [
              "<div>\n",
              "<style scoped>\n",
              "    .dataframe tbody tr th:only-of-type {\n",
              "        vertical-align: middle;\n",
              "    }\n",
              "\n",
              "    .dataframe tbody tr th {\n",
              "        vertical-align: top;\n",
              "    }\n",
              "\n",
              "    .dataframe thead th {\n",
              "        text-align: right;\n",
              "    }\n",
              "</style>\n",
              "<table border=\"1\" class=\"dataframe\">\n",
              "  <thead>\n",
              "    <tr style=\"text-align: right;\">\n",
              "      <th></th>\n",
              "      <th>sentiment</th>\n",
              "      <th>tweet</th>\n",
              "    </tr>\n",
              "  </thead>\n",
              "  <tbody>\n",
              "    <tr>\n",
              "      <th>0</th>\n",
              "      <td>0</td>\n",
              "      <td>@switchfoot http://twitpic.com/2y1zl - Awww, t...</td>\n",
              "    </tr>\n",
              "    <tr>\n",
              "      <th>1</th>\n",
              "      <td>0</td>\n",
              "      <td>is upset that he can't update his Facebook by ...</td>\n",
              "    </tr>\n",
              "    <tr>\n",
              "      <th>2</th>\n",
              "      <td>0</td>\n",
              "      <td>@Kenichan I dived many times for the ball. Man...</td>\n",
              "    </tr>\n",
              "    <tr>\n",
              "      <th>3</th>\n",
              "      <td>0</td>\n",
              "      <td>my whole body feels itchy and like its on fire</td>\n",
              "    </tr>\n",
              "    <tr>\n",
              "      <th>4</th>\n",
              "      <td>0</td>\n",
              "      <td>@nationwideclass no, it's not behaving at all....</td>\n",
              "    </tr>\n",
              "  </tbody>\n",
              "</table>\n",
              "</div>"
            ],
            "text/plain": [
              "   sentiment                                              tweet\n",
              "0          0  @switchfoot http://twitpic.com/2y1zl - Awww, t...\n",
              "1          0  is upset that he can't update his Facebook by ...\n",
              "2          0  @Kenichan I dived many times for the ball. Man...\n",
              "3          0    my whole body feels itchy and like its on fire \n",
              "4          0  @nationwideclass no, it's not behaving at all...."
            ]
          },
          "metadata": {
            "tags": []
          },
          "execution_count": 6
        }
      ]
    },
    {
      "cell_type": "code",
      "metadata": {
        "id": "5nZkLT-45h3I"
      },
      "source": [
        "def preprocess_text(tweet):\n",
        "    pattern = r\"^@\\w*\"\n",
        "    at_rate_name = re.findall(pattern, tweet)\n",
        "    for at_r in at_rate_name:\n",
        "        tweet = tweet.replace(at_r, \"\")\n",
        "    return tweet"
      ],
      "execution_count": 7,
      "outputs": []
    },
    {
      "cell_type": "code",
      "metadata": {
        "id": "iHwvWQb062IE"
      },
      "source": [
        "data[\"tweet\"] = data.tweet.apply(preprocess_text)"
      ],
      "execution_count": 8,
      "outputs": []
    },
    {
      "cell_type": "code",
      "metadata": {
        "colab": {
          "base_uri": "https://localhost:8080/",
          "height": 206
        },
        "id": "TyG1ssH77ATE",
        "outputId": "9b173ba3-6ff1-4f6f-bd16-2bd6b55f221f"
      },
      "source": [
        "data.head()"
      ],
      "execution_count": 9,
      "outputs": [
        {
          "output_type": "execute_result",
          "data": {
            "text/html": [
              "<div>\n",
              "<style scoped>\n",
              "    .dataframe tbody tr th:only-of-type {\n",
              "        vertical-align: middle;\n",
              "    }\n",
              "\n",
              "    .dataframe tbody tr th {\n",
              "        vertical-align: top;\n",
              "    }\n",
              "\n",
              "    .dataframe thead th {\n",
              "        text-align: right;\n",
              "    }\n",
              "</style>\n",
              "<table border=\"1\" class=\"dataframe\">\n",
              "  <thead>\n",
              "    <tr style=\"text-align: right;\">\n",
              "      <th></th>\n",
              "      <th>sentiment</th>\n",
              "      <th>tweet</th>\n",
              "    </tr>\n",
              "  </thead>\n",
              "  <tbody>\n",
              "    <tr>\n",
              "      <th>0</th>\n",
              "      <td>0</td>\n",
              "      <td>http://twitpic.com/2y1zl - Awww, that's a bum...</td>\n",
              "    </tr>\n",
              "    <tr>\n",
              "      <th>1</th>\n",
              "      <td>0</td>\n",
              "      <td>is upset that he can't update his Facebook by ...</td>\n",
              "    </tr>\n",
              "    <tr>\n",
              "      <th>2</th>\n",
              "      <td>0</td>\n",
              "      <td>I dived many times for the ball. Managed to s...</td>\n",
              "    </tr>\n",
              "    <tr>\n",
              "      <th>3</th>\n",
              "      <td>0</td>\n",
              "      <td>my whole body feels itchy and like its on fire</td>\n",
              "    </tr>\n",
              "    <tr>\n",
              "      <th>4</th>\n",
              "      <td>0</td>\n",
              "      <td>no, it's not behaving at all. i'm mad. why am...</td>\n",
              "    </tr>\n",
              "  </tbody>\n",
              "</table>\n",
              "</div>"
            ],
            "text/plain": [
              "   sentiment                                              tweet\n",
              "0          0   http://twitpic.com/2y1zl - Awww, that's a bum...\n",
              "1          0  is upset that he can't update his Facebook by ...\n",
              "2          0   I dived many times for the ball. Managed to s...\n",
              "3          0    my whole body feels itchy and like its on fire \n",
              "4          0   no, it's not behaving at all. i'm mad. why am..."
            ]
          },
          "metadata": {
            "tags": []
          },
          "execution_count": 9
        }
      ]
    },
    {
      "cell_type": "code",
      "metadata": {
        "id": "ogEeYTjl4Cw4"
      },
      "source": [
        "# 0 - negative 1 - positive\n",
        "data[\"sentiment\"] = data.sentiment.map({0: 0, 4:1})"
      ],
      "execution_count": 10,
      "outputs": []
    },
    {
      "cell_type": "code",
      "metadata": {
        "colab": {
          "base_uri": "https://localhost:8080/"
        },
        "id": "H3hPnbCiEksl",
        "outputId": "81bdd5cc-f417-4ae1-dd6e-e303aaf4c3d7"
      },
      "source": [
        "# Can't take full data so taking only small chunck \n",
        "data_small = data.sample(5_000)\n",
        "data_small.sentiment.value_counts() "
      ],
      "execution_count": 11,
      "outputs": [
        {
          "output_type": "execute_result",
          "data": {
            "text/plain": [
              "0    2509\n",
              "1    2491\n",
              "Name: sentiment, dtype: int64"
            ]
          },
          "metadata": {
            "tags": []
          },
          "execution_count": 11
        }
      ]
    },
    {
      "cell_type": "code",
      "metadata": {
        "id": "DpiZyeJM8uLh"
      },
      "source": [
        "tweet_train, tweet_test, label_train, label_test = train_test_split(data_small.tweet, data_small.sentiment, test_size=0.3)"
      ],
      "execution_count": 12,
      "outputs": []
    },
    {
      "cell_type": "code",
      "metadata": {
        "colab": {
          "base_uri": "https://localhost:8080/"
        },
        "id": "KdsWN2XSA2OG",
        "outputId": "2975fb92-fddf-4674-8f8c-83aed1a7f5f7"
      },
      "source": [
        "(tweet_train.shape, label_train.shape), (tweet_test.shape, label_test.shape)"
      ],
      "execution_count": 13,
      "outputs": [
        {
          "output_type": "execute_result",
          "data": {
            "text/plain": [
              "(((3500,), (3500,)), ((1500,), (1500,)))"
            ]
          },
          "metadata": {
            "tags": []
          },
          "execution_count": 13
        }
      ]
    },
    {
      "cell_type": "code",
      "metadata": {
        "id": "DN-2CLYV7oUw"
      },
      "source": [
        "tweet_train_emb = embed(tweet_train).numpy()"
      ],
      "execution_count": 14,
      "outputs": []
    },
    {
      "cell_type": "code",
      "metadata": {
        "id": "Q7JurwJmCqPE"
      },
      "source": [
        "tweet_test_emb  = embed(tweet_test).numpy()"
      ],
      "execution_count": 15,
      "outputs": []
    },
    {
      "cell_type": "code",
      "metadata": {
        "colab": {
          "base_uri": "https://localhost:8080/"
        },
        "id": "6pKuyo9k_Roj",
        "outputId": "d9206c98-18e1-47e0-c60d-cded6cb0dbcf"
      },
      "source": [
        "tweet_train_emb.shape, tweet_test_emb.shape"
      ],
      "execution_count": 16,
      "outputs": [
        {
          "output_type": "execute_result",
          "data": {
            "text/plain": [
              "((3500, 512), (1500, 512))"
            ]
          },
          "metadata": {
            "tags": []
          },
          "execution_count": 16
        }
      ]
    },
    {
      "cell_type": "code",
      "metadata": {
        "id": "ZG4EorKjz5HO"
      },
      "source": [
        "n_initial = 50 \n",
        "pool_tweet, initial_tweet, pool_label, initial_label, pool_tweetText, initial_tweetText = train_test_split(tweet_train_emb, \n",
        "                                                                                            label_train,\n",
        "                                                                                            tweet_train,\n",
        "                                                                                            test_size = n_initial * 1 / label_train.shape[0])"
      ],
      "execution_count": 17,
      "outputs": []
    },
    {
      "cell_type": "code",
      "metadata": {
        "id": "Jox11Cyiy_E5"
      },
      "source": [
        "initial_label   = initial_label.values\n",
        "pool_label      = pool_label.values\n",
        "pool_tweetText  = pool_tweetText.values"
      ],
      "execution_count": 18,
      "outputs": []
    },
    {
      "cell_type": "code",
      "metadata": {
        "colab": {
          "base_uri": "https://localhost:8080/"
        },
        "id": "O9j7hrT-A_Tu",
        "outputId": "d099a7ec-95fb-4d77-c8b7-94dde1e29b57"
      },
      "source": [
        "print(initial_tweet.shape)\n",
        "print(pool_tweet.shape)"
      ],
      "execution_count": 19,
      "outputs": [
        {
          "output_type": "stream",
          "text": [
            "(50, 512)\n",
            "(3450, 512)\n"
          ],
          "name": "stdout"
        }
      ]
    },
    {
      "cell_type": "code",
      "metadata": {
        "colab": {
          "base_uri": "https://localhost:8080/"
        },
        "id": "4GSb9dwjyC5J",
        "outputId": "665cef09-8f46-4be7-b677-0f17decf8d0e"
      },
      "source": [
        "# Distribution of data \n",
        "print(\"Initial Training Data\", np.unique(initial_label, return_counts=True))\n",
        "print(\"Testing Data\", np.unique(label_test, return_counts=True))\n",
        "print(\"Pool Data\",np.unique(pool_label, return_counts=True))"
      ],
      "execution_count": 20,
      "outputs": [
        {
          "output_type": "stream",
          "text": [
            "Initial Training Data (array([0, 1]), array([26, 24]))\n",
            "Testing Data (array([0, 1]), array([735, 765]))\n",
            "Pool Data (array([0, 1]), array([1748, 1702]))\n"
          ],
          "name": "stdout"
        }
      ]
    },
    {
      "cell_type": "code",
      "metadata": {
        "id": "slYNEiMCSVre"
      },
      "source": [
        "learner = ActiveLearner(estimator=RandomForestClassifier(),\n",
        "                        query_strategy=uncertainty_sampling, \n",
        "                        X_training=initial_tweet, \n",
        "                        y_training=initial_label)"
      ],
      "execution_count": 21,
      "outputs": []
    },
    {
      "cell_type": "code",
      "metadata": {
        "colab": {
          "base_uri": "https://localhost:8080/"
        },
        "id": "LhQ4BopNVgVO",
        "outputId": "7caa4a22-2f4c-49dd-e1c1-9181c0729ac9"
      },
      "source": [
        "acc_score = [learner.score(tweet_test_emb, label_test)]\n",
        "print(acc_score)"
      ],
      "execution_count": 22,
      "outputs": [
        {
          "output_type": "stream",
          "text": [
            "[0.6946666666666667]\n"
          ],
          "name": "stdout"
        }
      ]
    },
    {
      "cell_type": "code",
      "metadata": {
        "colab": {
          "base_uri": "https://localhost:8080/",
          "height": 431
        },
        "id": "K_2xok56VxZz",
        "outputId": "110190be-cad0-4650-d709-354c8c361464"
      },
      "source": [
        "# Confusion Matrix \n",
        "plt.figure(figsize=(10,7))\n",
        "sns.heatmap(confusion_matrix(label_test, \n",
        "                             learner.predict(tweet_test_emb), \n",
        "                             #labels=np.arange(0, 2), \n",
        "                             normalize=\"true\"), \n",
        "            annot=True, cmap=\"Greens\")\n",
        "plt.show()"
      ],
      "execution_count": 23,
      "outputs": [
        {
          "output_type": "display_data",
          "data": {
            "image/png": "[encoded data removed]",
            "text/plain": [
              "<Figure size 720x504 with 2 Axes>"
            ]
          },
          "metadata": {
            "tags": []
          }
        }
      ]
    },
    {
      "cell_type": "code",
      "metadata": {
        "colab": {
          "base_uri": "https://localhost:8080/",
          "height": 508
        },
        "id": "lglEAgWUWyLX",
        "outputId": "21daba33-8c60-40ab-d680-6be93afaaa32"
      },
      "source": [
        "n_query = 20\n",
        "acc_score = [learner.score(tweet_test_emb, label_test)]\n",
        "\n",
        "\n",
        "for q in range(n_query):\n",
        "    display.clear_output(wait=True)\n",
        "    query_index, query_inst = learner.query(pool_tweet)\n",
        "    with plt.style.context('seaborn-white'):\n",
        "        plt.figure(figsize=(25, 7))\n",
        "        \n",
        "        plt.subplot(1,3,2)\n",
        "        plt.title(\"Accuracy of Model\")\n",
        "        plt.plot(range(q+1), acc_score)\n",
        "        plt.scatter(range(q+1), acc_score)\n",
        "        plt.xlabel(\"Number of Queries\")\n",
        "        plt.ylabel(\"Accuracy\")\n",
        "        \n",
        "        plt.subplot(1,3,3)\n",
        "        sns.heatmap(confusion_matrix(label_test, \n",
        "                             learner.predict(tweet_test_emb), \n",
        "                             labels=np.arange(0, 2), \n",
        "                             normalize=\"true\"), \n",
        "                    annot=True, cmap=\"Greens\")\n",
        "        \n",
        "        plt.subplot(1,3,1)\n",
        "        plt.title(\"Tweet to be label\")\n",
        "        plt.text(0.1, 0.8, pool_tweetText[query_index], bbox=dict(facecolor='red', alpha=0.5))\n",
        "        display.display(plt.gcf())\n",
        "        plt.close(\"all\")\n",
        "    \n",
        "    print(\"What is the sentiment ??\",)\n",
        "    print(\"Correct Answer is :\", pool_label[query_index])\n",
        "    label_new = np.array([int(input())], dtype=int)    \n",
        "    learner.teach(query_inst, label_new)\n",
        "    pool_tweet, pool_label, pool_tweetText = np.delete(pool_tweet, query_index, axis=0), np.delete(pool_label, query_index, axis=0), np.delete(pool_tweetText, query_index, axis=0)\n",
        "    acc_score.append(learner.score(tweet_test_emb, label_test))"
      ],
      "execution_count": 26,
      "outputs": [
        {
          "output_type": "display_data",
          "data": {
            "image/png": "[encoded data removed]",
            "text/plain": [
              "<Figure size 1800x504 with 4 Axes>"
            ]
          },
          "metadata": {
            "tags": []
          }
        },
        {
          "output_type": "stream",
          "text": [
            "What is the sentiment ??\n",
            "Correct Answer is : [1]\n",
            "1\n"
          ],
          "name": "stdout"
        }
      ]
    },
    {
      "cell_type": "code",
      "metadata": {
        "colab": {
          "base_uri": "https://localhost:8080/",
          "height": 268
        },
        "id": "qo4PAQily5dy",
        "outputId": "a283e6b5-03d4-4ddc-8027-f8aabfcdfa10"
      },
      "source": [
        "sns.heatmap(confusion_matrix(pool_label, \n",
        "                        learner.predict(pool_tweet), \n",
        "                        labels=np.arange(0, 2), \n",
        "                        normalize=\"true\"), \n",
        "            annot=True, cmap=\"Greens\")\n",
        "plt.show()  "
      ],
      "execution_count": 25,
      "outputs": [
        {
          "output_type": "display_data",
          "data": {
            "image/png": "[encoded data removed]",
            "text/plain": [
              "<Figure size 432x288 with 2 Axes>"
            ]
          },
          "metadata": {
            "tags": []
          }
        }
      ]
    },
    {
      "cell_type": "code",
      "metadata": {
        "id": "j0b72IAIZtUJ"
      },
      "source": [
        ""
      ],
      "execution_count": 148,
      "outputs": []
    }
  ]
}