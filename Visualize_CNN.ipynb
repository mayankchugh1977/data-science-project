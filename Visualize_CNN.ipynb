{
  "nbformat": 4,
  "nbformat_minor": 0,
  "metadata": {
    "colab": {
      "name": "Visualize CNN.ipynb",
      "version": "0.3.2",
      "provenance": [],
      "collapsed_sections": [],
      "include_colab_link": true
    },
    "kernelspec": {
      "name": "python3",
      "display_name": "Python 3"
    },
    "accelerator": "GPU"
  },
  "cells": [
    {
      "cell_type": "markdown",
      "metadata": {
        "id": "view-in-github",
        "colab_type": "text"
      },
      "source": [
        "<a href=\"https://colab.research.google.com/github/shivam-kotwalia/data-science-project/blob/master/Visualize_CNN.ipynb\" target=\"_parent\"><img src=\"https://colab.research.google.com/assets/colab-badge.svg\" alt=\"Open In Colab\"/></a>"
      ]
    },
    {
      "cell_type": "code",
      "metadata": {
        "id": "pwqLgUWftBaG",
        "colab_type": "code",
        "colab": {}
      },
      "source": [
        "import keras\n",
        "from keras.applications.vgg16 import VGG16\n",
        "import matplotlib.pyplot"
      ],
      "execution_count": 0,
      "outputs": []
    },
    {
      "cell_type": "code",
      "metadata": {
        "id": "AEA5s95stNk8",
        "colab_type": "code",
        "colab": {
          "base_uri": "https://localhost:8080/",
          "height": 128
        },
        "outputId": "0589185c-ea8e-4275-a9bc-956be7434db4"
      },
      "source": [
        "model = VGG16()"
      ],
      "execution_count": 5,
      "outputs": [
        {
          "output_type": "stream",
          "text": [
            "WARNING:tensorflow:From /usr/local/lib/python3.6/dist-packages/tensorflow/python/framework/op_def_library.py:263: colocate_with (from tensorflow.python.framework.ops) is deprecated and will be removed in a future version.\n",
            "Instructions for updating:\n",
            "Colocations handled automatically by placer.\n",
            "Downloading data from https://github.com/fchollet/deep-learning-models/releases/download/v0.1/vgg16_weights_tf_dim_ordering_tf_kernels.h5\n",
            "553467904/553467096 [==============================] - 6s 0us/step\n"
          ],
          "name": "stdout"
        }
      ]
    },
    {
      "cell_type": "code",
      "metadata": {
        "id": "IMCWcjn1tdGQ",
        "colab_type": "code",
        "colab": {
          "base_uri": "https://localhost:8080/",
          "height": 980
        },
        "outputId": "f2306c71-e6bb-4212-b234-b3495275af4c"
      },
      "source": [
        "model.summary()"
      ],
      "execution_count": 11,
      "outputs": [
        {
          "output_type": "stream",
          "text": [
            "_________________________________________________________________\n",
            "Layer (type)                 Output Shape              Param #   \n",
            "=================================================================\n",
            "input_1 (InputLayer)         (None, 224, 224, 3)       0         \n",
            "_________________________________________________________________\n",
            "block1_conv1 (Conv2D)        (None, 224, 224, 64)      1792      \n",
            "_________________________________________________________________\n",
            "block1_conv2 (Conv2D)        (None, 224, 224, 64)      36928     \n",
            "_________________________________________________________________\n",
            "block1_pool (MaxPooling2D)   (None, 112, 112, 64)      0         \n",
            "_________________________________________________________________\n",
            "block2_conv1 (Conv2D)        (None, 112, 112, 128)     73856     \n",
            "_________________________________________________________________\n",
            "block2_conv2 (Conv2D)        (None, 112, 112, 128)     147584    \n",
            "_________________________________________________________________\n",
            "block2_pool (MaxPooling2D)   (None, 56, 56, 128)       0         \n",
            "_________________________________________________________________\n",
            "block3_conv1 (Conv2D)        (None, 56, 56, 256)       295168    \n",
            "_________________________________________________________________\n",
            "block3_conv2 (Conv2D)        (None, 56, 56, 256)       590080    \n",
            "_________________________________________________________________\n",
            "block3_conv3 (Conv2D)        (None, 56, 56, 256)       590080    \n",
            "_________________________________________________________________\n",
            "block3_pool (MaxPooling2D)   (None, 28, 28, 256)       0         \n",
            "_________________________________________________________________\n",
            "block4_conv1 (Conv2D)        (None, 28, 28, 512)       1180160   \n",
            "_________________________________________________________________\n",
            "block4_conv2 (Conv2D)        (None, 28, 28, 512)       2359808   \n",
            "_________________________________________________________________\n",
            "block4_conv3 (Conv2D)        (None, 28, 28, 512)       2359808   \n",
            "_________________________________________________________________\n",
            "block4_pool (MaxPooling2D)   (None, 14, 14, 512)       0         \n",
            "_________________________________________________________________\n",
            "block5_conv1 (Conv2D)        (None, 14, 14, 512)       2359808   \n",
            "_________________________________________________________________\n",
            "block5_conv2 (Conv2D)        (None, 14, 14, 512)       2359808   \n",
            "_________________________________________________________________\n",
            "block5_conv3 (Conv2D)        (None, 14, 14, 512)       2359808   \n",
            "_________________________________________________________________\n",
            "block5_pool (MaxPooling2D)   (None, 7, 7, 512)         0         \n",
            "_________________________________________________________________\n",
            "flatten (Flatten)            (None, 25088)             0         \n",
            "_________________________________________________________________\n",
            "fc1 (Dense)                  (None, 4096)              102764544 \n",
            "_________________________________________________________________\n",
            "fc2 (Dense)                  (None, 4096)              16781312  \n",
            "_________________________________________________________________\n",
            "predictions (Dense)          (None, 1000)              4097000   \n",
            "=================================================================\n",
            "Total params: 138,357,544\n",
            "Trainable params: 138,357,544\n",
            "Non-trainable params: 0\n",
            "_________________________________________________________________\n"
          ],
          "name": "stdout"
        }
      ]
    },
    {
      "cell_type": "code",
      "metadata": {
        "id": "My3WeylBtgLn",
        "colab_type": "code",
        "colab": {}
      },
      "source": [
        "test_layer = model.layers[1]"
      ],
      "execution_count": 0,
      "outputs": []
    },
    {
      "cell_type": "code",
      "metadata": {
        "id": "AdSU5IMxvQul",
        "colab_type": "code",
        "colab": {
          "base_uri": "https://localhost:8080/",
          "height": 453
        },
        "outputId": "808afbf7-5acf-4389-c798-b18066825ed6"
      },
      "source": [
        "test_layer.name, test_layer.input, test_layer.output, test_layer.get_config()"
      ],
      "execution_count": 18,
      "outputs": [
        {
          "output_type": "execute_result",
          "data": {
            "text/plain": [
              "('block1_conv1',\n",
              " <tf.Tensor 'input_1:0' shape=(?, 224, 224, 3) dtype=float32>,\n",
              " <tf.Tensor 'block1_conv1/Relu:0' shape=(?, 224, 224, 64) dtype=float32>,\n",
              " {'activation': 'relu',\n",
              "  'activity_regularizer': None,\n",
              "  'bias_constraint': None,\n",
              "  'bias_initializer': {'class_name': 'Zeros', 'config': {}},\n",
              "  'bias_regularizer': None,\n",
              "  'data_format': 'channels_last',\n",
              "  'dilation_rate': (1, 1),\n",
              "  'filters': 64,\n",
              "  'kernel_constraint': None,\n",
              "  'kernel_initializer': {'class_name': 'VarianceScaling',\n",
              "   'config': {'distribution': 'uniform',\n",
              "    'mode': 'fan_avg',\n",
              "    'scale': 1.0,\n",
              "    'seed': None}},\n",
              "  'kernel_regularizer': None,\n",
              "  'kernel_size': (3, 3),\n",
              "  'name': 'block1_conv1',\n",
              "  'padding': 'same',\n",
              "  'strides': (1, 1),\n",
              "  'trainable': True,\n",
              "  'use_bias': True})"
            ]
          },
          "metadata": {
            "tags": []
          },
          "execution_count": 18
        }
      ]
    },
    {
      "cell_type": "code",
      "metadata": {
        "id": "iHj105nDvqjs",
        "colab_type": "code",
        "colab": {
          "base_uri": "https://localhost:8080/",
          "height": 35
        },
        "outputId": "e37e048f-e85d-471c-b50c-e2d3ac1d55c3"
      },
      "source": [
        "len(test_layer.get_weights())"
      ],
      "execution_count": 20,
      "outputs": [
        {
          "output_type": "execute_result",
          "data": {
            "text/plain": [
              "2"
            ]
          },
          "metadata": {
            "tags": []
          },
          "execution_count": 20
        }
      ]
    },
    {
      "cell_type": "code",
      "metadata": {
        "id": "NF1hrl-CwjTV",
        "colab_type": "code",
        "colab": {
          "base_uri": "https://localhost:8080/",
          "height": 35
        },
        "outputId": "13c85ef7-cff7-459f-f3d6-586d5ad70696"
      },
      "source": [
        "test_layer.get_weights()[0].shape, test_layer.get_weights()[1].shape"
      ],
      "execution_count": 24,
      "outputs": [
        {
          "output_type": "execute_result",
          "data": {
            "text/plain": [
              "((3, 3, 3, 64), (64,))"
            ]
          },
          "metadata": {
            "tags": []
          },
          "execution_count": 24
        }
      ]
    },
    {
      "cell_type": "code",
      "metadata": {
        "id": "bNrpsM6Eyiae",
        "colab_type": "code",
        "colab": {
          "base_uri": "https://localhost:8080/",
          "height": 35
        },
        "outputId": "c736daee-e4b2-453e-8c76-6cd8f0f4183a"
      },
      "source": [
        "model.layers[2].get_weights()[0].shape, model.layers[2].get_weights()[1].shape"
      ],
      "execution_count": 36,
      "outputs": [
        {
          "output_type": "execute_result",
          "data": {
            "text/plain": [
              "((3, 3, 64, 64), (64,))"
            ]
          },
          "metadata": {
            "tags": []
          },
          "execution_count": 36
        }
      ]
    },
    {
      "cell_type": "code",
      "metadata": {
        "id": "cqIswAT3w6vr",
        "colab_type": "code",
        "colab": {
          "base_uri": "https://localhost:8080/",
          "height": 435
        },
        "outputId": "81d52429-ad08-43a3-8173-166a3da1eed0"
      },
      "source": [
        "[(i, i.name) for i in model.layers] #Get all the conv layers   # NOTE CONV has 2 weights one for filters and one for bias"
      ],
      "execution_count": 29,
      "outputs": [
        {
          "output_type": "execute_result",
          "data": {
            "text/plain": [
              "[(<keras.engine.input_layer.InputLayer at 0x7f3936624710>, 'input_1'),\n",
              " (<keras.layers.convolutional.Conv2D at 0x7f3936624780>, 'block1_conv1'),\n",
              " (<keras.layers.convolutional.Conv2D at 0x7f3936624dd8>, 'block1_conv2'),\n",
              " (<keras.layers.pooling.MaxPooling2D at 0x7f39365d2f98>, 'block1_pool'),\n",
              " (<keras.layers.convolutional.Conv2D at 0x7f39365d2dd8>, 'block2_conv1'),\n",
              " (<keras.layers.convolutional.Conv2D at 0x7f3936544d68>, 'block2_conv2'),\n",
              " (<keras.layers.pooling.MaxPooling2D at 0x7f393656b668>, 'block2_pool'),\n",
              " (<keras.layers.convolutional.Conv2D at 0x7f393656b198>, 'block3_conv1'),\n",
              " (<keras.layers.convolutional.Conv2D at 0x7f393659b320>, 'block3_conv2'),\n",
              " (<keras.layers.convolutional.Conv2D at 0x7f3935cf0940>, 'block3_conv3'),\n",
              " (<keras.layers.pooling.MaxPooling2D at 0x7f3935d08fd0>, 'block3_pool'),\n",
              " (<keras.layers.convolutional.Conv2D at 0x7f3935d08978>, 'block4_conv1'),\n",
              " (<keras.layers.convolutional.Conv2D at 0x7f3935cb3ba8>, 'block4_conv2'),\n",
              " (<keras.layers.convolutional.Conv2D at 0x7f3935cc9c18>, 'block4_conv3'),\n",
              " (<keras.layers.pooling.MaxPooling2D at 0x7f3935c79ba8>, 'block4_pool'),\n",
              " (<keras.layers.convolutional.Conv2D at 0x7f3935c79518>, 'block5_conv1'),\n",
              " (<keras.layers.convolutional.Conv2D at 0x7f3935ca33c8>, 'block5_conv2'),\n",
              " (<keras.layers.convolutional.Conv2D at 0x7f3935c3ae10>, 'block5_conv3'),\n",
              " (<keras.layers.pooling.MaxPooling2D at 0x7f3935c656a0>, 'block5_pool'),\n",
              " (<keras.layers.core.Flatten at 0x7f3935c651d0>, 'flatten'),\n",
              " (<keras.layers.core.Dense at 0x7f3935c00e10>, 'fc1'),\n",
              " (<keras.layers.core.Dense at 0x7f3935c14f98>, 'fc2'),\n",
              " (<keras.layers.core.Dense at 0x7f3935bac6d8>, 'predictions')]"
            ]
          },
          "metadata": {
            "tags": []
          },
          "execution_count": 29
        }
      ]
    },
    {
      "cell_type": "code",
      "metadata": {
        "id": "moSdmXTGxM4W",
        "colab_type": "code",
        "colab": {
          "base_uri": "https://localhost:8080/",
          "height": 253
        },
        "outputId": "d551f8bd-ad18-4856-ca8c-032046a1c9dd"
      },
      "source": [
        "for layer in model.layers:\n",
        "  if \"conv\" in layer.name:\n",
        "    print(layer.name)"
      ],
      "execution_count": 30,
      "outputs": [
        {
          "output_type": "stream",
          "text": [
            "block1_conv1\n",
            "block1_conv2\n",
            "block2_conv1\n",
            "block2_conv2\n",
            "block3_conv1\n",
            "block3_conv2\n",
            "block3_conv3\n",
            "block4_conv1\n",
            "block4_conv2\n",
            "block4_conv3\n",
            "block5_conv1\n",
            "block5_conv2\n",
            "block5_conv3\n"
          ],
          "name": "stdout"
        }
      ]
    },
    {
      "cell_type": "code",
      "metadata": {
        "id": "0rqFF1FjxtLp",
        "colab_type": "code",
        "colab": {}
      },
      "source": [
        ""
      ],
      "execution_count": 0,
      "outputs": []
    },
    {
      "cell_type": "code",
      "metadata": {
        "id": "VxV2W39QyX1t",
        "colab_type": "code",
        "colab": {}
      },
      "source": [
        ""
      ],
      "execution_count": 0,
      "outputs": []
    }
  ]
}