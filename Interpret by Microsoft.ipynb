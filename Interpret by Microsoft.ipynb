{
  "nbformat": 4,
  "nbformat_minor": 0,
  "metadata": {
    "colab": {
      "name": "Untitled2.ipynb",
      "version": "0.3.2",
      "provenance": [],
      "include_colab_link": true
    },
    "kernelspec": {
      "name": "python3",
      "display_name": "Python 3"
    }
  },
  "cells": [
    {
      "cell_type": "markdown",
      "metadata": {
        "id": "view-in-github",
        "colab_type": "text"
      },
      "source": [
        "<a href=\"https://colab.research.google.com/github/shivam-kotwalia/data-science-project/blob/master/Interpret%20by%20Microsoft.ipynb\" target=\"_parent\"><img src=\"https://colab.research.google.com/assets/colab-badge.svg\" alt=\"Open In Colab\"/></a>"
      ]
    },
    {
      "cell_type": "code",
      "metadata": {
        "id": "JJNIwfmIOjjn",
        "colab_type": "code",
        "colab": {}
      },
      "source": [
        ""
      ],
      "execution_count": 0,
      "outputs": []
    },
    {
      "cell_type": "markdown",
      "metadata": {
        "id": "moXfZSSMO2sr",
        "colab_type": "text"
      },
      "source": [
        "# Interpret By Microsoft\n",
        "https://github.com/microsoft/interpret\n",
        "\n",
        "InterpretML is an open-source package for training interpretable models and explaining blackbox systems. Interpretability is essential for:\n",
        "\n",
        "    Model debugging - Why did my model make this mistake?\n",
        "    Detecting bias - Does my model discriminate?\n",
        "    Human-AI cooperation - How can I understand and trust the model's decisions?\n",
        "    Regulatory compliance - Does my model satisfy legal requirements?\n",
        "    High-risk applications - Healthcare, finance, judicial, ...\n"
      ]
    },
    {
      "cell_type": "code",
      "metadata": {
        "id": "2JTfs2haPGk2",
        "colab_type": "code",
        "outputId": "2f984702-9bf0-4bd6-b216-bb12da65b4ae",
        "colab": {
          "base_uri": "https://localhost:8080/",
          "height": 653
        }
      },
      "source": [
        "! pip install --upgrade numpy scipy pyscaffold --quiet \n",
        "! pip install --upgrade interpret --quiet"
      ],
      "execution_count": 1,
      "outputs": [
        {
          "output_type": "stream",
          "text": [
            "\u001b[K     |████████████████████████████████| 174kB 2.0MB/s \n",
            "\u001b[K     |████████████████████████████████| 3.7MB 2.0MB/s \n",
            "\u001b[K     |████████████████████████████████| 235kB 46.4MB/s \n",
            "\u001b[K     |████████████████████████████████| 41.2MB 1.6MB/s \n",
            "\u001b[K     |████████████████████████████████| 778kB 46.6MB/s \n",
            "\u001b[K     |████████████████████████████████| 235kB 13.8MB/s \n",
            "\u001b[K     |████████████████████████████████| 276kB 49.5MB/s \n",
            "\u001b[K     |████████████████████████████████| 122kB 43.5MB/s \n",
            "\u001b[K     |████████████████████████████████| 3.4MB 42.6MB/s \n",
            "\u001b[K     |████████████████████████████████| 757kB 43.8MB/s \n",
            "\u001b[K     |████████████████████████████████| 24.8MB 1.4MB/s \n",
            "\u001b[K     |████████████████████████████████| 4.2MB 31.7MB/s \n",
            "\u001b[K     |████████████████████████████████| 2.0MB 35.6MB/s \n",
            "\u001b[K     |████████████████████████████████| 40kB 14.5MB/s \n",
            "\u001b[K     |████████████████████████████████| 542kB 44.5MB/s \n",
            "\u001b[K     |████████████████████████████████| 747kB 45.4MB/s \n",
            "\u001b[K     |████████████████████████████████| 921kB 43.0MB/s \n",
            "\u001b[K     |████████████████████████████████| 337kB 46.2MB/s \n",
            "\u001b[K     |████████████████████████████████| 471kB 43.3MB/s \n",
            "\u001b[?25h  Building wheel for shap (setup.py) ... \u001b[?25l\u001b[?25hdone\n",
            "  Building wheel for lime (setup.py) ... \u001b[?25l\u001b[?25hdone\n",
            "  Building wheel for dash-cytoscape (setup.py) ... \u001b[?25l\u001b[?25hdone\n",
            "  Building wheel for SALib (setup.py) ... \u001b[?25l\u001b[?25hdone\n",
            "  Building wheel for dash-core-components (setup.py) ... \u001b[?25l\u001b[?25hdone\n",
            "  Building wheel for skope-rules (setup.py) ... \u001b[?25l\u001b[?25hdone\n",
            "  Building wheel for dash (setup.py) ... \u001b[?25l\u001b[?25hdone\n",
            "  Building wheel for dash-html-components (setup.py) ... \u001b[?25l\u001b[?25hdone\n",
            "  Building wheel for dash-table-experiments (setup.py) ... \u001b[?25l\u001b[?25hdone\n",
            "  Building wheel for dash-renderer (setup.py) ... \u001b[?25l\u001b[?25hdone\n",
            "  Building wheel for flask-compress (setup.py) ... \u001b[?25l\u001b[?25hdone\n",
            "  Building wheel for dash-table (setup.py) ... \u001b[?25l\u001b[?25hdone\n",
            "\u001b[31mERROR: google-colab 1.0.0 has requirement ipykernel~=4.6.0, but you'll have ipykernel 5.1.1 which is incompatible.\u001b[0m\n",
            "\u001b[31mERROR: google-colab 1.0.0 has requirement ipython~=5.5.0, but you'll have ipython 7.5.0 which is incompatible.\u001b[0m\n",
            "\u001b[31mERROR: datascience 0.10.6 has requirement folium==0.2.1, but you'll have folium 0.8.3 which is incompatible.\u001b[0m\n",
            "\u001b[31mERROR: albumentations 0.1.12 has requirement imgaug<0.2.7,>=0.2.5, but you'll have imgaug 0.2.9 which is incompatible.\u001b[0m\n"
          ],
          "name": "stdout"
        }
      ]
    },
    {
      "cell_type": "code",
      "metadata": {
        "id": "E9JVIWkSPLsA",
        "colab_type": "code",
        "colab": {}
      },
      "source": [
        "import interpret "
      ],
      "execution_count": 0,
      "outputs": []
    },
    {
      "cell_type": "code",
      "metadata": {
        "id": "zEZHkRXM6mfJ",
        "colab_type": "code",
        "colab": {}
      },
      "source": [
        "import pandas as pd\n",
        "from sklearn.model_selection import train_test_split\n",
        "\n",
        "df = pd.read_csv(\n",
        "    \"https://archive.ics.uci.edu/ml/machine-learning-databases/adult/adult.data\",\n",
        "    header=None)\n",
        "df.columns = [\n",
        "    \"Age\", \"WorkClass\", \"fnlwgt\", \"Education\", \"EducationNum\",\n",
        "    \"MaritalStatus\", \"Occupation\", \"Relationship\", \"Race\", \"Gender\",\n",
        "    \"CapitalGain\", \"CapitalLoss\", \"HoursPerWeek\", \"NativeCountry\", \"Income\"\n",
        "]\n",
        "train_cols = df.columns[0:-1]\n",
        "label = df.columns[-1]\n",
        "X = df[train_cols]\n",
        "y = df[label].apply(lambda x: 0 if x == \" <=50K\" else 1) #Turning response into 0 and 1\n",
        "\n",
        "seed = 1\n",
        "X_train, X_test, y_train, y_test = train_test_split(X, y, test_size=0.20, random_state=seed)"
      ],
      "execution_count": 0,
      "outputs": []
    },
    {
      "cell_type": "code",
      "metadata": {
        "id": "5cO-7geXrOLj",
        "colab_type": "code",
        "colab": {
          "base_uri": "https://localhost:8080/",
          "height": 35
        },
        "outputId": "d8cdf445-86bc-4fa0-fa1f-dc9d34a69230"
      },
      "source": [
        "import socket\n",
        "print(socket.gethostbyname(socket.getfqdn(socket.gethostname())))"
      ],
      "execution_count": 12,
      "outputs": [
        {
          "output_type": "stream",
          "text": [
            "172.28.0.2\n"
          ],
          "name": "stdout"
        }
      ]
    },
    {
      "cell_type": "code",
      "metadata": {
        "id": "N355wzL79yWh",
        "colab_type": "code",
        "colab": {
          "base_uri": "https://localhost:8080/",
          "height": 821
        },
        "outputId": "4d7624de-50b7-4604-8c5d-ebb63e0f4baa"
      },
      "source": [
        "from interpret import show, set_show_addr\n",
        "from interpret.data import ClassHistogram\n",
        "\n",
        "hist = ClassHistogram().explain_data(X_train, y_train, name = 'Train Data')\n",
        "set_show_addr((\"0.0.0.0\", 5001))\n",
        "show(hist)"
      ],
      "execution_count": 17,
      "outputs": [
        {
          "output_type": "display_data",
          "data": {
            "text/html": [
              "\n",
              "            <iframe src=\"http://0.0.0.0:5001/139728316981376/\" width=100% height=800 frameBorder=\"0\"></iframe>\n",
              "        "
            ]
          },
          "metadata": {
            "tags": []
          }
        }
      ]
    },
    {
      "cell_type": "code",
      "metadata": {
        "id": "IJXfw6uZ927s",
        "colab_type": "code",
        "colab": {
          "base_uri": "https://localhost:8080/",
          "height": 253
        },
        "outputId": "ce2c600b-4085-4537-9848-9a002879727e"
      },
      "source": [
        "!wget https://bin.equinox.io/c/4VmDzA7iaHb/ngrok-stable-linux-amd64.zip\n",
        "!unzip ngrok-stable-linux-amd64.zip"
      ],
      "execution_count": 16,
      "outputs": [
        {
          "output_type": "stream",
          "text": [
            "--2019-05-23 03:24:17--  https://bin.equinox.io/c/4VmDzA7iaHb/ngrok-stable-linux-amd64.zip\n",
            "Resolving bin.equinox.io (bin.equinox.io)... 3.214.163.243, 52.207.111.186, 52.4.95.48, ...\n",
            "Connecting to bin.equinox.io (bin.equinox.io)|3.214.163.243|:443... connected.\n",
            "HTTP request sent, awaiting response... 200 OK\n",
            "Length: 16648024 (16M) [application/octet-stream]\n",
            "Saving to: ‘ngrok-stable-linux-amd64.zip’\n",
            "\n",
            "\r          ngrok-sta   0%[                    ]       0  --.-KB/s               \r         ngrok-stab  67%[============>       ]  10.71M  53.5MB/s               \rngrok-stable-linux- 100%[===================>]  15.88M  66.5MB/s    in 0.2s    \n",
            "\n",
            "2019-05-23 03:24:18 (66.5 MB/s) - ‘ngrok-stable-linux-amd64.zip’ saved [16648024/16648024]\n",
            "\n",
            "Archive:  ngrok-stable-linux-amd64.zip\n",
            "  inflating: ngrok                   \n"
          ],
          "name": "stdout"
        }
      ]
    },
    {
      "cell_type": "code",
      "metadata": {
        "id": "wXtPAeIFqk0Q",
        "colab_type": "code",
        "colab": {}
      },
      "source": [
        "get_ipython().system_raw('./ngrok http 5001 &')"
      ],
      "execution_count": 0,
      "outputs": []
    },
    {
      "cell_type": "code",
      "metadata": {
        "id": "g7oT5fc2uL7D",
        "colab_type": "code",
        "colab": {
          "base_uri": "https://localhost:8080/",
          "height": 35
        },
        "outputId": "451e0a88-bdbb-4d11-e9b1-65c90d1ac126"
      },
      "source": [
        "! curl -s http://localhost:4040/api/tunnels | python -c \\\n",
        "    \"import sys, json; print(json.load(sys.stdin)['tunnels'][0]['public_url'])\""
      ],
      "execution_count": 19,
      "outputs": [
        {
          "output_type": "stream",
          "text": [
            "https://a13c73ea.ngrok.io\n"
          ],
          "name": "stdout"
        }
      ]
    },
    {
      "cell_type": "code",
      "metadata": {
        "id": "t7m2vD7ZuQXO",
        "colab_type": "code",
        "colab": {}
      },
      "source": [
        ""
      ],
      "execution_count": 0,
      "outputs": []
    }
  ]
}