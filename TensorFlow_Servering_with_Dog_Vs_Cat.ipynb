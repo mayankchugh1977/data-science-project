{
  "nbformat": 4,
  "nbformat_minor": 0,
  "metadata": {
    "accelerator": "GPU",
    "colab": {
      "name": "TensorFlow Servering with Dog-Vs-Cat.ipynb",
      "provenance": [],
      "collapsed_sections": [],
      "include_colab_link": true
    },
    "kernelspec": {
      "display_name": "Python 3",
      "language": "python",
      "name": "python3"
    },
    "language_info": {
      "codemirror_mode": {
        "name": "ipython",
        "version": 3
      },
      "file_extension": ".py",
      "mimetype": "text/x-python",
      "name": "python",
      "nbconvert_exporter": "python",
      "pygments_lexer": "ipython3",
      "version": "3.7.4"
    },
    "widgets": {
      "application/vnd.jupyter.widget-state+json": {
        "7a1fc2cf28d24259873e064d79b0f3be": {
          "model_module": "@jupyter-widgets/controls",
          "model_name": "HBoxModel",
          "state": {
            "_view_name": "HBoxView",
            "_dom_classes": [],
            "_model_name": "HBoxModel",
            "_view_module": "@jupyter-widgets/controls",
            "_model_module_version": "1.5.0",
            "_view_count": null,
            "_view_module_version": "1.5.0",
            "box_style": "",
            "layout": "IPY_MODEL_3bab3d6c81ea4f7aa9589055f2bc31ca",
            "_model_module": "@jupyter-widgets/controls",
            "children": [
              "IPY_MODEL_fdc6830199fd4cdaa15128080f36f4a8",
              "IPY_MODEL_989471b8fa104edab8cf7702149ab09d"
            ]
          }
        },
        "3bab3d6c81ea4f7aa9589055f2bc31ca": {
          "model_module": "@jupyter-widgets/base",
          "model_name": "LayoutModel",
          "state": {
            "_view_name": "LayoutView",
            "grid_template_rows": null,
            "right": null,
            "justify_content": null,
            "_view_module": "@jupyter-widgets/base",
            "overflow": null,
            "_model_module_version": "1.2.0",
            "_view_count": null,
            "flex_flow": null,
            "width": null,
            "min_width": null,
            "border": null,
            "align_items": null,
            "bottom": null,
            "_model_module": "@jupyter-widgets/base",
            "top": null,
            "grid_column": null,
            "overflow_y": null,
            "overflow_x": null,
            "grid_auto_flow": null,
            "grid_area": null,
            "grid_template_columns": null,
            "flex": null,
            "_model_name": "LayoutModel",
            "justify_items": null,
            "grid_row": null,
            "max_height": null,
            "align_content": null,
            "visibility": null,
            "align_self": null,
            "height": null,
            "min_height": null,
            "padding": null,
            "grid_auto_rows": null,
            "grid_gap": null,
            "max_width": null,
            "order": null,
            "_view_module_version": "1.2.0",
            "grid_template_areas": null,
            "object_position": null,
            "object_fit": null,
            "grid_auto_columns": null,
            "margin": null,
            "display": null,
            "left": null
          }
        },
        "fdc6830199fd4cdaa15128080f36f4a8": {
          "model_module": "@jupyter-widgets/controls",
          "model_name": "FloatProgressModel",
          "state": {
            "_view_name": "ProgressView",
            "style": "IPY_MODEL_4fa172c839684808ad5230d7cac5609d",
            "_dom_classes": [],
            "description": "100%",
            "_model_name": "FloatProgressModel",
            "bar_style": "success",
            "max": 25000,
            "_view_module": "@jupyter-widgets/controls",
            "_model_module_version": "1.5.0",
            "value": 25000,
            "_view_count": null,
            "_view_module_version": "1.5.0",
            "orientation": "horizontal",
            "min": 0,
            "description_tooltip": null,
            "_model_module": "@jupyter-widgets/controls",
            "layout": "IPY_MODEL_7eb1896b2ba6488f9ec623ecb09630ac"
          }
        },
        "989471b8fa104edab8cf7702149ab09d": {
          "model_module": "@jupyter-widgets/controls",
          "model_name": "HTMLModel",
          "state": {
            "_view_name": "HTMLView",
            "style": "IPY_MODEL_f60a4127bb1c439c8ce775b01bdfd887",
            "_dom_classes": [],
            "description": "",
            "_model_name": "HTMLModel",
            "placeholder": "​",
            "_view_module": "@jupyter-widgets/controls",
            "_model_module_version": "1.5.0",
            "value": " 25000/25000 [00:25&lt;00:00, 974.36it/s]",
            "_view_count": null,
            "_view_module_version": "1.5.0",
            "description_tooltip": null,
            "_model_module": "@jupyter-widgets/controls",
            "layout": "IPY_MODEL_15bb2e5c07a741d4946b902307d1c13c"
          }
        },
        "4fa172c839684808ad5230d7cac5609d": {
          "model_module": "@jupyter-widgets/controls",
          "model_name": "ProgressStyleModel",
          "state": {
            "_view_name": "StyleView",
            "_model_name": "ProgressStyleModel",
            "description_width": "initial",
            "_view_module": "@jupyter-widgets/base",
            "_model_module_version": "1.5.0",
            "_view_count": null,
            "_view_module_version": "1.2.0",
            "bar_color": null,
            "_model_module": "@jupyter-widgets/controls"
          }
        },
        "7eb1896b2ba6488f9ec623ecb09630ac": {
          "model_module": "@jupyter-widgets/base",
          "model_name": "LayoutModel",
          "state": {
            "_view_name": "LayoutView",
            "grid_template_rows": null,
            "right": null,
            "justify_content": null,
            "_view_module": "@jupyter-widgets/base",
            "overflow": null,
            "_model_module_version": "1.2.0",
            "_view_count": null,
            "flex_flow": null,
            "width": null,
            "min_width": null,
            "border": null,
            "align_items": null,
            "bottom": null,
            "_model_module": "@jupyter-widgets/base",
            "top": null,
            "grid_column": null,
            "overflow_y": null,
            "overflow_x": null,
            "grid_auto_flow": null,
            "grid_area": null,
            "grid_template_columns": null,
            "flex": null,
            "_model_name": "LayoutModel",
            "justify_items": null,
            "grid_row": null,
            "max_height": null,
            "align_content": null,
            "visibility": null,
            "align_self": null,
            "height": null,
            "min_height": null,
            "padding": null,
            "grid_auto_rows": null,
            "grid_gap": null,
            "max_width": null,
            "order": null,
            "_view_module_version": "1.2.0",
            "grid_template_areas": null,
            "object_position": null,
            "object_fit": null,
            "grid_auto_columns": null,
            "margin": null,
            "display": null,
            "left": null
          }
        },
        "f60a4127bb1c439c8ce775b01bdfd887": {
          "model_module": "@jupyter-widgets/controls",
          "model_name": "DescriptionStyleModel",
          "state": {
            "_view_name": "StyleView",
            "_model_name": "DescriptionStyleModel",
            "description_width": "",
            "_view_module": "@jupyter-widgets/base",
            "_model_module_version": "1.5.0",
            "_view_count": null,
            "_view_module_version": "1.2.0",
            "_model_module": "@jupyter-widgets/controls"
          }
        },
        "15bb2e5c07a741d4946b902307d1c13c": {
          "model_module": "@jupyter-widgets/base",
          "model_name": "LayoutModel",
          "state": {
            "_view_name": "LayoutView",
            "grid_template_rows": null,
            "right": null,
            "justify_content": null,
            "_view_module": "@jupyter-widgets/base",
            "overflow": null,
            "_model_module_version": "1.2.0",
            "_view_count": null,
            "flex_flow": null,
            "width": null,
            "min_width": null,
            "border": null,
            "align_items": null,
            "bottom": null,
            "_model_module": "@jupyter-widgets/base",
            "top": null,
            "grid_column": null,
            "overflow_y": null,
            "overflow_x": null,
            "grid_auto_flow": null,
            "grid_area": null,
            "grid_template_columns": null,
            "flex": null,
            "_model_name": "LayoutModel",
            "justify_items": null,
            "grid_row": null,
            "max_height": null,
            "align_content": null,
            "visibility": null,
            "align_self": null,
            "height": null,
            "min_height": null,
            "padding": null,
            "grid_auto_rows": null,
            "grid_gap": null,
            "max_width": null,
            "order": null,
            "_view_module_version": "1.2.0",
            "grid_template_areas": null,
            "object_position": null,
            "object_fit": null,
            "grid_auto_columns": null,
            "margin": null,
            "display": null,
            "left": null
          }
        }
      }
    }
  },
  "cells": [
    {
      "cell_type": "markdown",
      "metadata": {
        "id": "view-in-github",
        "colab_type": "text"
      },
      "source": [
        "<a href=\"https://colab.research.google.com/github/shivam-kotwalia/data-science-project/blob/master/TensorFlow_Servering_with_Dog_Vs_Cat.ipynb\" target=\"_parent\"><img src=\"https://colab.research.google.com/assets/colab-badge.svg\" alt=\"Open In Colab\"/></a>"
      ]
    },
    {
      "cell_type": "code",
      "metadata": {
        "colab_type": "code",
        "id": "UspWxeqnQi-_",
        "outputId": "691a5e95-031e-4bc7-f4a0-5e711397370d",
        "colab": {
          "base_uri": "https://localhost:8080/",
          "height": 111
        }
      },
      "source": [
        "%tensorflow_version 2.x #this line should only be used on google colab"
      ],
      "execution_count": 1,
      "outputs": [
        {
          "output_type": "stream",
          "text": [
            "`%tensorflow_version` only switches the major version: 1.x or 2.x.\n",
            "You set: `2.x #this line should only be used on google colab`. This will be interpreted as: `2.x`.\n",
            "\n",
            "\n",
            "TensorFlow 2.x selected.\n"
          ],
          "name": "stdout"
        }
      ]
    },
    {
      "cell_type": "code",
      "metadata": {
        "id": "q-aG43_X8O8T",
        "colab_type": "code",
        "colab": {}
      },
      "source": [
        "! pip uninstall -q -y kaggle\n",
        "! pip install -q --upgrade kaggle"
      ],
      "execution_count": 0,
      "outputs": []
    },
    {
      "cell_type": "code",
      "metadata": {
        "colab_type": "code",
        "id": "xbh7OFx-QvOS",
        "outputId": "733dd172-cc3a-40f0-9e86-ab6442854f94",
        "colab": {
          "base_uri": "https://localhost:8080/",
          "height": 36
        }
      },
      "source": [
        "import tensorflow as tf\n",
        "tf.__version__"
      ],
      "execution_count": 9,
      "outputs": [
        {
          "output_type": "execute_result",
          "data": {
            "text/plain": [
              "'2.2.0'"
            ]
          },
          "metadata": {
            "tags": []
          },
          "execution_count": 9
        }
      ]
    },
    {
      "cell_type": "code",
      "metadata": {
        "colab_type": "code",
        "id": "2HpozJnpQ895",
        "colab": {
          "base_uri": "https://localhost:8080/",
          "height": 36
        },
        "outputId": "07a90b4f-4be3-405a-ee73-d7c5a9ec0d56"
      },
      "source": [
        "!mkdir -p /root/.kaggle\n",
        "!mv kaggle.json /root/.kaggle"
      ],
      "execution_count": 10,
      "outputs": [
        {
          "output_type": "stream",
          "text": [
            "mkdir: cannot create directory ‘/root/.kaggle’: File exists\n"
          ],
          "name": "stdout"
        }
      ]
    },
    {
      "cell_type": "code",
      "metadata": {
        "colab_type": "code",
        "id": "IU-bO-WySZmR",
        "outputId": "22a47286-84ac-4613-cf60-711765ab3cef",
        "colab": {
          "base_uri": "https://localhost:8080/",
          "height": 56
        }
      },
      "source": [
        "import kaggle"
      ],
      "execution_count": 11,
      "outputs": [
        {
          "output_type": "stream",
          "text": [
            "Warning: Your Kaggle API key is readable by other users on this system! To fix this, you can run 'chmod 600 /root/.kaggle/kaggle.json'\n"
          ],
          "name": "stdout"
        }
      ]
    },
    {
      "cell_type": "code",
      "metadata": {
        "colab_type": "code",
        "id": "gaEHiJYdRw0C",
        "outputId": "0dc5664b-c510-4517-cb12-df56a48c5e48",
        "colab": {
          "base_uri": "https://localhost:8080/",
          "height": 112
        }
      },
      "source": [
        "!kaggle competitions download -c dogs-vs-cats"
      ],
      "execution_count": 20,
      "outputs": [
        {
          "output_type": "stream",
          "text": [
            "Warning: Your Kaggle API key is readable by other users on this system! To fix this, you can run 'chmod 600 /root/.kaggle/kaggle.json'\n",
            "Downloading dogs-vs-cats.zip to /content\n",
            " 98% 797M/812M [00:05<00:00, 168MB/s]\n",
            "100% 812M/812M [00:05<00:00, 163MB/s]\n"
          ],
          "name": "stdout"
        }
      ]
    },
    {
      "cell_type": "code",
      "metadata": {
        "colab_type": "code",
        "id": "O0cl6FHoSHGw",
        "colab": {}
      },
      "source": [
        "!unzip -q dogs-vs-cats.zip"
      ],
      "execution_count": 0,
      "outputs": []
    },
    {
      "cell_type": "code",
      "metadata": {
        "id": "AxUt5Rds9ZY_",
        "colab_type": "code",
        "colab": {}
      },
      "source": [
        "! rm -rf test1.zip"
      ],
      "execution_count": 0,
      "outputs": []
    },
    {
      "cell_type": "code",
      "metadata": {
        "id": "gx2Tm2Ot9eIj",
        "colab_type": "code",
        "colab": {}
      },
      "source": [
        "! unzip -q train.zip"
      ],
      "execution_count": 0,
      "outputs": []
    },
    {
      "cell_type": "code",
      "metadata": {
        "colab_type": "code",
        "id": "XH2zgiSPS1Yo",
        "colab": {}
      },
      "source": [
        "import cv2\n",
        "import os\n",
        "import numpy as np\n",
        "import matplotlib.pyplot as plt\n",
        "import tqdm"
      ],
      "execution_count": 0,
      "outputs": []
    },
    {
      "cell_type": "code",
      "metadata": {
        "colab_type": "code",
        "id": "dyHp6kg0TK6o",
        "colab": {}
      },
      "source": [
        "# X = []\n",
        "# Y = []\n",
        "\n",
        "# for image_name in tqdm.tqdm_notebook(os.listdir(\"train\")[:5000]):\n",
        "#   image = cv2.imread(\"train/\"+image_name)\n",
        "#   image = cv2.resize(image,(150,150))\n",
        "#   image = image/255 #min max scaling\n",
        "#   X.append(image)\n",
        "#   if \"dog\" in image_name:\n",
        "#     Y.append(1)\n",
        "#   else:\n",
        "#     Y.append(0)"
      ],
      "execution_count": 0,
      "outputs": []
    },
    {
      "cell_type": "code",
      "metadata": {
        "id": "ku3CizlrWWfk",
        "colab_type": "code",
        "outputId": "8380bb08-2209-472c-e93b-8a8f860516f3",
        "colab": {
          "base_uri": "https://localhost:8080/",
          "height": 36
        }
      },
      "source": [
        "# *********************************\n",
        "# | - train_data\n",
        "#   | - cat\n",
        "#   | - dog\n",
        "# *********************************\n",
        "master_folder = \"train_data\"\n",
        "os.mkdir(master_folder)\n",
        "unique_class = [\"cat\", \"dog\"]\n",
        "[os.mkdir(os.path.join(\".\", master_folder, i)) for i in unique_class]"
      ],
      "execution_count": 26,
      "outputs": [
        {
          "output_type": "execute_result",
          "data": {
            "text/plain": [
              "[None, None]"
            ]
          },
          "metadata": {
            "tags": []
          },
          "execution_count": 26
        }
      ]
    },
    {
      "cell_type": "code",
      "metadata": {
        "id": "dDc8PJrhXuWQ",
        "colab_type": "code",
        "outputId": "82768786-471f-479c-8877-5c7929a94d1c",
        "colab": {
          "base_uri": "https://localhost:8080/",
          "height": 144,
          "referenced_widgets": [
            "7a1fc2cf28d24259873e064d79b0f3be",
            "3bab3d6c81ea4f7aa9589055f2bc31ca",
            "fdc6830199fd4cdaa15128080f36f4a8",
            "989471b8fa104edab8cf7702149ab09d",
            "4fa172c839684808ad5230d7cac5609d",
            "7eb1896b2ba6488f9ec623ecb09630ac",
            "f60a4127bb1c439c8ce775b01bdfd887",
            "15bb2e5c07a741d4946b902307d1c13c"
          ]
        }
      },
      "source": [
        "import shutil, tqdm\n",
        "for image in tqdm.tqdm_notebook(os.listdir(\"train\")):\n",
        "  if \"cat\" in image:\n",
        "    shutil.copy(os.path.join(\"train\", image), os.path.join(master_folder, \"cat\"))\n",
        "  else:\n",
        "    shutil.copy(os.path.join(\"train\", image), os.path.join(master_folder, \"dog\"))"
      ],
      "execution_count": 27,
      "outputs": [
        {
          "output_type": "stream",
          "text": [
            "/usr/local/lib/python3.6/dist-packages/ipykernel_launcher.py:2: TqdmDeprecationWarning: This function will be removed in tqdm==5.0.0\n",
            "Please use `tqdm.notebook.tqdm` instead of `tqdm.tqdm_notebook`\n",
            "  \n"
          ],
          "name": "stderr"
        },
        {
          "output_type": "display_data",
          "data": {
            "application/vnd.jupyter.widget-view+json": {
              "model_id": "7a1fc2cf28d24259873e064d79b0f3be",
              "version_minor": 0,
              "version_major": 2
            },
            "text/plain": [
              "HBox(children=(FloatProgress(value=0.0, max=25000.0), HTML(value='')))"
            ]
          },
          "metadata": {
            "tags": []
          }
        },
        {
          "output_type": "stream",
          "text": [
            "\n"
          ],
          "name": "stdout"
        }
      ]
    },
    {
      "cell_type": "code",
      "metadata": {
        "id": "PjtwmIdrY45b",
        "colab_type": "code",
        "colab": {}
      },
      "source": [
        "# os.listdir(\"train_data/cat\")"
      ],
      "execution_count": 0,
      "outputs": []
    },
    {
      "cell_type": "code",
      "metadata": {
        "id": "KD1aVafzWu2e",
        "colab_type": "code",
        "colab": {}
      },
      "source": [
        "# | - data_folder\n",
        "#   | - category_1\n",
        "#   | - category_2\n",
        "#   | - category_3"
      ],
      "execution_count": 0,
      "outputs": []
    },
    {
      "cell_type": "code",
      "metadata": {
        "id": "hZLNnnYsZnU1",
        "colab_type": "code",
        "colab": {}
      },
      "source": [
        "! rm -rf train"
      ],
      "execution_count": 0,
      "outputs": []
    },
    {
      "cell_type": "code",
      "metadata": {
        "id": "bdMww8NJU2a3",
        "colab_type": "code",
        "outputId": "103a67b0-b738-486b-d9b3-d598b5a274e8",
        "colab": {
          "base_uri": "https://localhost:8080/",
          "height": 55
        }
      },
      "source": [
        "from tensorflow.keras.preprocessing.image import ImageDataGenerator\n",
        "idg = ImageDataGenerator(rescale=1/255.0, validation_split=0.2)\n",
        "train_generater = idg.flow_from_directory(\"train_data\", target_size=(150,150), batch_size=32, subset=\"training\")\n",
        "val_generater = idg.flow_from_directory(\"train_data\", target_size=(150,150), batch_size=32, subset=\"validation\")"
      ],
      "execution_count": 31,
      "outputs": [
        {
          "output_type": "stream",
          "text": [
            "Found 20000 images belonging to 2 classes.\n",
            "Found 5000 images belonging to 2 classes.\n"
          ],
          "name": "stdout"
        }
      ]
    },
    {
      "cell_type": "code",
      "metadata": {
        "colab_type": "code",
        "id": "59IIByJ2bDub",
        "colab": {}
      },
      "source": [
        "from tensorflow.keras.applications import VGG16\n",
        "from tensorflow.keras.applications.vgg16 import decode_predictions, preprocess_input"
      ],
      "execution_count": 0,
      "outputs": []
    },
    {
      "cell_type": "code",
      "metadata": {
        "id": "SpQHP_TARI0T",
        "colab_type": "code",
        "colab": {
          "base_uri": "https://localhost:8080/",
          "height": 75
        },
        "outputId": "776a19bf-ef6f-41ea-d6b1-d3230f244ffc"
      },
      "source": [
        "tf_model = VGG16(include_top=False, input_shape=(150, 150, 3))"
      ],
      "execution_count": 33,
      "outputs": [
        {
          "output_type": "stream",
          "text": [
            "Downloading data from https://storage.googleapis.com/tensorflow/keras-applications/vgg16/vgg16_weights_tf_dim_ordering_tf_kernels_notop.h5\n",
            "58892288/58889256 [==============================] - 0s 0us/step\n"
          ],
          "name": "stdout"
        }
      ]
    },
    {
      "cell_type": "code",
      "metadata": {
        "id": "0_WzLN-lRsGa",
        "colab_type": "code",
        "outputId": "6a21d60f-fcdb-4f6d-87a9-e4138df9df74",
        "colab": {
          "base_uri": "https://localhost:8080/",
          "height": 880
        }
      },
      "source": [
        "tf_model.summary()"
      ],
      "execution_count": 34,
      "outputs": [
        {
          "output_type": "stream",
          "text": [
            "Model: \"vgg16\"\n",
            "_________________________________________________________________\n",
            "Layer (type)                 Output Shape              Param #   \n",
            "=================================================================\n",
            "input_1 (InputLayer)         [(None, 150, 150, 3)]     0         \n",
            "_________________________________________________________________\n",
            "block1_conv1 (Conv2D)        (None, 150, 150, 64)      1792      \n",
            "_________________________________________________________________\n",
            "block1_conv2 (Conv2D)        (None, 150, 150, 64)      36928     \n",
            "_________________________________________________________________\n",
            "block1_pool (MaxPooling2D)   (None, 75, 75, 64)        0         \n",
            "_________________________________________________________________\n",
            "block2_conv1 (Conv2D)        (None, 75, 75, 128)       73856     \n",
            "_________________________________________________________________\n",
            "block2_conv2 (Conv2D)        (None, 75, 75, 128)       147584    \n",
            "_________________________________________________________________\n",
            "block2_pool (MaxPooling2D)   (None, 37, 37, 128)       0         \n",
            "_________________________________________________________________\n",
            "block3_conv1 (Conv2D)        (None, 37, 37, 256)       295168    \n",
            "_________________________________________________________________\n",
            "block3_conv2 (Conv2D)        (None, 37, 37, 256)       590080    \n",
            "_________________________________________________________________\n",
            "block3_conv3 (Conv2D)        (None, 37, 37, 256)       590080    \n",
            "_________________________________________________________________\n",
            "block3_pool (MaxPooling2D)   (None, 18, 18, 256)       0         \n",
            "_________________________________________________________________\n",
            "block4_conv1 (Conv2D)        (None, 18, 18, 512)       1180160   \n",
            "_________________________________________________________________\n",
            "block4_conv2 (Conv2D)        (None, 18, 18, 512)       2359808   \n",
            "_________________________________________________________________\n",
            "block4_conv3 (Conv2D)        (None, 18, 18, 512)       2359808   \n",
            "_________________________________________________________________\n",
            "block4_pool (MaxPooling2D)   (None, 9, 9, 512)         0         \n",
            "_________________________________________________________________\n",
            "block5_conv1 (Conv2D)        (None, 9, 9, 512)         2359808   \n",
            "_________________________________________________________________\n",
            "block5_conv2 (Conv2D)        (None, 9, 9, 512)         2359808   \n",
            "_________________________________________________________________\n",
            "block5_conv3 (Conv2D)        (None, 9, 9, 512)         2359808   \n",
            "_________________________________________________________________\n",
            "block5_pool (MaxPooling2D)   (None, 4, 4, 512)         0         \n",
            "=================================================================\n",
            "Total params: 14,714,688\n",
            "Trainable params: 14,714,688\n",
            "Non-trainable params: 0\n",
            "_________________________________________________________________\n"
          ],
          "name": "stdout"
        }
      ]
    },
    {
      "cell_type": "code",
      "metadata": {
        "id": "jc_D9SL8UOsL",
        "colab_type": "code",
        "outputId": "e077f39c-7dd3-4326-c7a2-bab52b80d072",
        "colab": {
          "base_uri": "https://localhost:8080/",
          "height": 374
        }
      },
      "source": [
        "# Freeze the conv layers - That Backpropogation will not happen in these layers\n",
        "for layer in tf_model.layers:\n",
        "  layer.trainable = False\n",
        "  print(layer, layer.trainable)  "
      ],
      "execution_count": 35,
      "outputs": [
        {
          "output_type": "stream",
          "text": [
            "<tensorflow.python.keras.engine.input_layer.InputLayer object at 0x7f4f075bf160> False\n",
            "<tensorflow.python.keras.layers.convolutional.Conv2D object at 0x7f4f062da550> False\n",
            "<tensorflow.python.keras.layers.convolutional.Conv2D object at 0x7f4f062dae10> False\n",
            "<tensorflow.python.keras.layers.pooling.MaxPooling2D object at 0x7f4f06340278> False\n",
            "<tensorflow.python.keras.layers.convolutional.Conv2D object at 0x7f4f7697bb38> False\n",
            "<tensorflow.python.keras.layers.convolutional.Conv2D object at 0x7f4f06334fd0> False\n",
            "<tensorflow.python.keras.layers.pooling.MaxPooling2D object at 0x7f4f062f8358> False\n",
            "<tensorflow.python.keras.layers.convolutional.Conv2D object at 0x7f4f062f8208> False\n",
            "<tensorflow.python.keras.layers.convolutional.Conv2D object at 0x7f4f062f3550> False\n",
            "<tensorflow.python.keras.layers.convolutional.Conv2D object at 0x7f4f06325710> False\n",
            "<tensorflow.python.keras.layers.pooling.MaxPooling2D object at 0x7f4f0630c630> False\n",
            "<tensorflow.python.keras.layers.convolutional.Conv2D object at 0x7f4f0630c4a8> False\n",
            "<tensorflow.python.keras.layers.convolutional.Conv2D object at 0x7f4f063037f0> False\n",
            "<tensorflow.python.keras.layers.convolutional.Conv2D object at 0x7f4f0617b9b0> False\n",
            "<tensorflow.python.keras.layers.pooling.MaxPooling2D object at 0x7f4f061808d0> False\n",
            "<tensorflow.python.keras.layers.convolutional.Conv2D object at 0x7f4f06180748> False\n",
            "<tensorflow.python.keras.layers.convolutional.Conv2D object at 0x7f4f06187a90> False\n",
            "<tensorflow.python.keras.layers.convolutional.Conv2D object at 0x7f4f0618f0f0> False\n",
            "<tensorflow.python.keras.layers.pooling.MaxPooling2D object at 0x7f4f06193b70> False\n"
          ],
          "name": "stdout"
        }
      ]
    },
    {
      "cell_type": "code",
      "metadata": {
        "id": "zwv_8GggSNmy",
        "colab_type": "code",
        "colab": {}
      },
      "source": [
        "from tensorflow.keras.layers import Flatten, Dense\n",
        "from tensorflow.keras.activations import relu, softmax\n",
        "from tensorflow.keras.losses import categorical_crossentropy\n",
        "from tensorflow.keras.optimizers import SGD\n",
        "from tensorflow.keras.models import Model"
      ],
      "execution_count": 0,
      "outputs": []
    },
    {
      "cell_type": "code",
      "metadata": {
        "id": "nmcn9em-Rwxl",
        "colab_type": "code",
        "colab": {}
      },
      "source": [
        "tf_ouput = tf_model.output\n",
        "x = Flatten()(tf_ouput)\n",
        "x = Dense(512, activation=relu)(x)\n",
        "x = Dense(2, activation=softmax)(x)"
      ],
      "execution_count": 0,
      "outputs": []
    },
    {
      "cell_type": "code",
      "metadata": {
        "id": "U0DEg3umS9Xs",
        "colab_type": "code",
        "colab": {}
      },
      "source": [
        "final_model = Model(inputs=tf_model.input, outputs=x)"
      ],
      "execution_count": 0,
      "outputs": []
    },
    {
      "cell_type": "code",
      "metadata": {
        "id": "NGrtbtiuV63n",
        "colab_type": "code",
        "outputId": "ba16d4b9-b517-4a0d-f379-8dd2346a37bc",
        "colab": {
          "base_uri": "https://localhost:8080/",
          "height": 993
        }
      },
      "source": [
        "final_model.summary()"
      ],
      "execution_count": 39,
      "outputs": [
        {
          "output_type": "stream",
          "text": [
            "Model: \"model\"\n",
            "_________________________________________________________________\n",
            "Layer (type)                 Output Shape              Param #   \n",
            "=================================================================\n",
            "input_1 (InputLayer)         [(None, 150, 150, 3)]     0         \n",
            "_________________________________________________________________\n",
            "block1_conv1 (Conv2D)        (None, 150, 150, 64)      1792      \n",
            "_________________________________________________________________\n",
            "block1_conv2 (Conv2D)        (None, 150, 150, 64)      36928     \n",
            "_________________________________________________________________\n",
            "block1_pool (MaxPooling2D)   (None, 75, 75, 64)        0         \n",
            "_________________________________________________________________\n",
            "block2_conv1 (Conv2D)        (None, 75, 75, 128)       73856     \n",
            "_________________________________________________________________\n",
            "block2_conv2 (Conv2D)        (None, 75, 75, 128)       147584    \n",
            "_________________________________________________________________\n",
            "block2_pool (MaxPooling2D)   (None, 37, 37, 128)       0         \n",
            "_________________________________________________________________\n",
            "block3_conv1 (Conv2D)        (None, 37, 37, 256)       295168    \n",
            "_________________________________________________________________\n",
            "block3_conv2 (Conv2D)        (None, 37, 37, 256)       590080    \n",
            "_________________________________________________________________\n",
            "block3_conv3 (Conv2D)        (None, 37, 37, 256)       590080    \n",
            "_________________________________________________________________\n",
            "block3_pool (MaxPooling2D)   (None, 18, 18, 256)       0         \n",
            "_________________________________________________________________\n",
            "block4_conv1 (Conv2D)        (None, 18, 18, 512)       1180160   \n",
            "_________________________________________________________________\n",
            "block4_conv2 (Conv2D)        (None, 18, 18, 512)       2359808   \n",
            "_________________________________________________________________\n",
            "block4_conv3 (Conv2D)        (None, 18, 18, 512)       2359808   \n",
            "_________________________________________________________________\n",
            "block4_pool (MaxPooling2D)   (None, 9, 9, 512)         0         \n",
            "_________________________________________________________________\n",
            "block5_conv1 (Conv2D)        (None, 9, 9, 512)         2359808   \n",
            "_________________________________________________________________\n",
            "block5_conv2 (Conv2D)        (None, 9, 9, 512)         2359808   \n",
            "_________________________________________________________________\n",
            "block5_conv3 (Conv2D)        (None, 9, 9, 512)         2359808   \n",
            "_________________________________________________________________\n",
            "block5_pool (MaxPooling2D)   (None, 4, 4, 512)         0         \n",
            "_________________________________________________________________\n",
            "flatten (Flatten)            (None, 8192)              0         \n",
            "_________________________________________________________________\n",
            "dense (Dense)                (None, 512)               4194816   \n",
            "_________________________________________________________________\n",
            "dense_1 (Dense)              (None, 2)                 1026      \n",
            "=================================================================\n",
            "Total params: 18,910,530\n",
            "Trainable params: 4,195,842\n",
            "Non-trainable params: 14,714,688\n",
            "_________________________________________________________________\n"
          ],
          "name": "stdout"
        }
      ]
    },
    {
      "cell_type": "code",
      "metadata": {
        "id": "99OzUWxOWAOe",
        "colab_type": "code",
        "outputId": "3a098977-4a96-414f-828e-cf3634172195",
        "colab": {
          "base_uri": "https://localhost:8080/",
          "height": 430
        }
      },
      "source": [
        "for layer in final_model.layers:\n",
        "  print(layer.trainable , layer)"
      ],
      "execution_count": 40,
      "outputs": [
        {
          "output_type": "stream",
          "text": [
            "False <tensorflow.python.keras.engine.input_layer.InputLayer object at 0x7f4f075bf160>\n",
            "False <tensorflow.python.keras.layers.convolutional.Conv2D object at 0x7f4f062da550>\n",
            "False <tensorflow.python.keras.layers.convolutional.Conv2D object at 0x7f4f062dae10>\n",
            "False <tensorflow.python.keras.layers.pooling.MaxPooling2D object at 0x7f4f06340278>\n",
            "False <tensorflow.python.keras.layers.convolutional.Conv2D object at 0x7f4f7697bb38>\n",
            "False <tensorflow.python.keras.layers.convolutional.Conv2D object at 0x7f4f06334fd0>\n",
            "False <tensorflow.python.keras.layers.pooling.MaxPooling2D object at 0x7f4f062f8358>\n",
            "False <tensorflow.python.keras.layers.convolutional.Conv2D object at 0x7f4f062f8208>\n",
            "False <tensorflow.python.keras.layers.convolutional.Conv2D object at 0x7f4f062f3550>\n",
            "False <tensorflow.python.keras.layers.convolutional.Conv2D object at 0x7f4f06325710>\n",
            "False <tensorflow.python.keras.layers.pooling.MaxPooling2D object at 0x7f4f0630c630>\n",
            "False <tensorflow.python.keras.layers.convolutional.Conv2D object at 0x7f4f0630c4a8>\n",
            "False <tensorflow.python.keras.layers.convolutional.Conv2D object at 0x7f4f063037f0>\n",
            "False <tensorflow.python.keras.layers.convolutional.Conv2D object at 0x7f4f0617b9b0>\n",
            "False <tensorflow.python.keras.layers.pooling.MaxPooling2D object at 0x7f4f061808d0>\n",
            "False <tensorflow.python.keras.layers.convolutional.Conv2D object at 0x7f4f06180748>\n",
            "False <tensorflow.python.keras.layers.convolutional.Conv2D object at 0x7f4f06187a90>\n",
            "False <tensorflow.python.keras.layers.convolutional.Conv2D object at 0x7f4f0618f0f0>\n",
            "False <tensorflow.python.keras.layers.pooling.MaxPooling2D object at 0x7f4f06193b70>\n",
            "True <tensorflow.python.keras.layers.core.Flatten object at 0x7f4f06291208>\n",
            "True <tensorflow.python.keras.layers.core.Dense object at 0x7f4f062913c8>\n",
            "True <tensorflow.python.keras.layers.core.Dense object at 0x7f4f062915f8>\n"
          ],
          "name": "stdout"
        }
      ]
    },
    {
      "cell_type": "code",
      "metadata": {
        "id": "0q23Q54IWs9n",
        "colab_type": "code",
        "outputId": "a08d5727-ec59-490f-9bb4-b77249f3fc54",
        "colab": {
          "base_uri": "https://localhost:8080/",
          "height": 205
        }
      },
      "source": [
        "final_model.compile(SGD(), categorical_crossentropy, [\"acc\"])\n",
        "model_history = final_model.fit(train_generater, validation_data=val_generater, epochs=5)"
      ],
      "execution_count": 42,
      "outputs": [
        {
          "output_type": "stream",
          "text": [
            "Epoch 1/5\n",
            "625/625 [==============================] - 127s 203ms/step - loss: 0.3454 - acc: 0.8479 - val_loss: 0.2718 - val_acc: 0.8794\n",
            "Epoch 2/5\n",
            "625/625 [==============================] - 125s 201ms/step - loss: 0.2702 - acc: 0.8799 - val_loss: 0.3071 - val_acc: 0.8556\n",
            "Epoch 3/5\n",
            "625/625 [==============================] - 125s 201ms/step - loss: 0.2472 - acc: 0.8945 - val_loss: 0.2315 - val_acc: 0.9028\n",
            "Epoch 4/5\n",
            "625/625 [==============================] - 125s 201ms/step - loss: 0.2284 - acc: 0.9044 - val_loss: 0.2463 - val_acc: 0.8964\n",
            "Epoch 5/5\n",
            "625/625 [==============================] - 125s 201ms/step - loss: 0.2133 - acc: 0.9122 - val_loss: 0.2142 - val_acc: 0.9108\n"
          ],
          "name": "stdout"
        }
      ]
    },
    {
      "cell_type": "code",
      "metadata": {
        "id": "sLUxRKI9Xlh3",
        "colab_type": "code",
        "colab": {}
      },
      "source": [
        "import matplotlib.pyplot as plt"
      ],
      "execution_count": 0,
      "outputs": []
    },
    {
      "cell_type": "code",
      "metadata": {
        "id": "cpGR-6RkdGYE",
        "colab_type": "code",
        "outputId": "587d3678-07bc-4d96-b44c-93d32354a6c9",
        "colab": {
          "base_uri": "https://localhost:8080/",
          "height": 284
        }
      },
      "source": [
        "plt.plot(model_history.history[\"loss\"], label=\"Loss\")\n",
        "plt.plot(model_history.history[\"val_loss\"], label=\"Val Loss\")\n",
        "plt.legend()"
      ],
      "execution_count": 44,
      "outputs": [
        {
          "output_type": "execute_result",
          "data": {
            "text/plain": [
              "<matplotlib.legend.Legend at 0x7f4f05d8fcf8>"
            ]
          },
          "metadata": {
            "tags": []
          },
          "execution_count": 44
        },
        {
          "output_type": "display_data",
          "data": {
            "image/png": "[encoded data removed]",
            "text/plain": [
              "<Figure size 432x288 with 1 Axes>"
            ]
          },
          "metadata": {
            "tags": [],
            "needs_background": "light"
          }
        }
      ]
    },
    {
      "cell_type": "code",
      "metadata": {
        "id": "ak3I6VtXdZ3r",
        "colab_type": "code",
        "outputId": "70519fdd-8f5f-4e4b-f92a-2f62c50294df",
        "colab": {
          "base_uri": "https://localhost:8080/",
          "height": 284
        }
      },
      "source": [
        "plt.plot(model_history.history[\"acc\"], label=\"Loss\")\n",
        "plt.plot(model_history.history[\"val_acc\"], label=\"Val Loss\")\n",
        "plt.legend()"
      ],
      "execution_count": 45,
      "outputs": [
        {
          "output_type": "execute_result",
          "data": {
            "text/plain": [
              "<matplotlib.legend.Legend at 0x7f4f05cc3390>"
            ]
          },
          "metadata": {
            "tags": []
          },
          "execution_count": 45
        },
        {
          "output_type": "display_data",
          "data": {
            "image/png": "[encoded data removed]",
            "text/plain": [
              "<Figure size 432x288 with 1 Axes>"
            ]
          },
          "metadata": {
            "tags": [],
            "needs_background": "light"
          }
        }
      ]
    },
    {
      "cell_type": "code",
      "metadata": {
        "id": "u1hp7tNAdrvI",
        "colab_type": "code",
        "colab": {}
      },
      "source": [
        "### Save Model"
      ],
      "execution_count": 0,
      "outputs": []
    },
    {
      "cell_type": "code",
      "metadata": {
        "id": "NuZrIZnSAaPp",
        "colab_type": "code",
        "colab": {}
      },
      "source": [
        "VERSION = 1\n",
        "! mkdir -p dog-vs-cat_model/{VERSION}"
      ],
      "execution_count": 0,
      "outputs": []
    },
    {
      "cell_type": "code",
      "metadata": {
        "id": "MPfLQMVSeGUI",
        "colab_type": "code",
        "outputId": "dfb1dd1b-c27e-409f-9b8f-8a4503a2df35",
        "colab": {
          "base_uri": "https://localhost:8080/",
          "height": 36
        }
      },
      "source": [
        "from tensorflow.keras.models import save_model\n",
        "save_model(final_model, os.path.join(\"dog-vs-cat_model\", str(VERSION)))"
      ],
      "execution_count": 51,
      "outputs": [
        {
          "output_type": "stream",
          "text": [
            "INFO:tensorflow:Assets written to: dog-vs-cat_model/1/assets\n"
          ],
          "name": "stdout"
        }
      ]
    },
    {
      "cell_type": "code",
      "metadata": {
        "id": "xHFcW_vnBmRl",
        "colab_type": "code",
        "colab": {}
      },
      "source": [
        "#Currently you saved the model so you know the input and output but if you would \n",
        "#have got the model from someone this would have been difficult\n",
        "#So we have a CLI from TensorFlow to cheek MetaGraphDefs & Sugnature Defs\n",
        "!saved_model_cli show --dir \"dog-vs-cat_model/1\" --all"
      ],
      "execution_count": 0,
      "outputs": []
    },
    {
      "cell_type": "code",
      "metadata": {
        "id": "oYBqeYbxf4v-",
        "colab_type": "code",
        "colab": {}
      },
      "source": [
        "# Install TensorFlow Serving"
      ],
      "execution_count": 0,
      "outputs": []
    },
    {
      "cell_type": "code",
      "metadata": {
        "id": "Vp3QQWy2f4cm",
        "colab_type": "code",
        "colab": {
          "base_uri": "https://localhost:8080/",
          "height": 73
        },
        "outputId": "dfd6c0b8-4b16-409f-e7de-4cb1881b013e"
      },
      "source": [
        "# Download the TensorFlow Serving \n",
        "!echo \"deb http://storage.googleapis.com/tensorflow-serving-apt stable tensorflow-model-server tensorflow-model-server-universal\" | tee /etc/apt/sources.list.d/tensorflow-serving.list && \\\n",
        "curl -s https://storage.googleapis.com/tensorflow-serving-apt/tensorflow-serving.release.pub.gpg | apt-key add -\n",
        "!apt -qq update"
      ],
      "execution_count": 56,
      "outputs": [
        {
          "output_type": "stream",
          "text": [
            "deb http://storage.googleapis.com/tensorflow-serving-apt stable tensorflow-model-server tensorflow-model-server-universal\n",
            "OK\n",
            "43 packages can be upgraded. Run 'apt list --upgradable' to see them.\n"
          ],
          "name": "stdout"
        }
      ]
    },
    {
      "cell_type": "code",
      "metadata": {
        "id": "clahGDlOf4Os",
        "colab_type": "code",
        "colab": {
          "base_uri": "https://localhost:8080/",
          "height": 111
        },
        "outputId": "6c564ac4-726a-4adc-c961-4d78ae1768d1"
      },
      "source": [
        "!apt-get -qq install  tensorflow-model-server"
      ],
      "execution_count": 57,
      "outputs": [
        {
          "output_type": "stream",
          "text": [
            "Selecting previously unselected package tensorflow-model-server.\n",
            "(Reading database ... \r(Reading database ... 5%\r(Reading database ... 10%\r(Reading database ... 15%\r(Reading database ... 20%\r(Reading database ... 25%\r(Reading database ... 30%\r(Reading database ... 35%\r(Reading database ... 40%\r(Reading database ... 45%\r(Reading database ... 50%\r(Reading database ... 55%\r(Reading database ... 60%\r(Reading database ... 65%\r(Reading database ... 70%\r(Reading database ... 75%\r(Reading database ... 80%\r(Reading database ... 85%\r(Reading database ... 90%\r(Reading database ... 95%\r(Reading database ... 100%\r(Reading database ... 144328 files and directories currently installed.)\n",
            "Preparing to unpack .../tensorflow-model-server_2.2.0_all.deb ...\n",
            "Unpacking tensorflow-model-server (2.2.0) ...\n",
            "Setting up tensorflow-model-server (2.2.0) ...\n"
          ],
          "name": "stdout"
        }
      ]
    },
    {
      "cell_type": "code",
      "metadata": {
        "id": "U7WRG4upf4AY",
        "colab_type": "code",
        "colab": {
          "base_uri": "https://localhost:8080/",
          "height": 619
        },
        "outputId": "13823af0-534f-4e88-ebc9-7ac7b4d8a8d3"
      },
      "source": [
        "! tensorflow_model_server  --help"
      ],
      "execution_count": 58,
      "outputs": [
        {
          "output_type": "stream",
          "text": [
            "usage: tensorflow_model_server\n",
            "Flags:\n",
            "\t--port=8500                      \tint32\tPort to listen on for gRPC API\n",
            "\t--grpc_socket_path=\"\"            \tstring\tIf non-empty, listen to a UNIX socket for gRPC API on the given path. Can be either relative or absolute path.\n",
            "\t--rest_api_port=0                \tint32\tPort to listen on for HTTP/REST API. If set to zero HTTP/REST API will not be exported. This port must be different than the one specified in --port.\n",
            "\t--rest_api_num_threads=8         \tint32\tNumber of threads for HTTP/REST API processing. If not set, will be auto set based on number of CPUs.\n",
            "\t--rest_api_timeout_in_ms=30000   \tint32\tTimeout for HTTP/REST API calls.\n",
            "\t--enable_batching=false          \tbool\tenable batching\n",
            "\t--allow_version_labels_for_unavailable_models=false\tbool\tIf true, allows assigning unused version labels to models that are not available yet.\n",
            "\t--batching_parameters_file=\"\"    \tstring\tIf non-empty, read an ascii BatchingParameters protobuf from the supplied file name and use the contained values instead of the defaults.\n",
            "\t--model_config_file=\"\"           \tstring\tIf non-empty, read an ascii ModelServerConfig protobuf from the supplied file name, and serve the models in that file. This config file can be used to specify multiple models to serve and other advanced parameters including non-default version policy. (If used, --model_name, --model_base_path are ignored.)\n",
            "\t--model_config_file_poll_wait_seconds=0\tint32\tInterval in seconds between each poll of the filesystemfor model_config_file. If unset or set to zero, poll will be done exactly once and not periodically. Setting this to negative is reserved for testing purposes only.\n",
            "\t--model_name=\"default\"           \tstring\tname of model (ignored if --model_config_file flag is set)\n",
            "\t--model_base_path=\"\"             \tstring\tpath to export (ignored if --model_config_file flag is set, otherwise required)\n",
            "\t--max_num_load_retries=5         \tint32\tmaximum number of times it retries loading a model after the first failure, before giving up. If set to 0, a load is attempted only once. Default: 5\n",
            "\t--load_retry_interval_micros=60000000\tint64\tThe interval, in microseconds, between each servable load retry. If set negative, it doesn't wait. Default: 1 minute\n",
            "\t--file_system_poll_wait_seconds=1\tint32\tInterval in seconds between each poll of the filesystem for new model version. If set to zero poll will be exactly done once and not periodically. Setting this to negative value will disable polling entirely causing ModelServer to indefinitely wait for a new model at startup. Negative values are reserved for testing purposes only.\n",
            "\t--flush_filesystem_caches=true   \tbool\tIf true (the default), filesystem caches will be flushed after the initial load of all servables, and after each subsequent individual servable reload (if the number of load threads is 1). This reduces memory consumption of the model server, at the potential cost of cache misses if model files are accessed after servables are loaded.\n",
            "\t--tensorflow_session_parallelism=0\tint64\tNumber of threads to use for running a Tensorflow session. Auto-configured by default.Note that this option is ignored if --platform_config_file is non-empty.\n",
            "\t--tensorflow_intra_op_parallelism=0\tint64\tNumber of threads to use to parallelize the executionof an individual op. Auto-configured by default.Note that this option is ignored if --platform_config_file is non-empty.\n",
            "\t--tensorflow_inter_op_parallelism=0\tint64\tControls the number of operators that can be executed simultaneously. Auto-configured by default.Note that this option is ignored if --platform_config_file is non-empty.\n",
            "\t--ssl_config_file=\"\"             \tstring\tIf non-empty, read an ascii SSLConfig protobuf from the supplied file name and set up a secure gRPC channel\n",
            "\t--platform_config_file=\"\"        \tstring\tIf non-empty, read an ascii PlatformConfigMap protobuf from the supplied file name, and use that platform config instead of the Tensorflow platform. (If used, --enable_batching is ignored.)\n",
            "\t--per_process_gpu_memory_fraction=0.000000\tfloat\tFraction that each process occupies of the GPU memory space the value is between 0.0 and 1.0 (with 0.0 as the default) If 1.0, the server will allocate all the memory when the server starts, If 0.0, Tensorflow will automatically select a value.\n",
            "\t--saved_model_tags=\"serve\"       \tstring\tComma-separated set of tags corresponding to the meta graph def to load from SavedModel.\n",
            "\t--grpc_channel_arguments=\"\"      \tstring\tA comma separated list of arguments to be passed to the grpc server. (e.g. grpc.max_connection_age_ms=2000)\n",
            "\t--enable_model_warmup=true       \tbool\tEnables model warmup, which triggers lazy initializations (such as TF optimizations) at load time, to reduce first request latency.\n",
            "\t--version=false                  \tbool\tDisplay version\n",
            "\t--monitoring_config_file=\"\"      \tstring\tIf non-empty, read an ascii MonitoringConfig protobuf from the supplied file name\n",
            "\t--remove_unused_fields_from_bundle_metagraph=true\tbool\tRemoves unused fields from MetaGraphDef proto message to save memory.\n",
            "\t--use_tflite_model=false         \tbool\tEXPERIMENTAL; CAN BE REMOVED ANYTIME! Load and use TensorFlow Lite model from `model.tflite` file in SavedModel directory instead of the TensorFlow model from `saved_model.pb` file.\n"
          ],
          "name": "stdout"
        }
      ]
    },
    {
      "cell_type": "code",
      "metadata": {
        "id": "mdGVH9HFCRV6",
        "colab_type": "code",
        "colab": {
          "base_uri": "https://localhost:8080/",
          "height": 36
        },
        "outputId": "7554c894-5a3b-4d4a-b60a-6b4512206b1e"
      },
      "source": [
        "%%bash --bg\n",
        "nohup tensorflow_model_server --rest_api_port=8501 --model_name=fashion_mnist --model_base_path=\"/content/dog-vs-cat_model\" > server.log 2>&1"
      ],
      "execution_count": 69,
      "outputs": [
        {
          "output_type": "stream",
          "text": [
            "Starting job # 2 in a separate thread.\n"
          ],
          "name": "stdout"
        }
      ]
    },
    {
      "cell_type": "code",
      "metadata": {
        "id": "ME7zf8JNDfa9",
        "colab_type": "code",
        "colab": {
          "base_uri": "https://localhost:8080/",
          "height": 36
        },
        "outputId": "b40a35b9-1180-47da-d590-762dc6c4455a"
      },
      "source": [
        "! cat server.log"
      ],
      "execution_count": 71,
      "outputs": [
        {
          "output_type": "stream",
          "text": [
            "cat: server.log: No such file or directory\n"
          ],
          "name": "stdout"
        }
      ]
    },
    {
      "cell_type": "code",
      "metadata": {
        "id": "GU-E47tMCXgl",
        "colab_type": "code",
        "colab": {}
      },
      "source": [
        "# Prediction_function\n",
        "import requests\n",
        "import matplotlib.pyplot as plt\n",
        "import json\n",
        "\n",
        "class_names = ['cat', 'dog']\n",
        "\n",
        "def _prediction(data):\n",
        "    headers = {\"content-type\": \"application/json\"}\n",
        "    json_response = requests.post('http://localhost:8501/v1/models/fashion_mnist:predict', data=data, headers=headers)\n",
        "    json_result = json.loads(json_response.text)\n",
        "    return json_result[\"predictions\"]\n",
        "\n",
        "def _prepare_image(filepath):\n",
        "    image = cv2.imread(filepath)\n",
        "    image = cv2.cvtColor(image, cv2.COLOR_BGR2RGB)\n",
        "    image = cv2.resize(image, (150, 150))\n",
        "    plt.imshow(image,cmap=\"gray\")\n",
        "    plt.plot()\n",
        "    image = np.expand_dims(image, 0)\n",
        "    return json.dumps({\"signature_name\": \"serving_default\", \"instances\": image.tolist()})"
      ],
      "execution_count": 0,
      "outputs": []
    },
    {
      "cell_type": "code",
      "metadata": {
        "id": "TEN924MrDOI_",
        "colab_type": "code",
        "colab": {
          "base_uri": "https://localhost:8080/",
          "height": 223
        },
        "outputId": "339af057-2d36-403b-aa67-ec5b05f12de3"
      },
      "source": [
        "! wget https://upload.wikimedia.org/wikipedia/commons/thumb/3/3a/Cat03.jpg/1200px-Cat03.jpg"
      ],
      "execution_count": 61,
      "outputs": [
        {
          "output_type": "stream",
          "text": [
            "--2020-06-14 13:37:51--  https://upload.wikimedia.org/wikipedia/commons/thumb/3/3a/Cat03.jpg/1200px-Cat03.jpg\n",
            "Resolving upload.wikimedia.org (upload.wikimedia.org)... 103.102.166.240, 2620:0:861:ed1a::2:b\n",
            "Connecting to upload.wikimedia.org (upload.wikimedia.org)|103.102.166.240|:443... connected.\n",
            "HTTP request sent, awaiting response... 200 OK\n",
            "Length: 156145 (152K) [image/jpeg]\n",
            "Saving to: ‘1200px-Cat03.jpg’\n",
            "\n",
            "\r1200px-Cat03.jpg      0%[                    ]       0  --.-KB/s               \r1200px-Cat03.jpg    100%[===================>] 152.49K   925KB/s    in 0.2s    \n",
            "\n",
            "2020-06-14 13:37:52 (925 KB/s) - ‘1200px-Cat03.jpg’ saved [156145/156145]\n",
            "\n"
          ],
          "name": "stdout"
        }
      ]
    },
    {
      "cell_type": "code",
      "metadata": {
        "id": "fIn8xdscDDJL",
        "colab_type": "code",
        "colab": {
          "base_uri": "https://localhost:8080/",
          "height": 288
        },
        "outputId": "f180bd37-ed11-40f5-b6fa-aa5d8e39a5ed"
      },
      "source": [
        "image_json = _prepare_image(\"1200px-Cat03.jpg\")\n",
        "image_pred = _prediction(image_json)\n",
        "class_names[np.argmax(image_pred[0])]"
      ],
      "execution_count": 74,
      "outputs": [
        {
          "output_type": "execute_result",
          "data": {
            "text/plain": [
              "'cat'"
            ]
          },
          "metadata": {
            "tags": []
          },
          "execution_count": 74
        },
        {
          "output_type": "display_data",
          "data": {
            "image/png": "[encoded data removed]",
            "text/plain": [
              "<Figure size 432x288 with 1 Axes>"
            ]
          },
          "metadata": {
            "tags": [],
            "needs_background": "light"
          }
        }
      ]
    },
    {
      "cell_type": "code",
      "metadata": {
        "id": "zFLaFsh8DV8O",
        "colab_type": "code",
        "colab": {
          "base_uri": "https://localhost:8080/",
          "height": 243
        },
        "outputId": "e4754942-46ff-45f5-ee99-0d914f971549"
      },
      "source": [
        "! wget https://s3.amazonaws.com/cdn-origin-etr.akc.org/wp-content/uploads/2017/11/12234558/Chinook-On-White-03.jpg"
      ],
      "execution_count": 75,
      "outputs": [
        {
          "output_type": "stream",
          "text": [
            "--2020-06-14 13:42:52--  https://s3.amazonaws.com/cdn-origin-etr.akc.org/wp-content/uploads/2017/11/12234558/Chinook-On-White-03.jpg\n",
            "Resolving s3.amazonaws.com (s3.amazonaws.com)... 52.216.143.94\n",
            "Connecting to s3.amazonaws.com (s3.amazonaws.com)|52.216.143.94|:443... connected.\n",
            "HTTP request sent, awaiting response... 200 OK\n",
            "Length: 25761 (25K) [image/jpeg]\n",
            "Saving to: ‘Chinook-On-White-03.jpg’\n",
            "\n",
            "\rChinook-On-White-03   0%[                    ]       0  --.-KB/s               \rChinook-On-White-03 100%[===================>]  25.16K   139KB/s    in 0.2s    \n",
            "\n",
            "2020-06-14 13:42:53 (139 KB/s) - ‘Chinook-On-White-03.jpg’ saved [25761/25761]\n",
            "\n"
          ],
          "name": "stdout"
        }
      ]
    },
    {
      "cell_type": "code",
      "metadata": {
        "id": "FMMNeK0yDXzI",
        "colab_type": "code",
        "colab": {
          "base_uri": "https://localhost:8080/",
          "height": 288
        },
        "outputId": "34b521d2-bad2-40ba-93e2-987b2fd5508f"
      },
      "source": [
        "image_json = _prepare_image(\"Chinook-On-White-03.jpg\")\n",
        "image_pred = _prediction(image_json)\n",
        "class_names[np.argmax(image_pred[0])]"
      ],
      "execution_count": 76,
      "outputs": [
        {
          "output_type": "execute_result",
          "data": {
            "text/plain": [
              "'dog'"
            ]
          },
          "metadata": {
            "tags": []
          },
          "execution_count": 76
        },
        {
          "output_type": "display_data",
          "data": {
            "image/png": "[encoded data removed]",
            "text/plain": [
              "<Figure size 432x288 with 1 Axes>"
            ]
          },
          "metadata": {
            "tags": [],
            "needs_background": "light"
          }
        }
      ]
    },
    {
      "cell_type": "code",
      "metadata": {
        "id": "eCtSwhf0Ec-W",
        "colab_type": "code",
        "colab": {}
      },
      "source": [
        ""
      ],
      "execution_count": 0,
      "outputs": []
    }
  ]
}