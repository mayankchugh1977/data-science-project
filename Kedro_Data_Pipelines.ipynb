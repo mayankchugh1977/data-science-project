{
  "nbformat": 4,
  "nbformat_minor": 0,
  "metadata": {
    "colab": {
      "name": "Kedro Data Pipelines.ipynb",
      "version": "0.3.2",
      "provenance": [],
      "include_colab_link": true
    },
    "kernelspec": {
      "name": "python3",
      "display_name": "Python 3"
    }
  },
  "cells": [
    {
      "cell_type": "markdown",
      "metadata": {
        "id": "view-in-github",
        "colab_type": "text"
      },
      "source": [
        "<a href=\"https://colab.research.google.com/github/shivam-kotwalia/data-science-project/blob/master/Kedro_Data_Pipelines.ipynb\" target=\"_parent\"><img src=\"https://colab.research.google.com/assets/colab-badge.svg\" alt=\"Open In Colab\"/></a>"
      ]
    },
    {
      "cell_type": "code",
      "metadata": {
        "id": "Lh0LBD2zIY0Q",
        "colab_type": "code",
        "outputId": "39924afc-7720-4b90-a70c-2bc6b6be7e97",
        "colab": {
          "base_uri": "https://localhost:8080/",
          "height": 217
        }
      },
      "source": [
        "! pip install kedro --quiet"
      ],
      "execution_count": 1,
      "outputs": [
        {
          "output_type": "stream",
          "text": [
            "\u001b[K     |████████████████████████████████| 9.9MB 4.2MB/s \n",
            "\u001b[K     |████████████████████████████████| 12.5MB 21.5MB/s \n",
            "\u001b[K     |████████████████████████████████| 143kB 53.6MB/s \n",
            "\u001b[K     |████████████████████████████████| 102kB 33.3MB/s \n",
            "\u001b[K     |████████████████████████████████| 71kB 24.5MB/s \n",
            "\u001b[K     |████████████████████████████████| 276kB 55.2MB/s \n",
            "\u001b[K     |████████████████████████████████| 51kB 20.6MB/s \n",
            "\u001b[K     |████████████████████████████████| 4.3MB 34.5MB/s \n",
            "\u001b[?25h  Building wheel for anyconfig (setup.py) ... \u001b[?25l\u001b[?25hdone\n",
            "  Building wheel for PyYAML (setup.py) ... \u001b[?25l\u001b[?25hdone\n",
            "  Building wheel for memory-profiler (setup.py) ... \u001b[?25l\u001b[?25hdone\n"
          ],
          "name": "stdout"
        }
      ]
    },
    {
      "cell_type": "code",
      "metadata": {
        "id": "68ETM4qGtkts",
        "colab_type": "code",
        "outputId": "7e59b16b-d25f-4d0f-9f86-177a5e87cec6",
        "colab": {
          "base_uri": "https://localhost:8080/",
          "height": 217
        }
      },
      "source": [
        "! kedro info"
      ],
      "execution_count": 2,
      "outputs": [
        {
          "output_type": "stream",
          "text": [
            "\u001b[32m\n",
            " _            _\n",
            "| | _____  __| |_ __ ___\n",
            "| |/ / _ \\/ _` | '__/ _ \\\n",
            "|   <  __/ (_| | | | (_) |\n",
            "|_|\\_\\___|\\__,_|_|  \\___/\n",
            "v0.14.3\n",
            "\u001b[0m\n",
            "kedro allows teams to create analytics\n",
            "projects. It is developed as part of\n",
            "the Kedro initiative at QuantumBlack.\n"
          ],
          "name": "stdout"
        }
      ]
    },
    {
      "cell_type": "code",
      "metadata": {
        "id": "jLaa-lFKo2TL",
        "colab_type": "code",
        "outputId": "881e8b17-19a2-44db-d5c9-cf67b1bf86a3",
        "colab": {
          "base_uri": "https://localhost:8080/",
          "height": 453
        }
      },
      "source": [
        "! kedro new"
      ],
      "execution_count": 3,
      "outputs": [
        {
          "output_type": "stream",
          "text": [
            "\u001b[1mProject Name:\n",
            "=============\u001b[0m\n",
            "Please enter a human readable name for your new project.\n",
            "Spaces and punctuation are allowed.\n",
            " [New Kedro Project]: ed-extractor-project\n",
            "\u001b[1mRepository Name:\n",
            "================\u001b[0m\n",
            "Please enter a directory name for your new project repository.\n",
            "Alphanumeric characters, hyphens and underscores are allowed.\n",
            "Lowercase is recommended.\n",
            " [ed-extractor-project]: ed_extractor\n",
            "\u001b[1mPython Package Name:\n",
            "====================\u001b[0m\n",
            "Please enter a valid Python package name for your project package.\n",
            "Alphanumeric characters and underscores are allowed.\n",
            "Lowercase is recommended. Package name must start with a letter or underscore.\n",
            " [ed_extractor_project]: ed_extractor\n",
            "\u001b[1mGenerate Example Pipeline:\n",
            "==========================\u001b[0m\n",
            "Do you want to generate an example pipeline in your project?\n",
            "Good for first-time users. (default=N)\n",
            " [y/N]: y\n",
            "\u001b[32mProject generated in /content/ed_extractor\u001b[0m\n",
            "Don't forget to initialise git and create a virtual environment. Refer to the Kedro documentation.\u001b[0m\n"
          ],
          "name": "stdout"
        }
      ]
    },
    {
      "cell_type": "code",
      "metadata": {
        "id": "ZImQmYnTpKoK",
        "colab_type": "code",
        "outputId": "2a679012-6949-4c23-e43e-021f88c42eec",
        "colab": {
          "base_uri": "https://localhost:8080/",
          "height": 2778
        }
      },
      "source": [
        "! cat kerdo_directory/src/kedro_package/nodes/example.py"
      ],
      "execution_count": 0,
      "outputs": [
        {
          "output_type": "stream",
          "text": [
            "# Copyright 2018-2019 QuantumBlack Visual Analytics Limited\n",
            "#\n",
            "# Licensed under the Apache License, Version 2.0 (the \"License\");\n",
            "# you may not use this file except in compliance with the License.\n",
            "# You may obtain a copy of the License at\n",
            "#\n",
            "# http://www.apache.org/licenses/LICENSE-2.0\n",
            "#\n",
            "# THE SOFTWARE IS PROVIDED \"AS IS\", WITHOUT WARRANTY OF ANY KIND,\n",
            "# EXPRESS OR IMPLIED, INCLUDING BUT NOT LIMITED TO THE WARRANTIES\n",
            "# OF MERCHANTABILITY, FITNESS FOR A PARTICULAR PURPOSE, AND\n",
            "# NONINFRINGEMENT. IN NO EVENT WILL THE LICENSOR OR OTHER CONTRIBUTORS\n",
            "# BE LIABLE FOR ANY CLAIM, DAMAGES, OR OTHER LIABILITY, WHETHER IN AN\n",
            "# ACTION OF CONTRACT, TORT OR OTHERWISE, ARISING FROM, OUT OF, OR IN\n",
            "# CONNECTION WITH THE SOFTWARE OR THE USE OR OTHER DEALINGS IN THE SOFTWARE.\n",
            "#\n",
            "# The QuantumBlack Visual Analytics Limited (“QuantumBlack”) name and logo\n",
            "# (either separately or in combination, “QuantumBlack Trademarks”) are\n",
            "# trademarks of QuantumBlack. The License does not grant you any right or\n",
            "# license to the QuantumBlack Trademarks. You may not use the QuantumBlack\n",
            "# Trademarks or any confusingly similar mark as a trademark for your product,\n",
            "#     or use the QuantumBlack Trademarks in any other manner that might cause\n",
            "# confusion in the marketplace, including but not limited to in advertising,\n",
            "# on websites, or on software.\n",
            "#\n",
            "# See the License for the specific language governing permissions and\n",
            "# limitations under the License.\n",
            "\n",
            "\"\"\"Example code for the nodes in the example pipeline. This code is meant\n",
            "just for illustrating basic Kedro features.\n",
            "\n",
            "PLEASE DELETE THIS FILE ONCE YOU START WORKING ON YOUR OWN PROJECT!\n",
            "\"\"\"\n",
            "# pylint: disable=invalid-name\n",
            "\n",
            "import logging\n",
            "from typing import Any, Dict\n",
            "\n",
            "import numpy as np\n",
            "import pandas as pd\n",
            "\n",
            "\n",
            "def split_data(data: pd.DataFrame, parameters: Dict[str, Any]) -> Dict[str, Any]:\n",
            "    \"\"\"Node for splitting the classical Iris data set into training and test\n",
            "    sets, each split into features and labels.\n",
            "    The split ratio parameter is taken from conf/project/parameters.yml.\n",
            "    The data and the parameters will be loaded and provided to your function\n",
            "    automatically when the pipeline is executed and it is time to run this node.\n",
            "    \"\"\"\n",
            "    test_data_ratio = parameters[\"example_test_data_ratio\"]\n",
            "    data.columns = [\n",
            "        \"sepal_length\",\n",
            "        \"sepal_width\",\n",
            "        \"petal_length\",\n",
            "        \"petal_width\",\n",
            "        \"target\",\n",
            "    ]\n",
            "    classes = sorted(data[\"target\"].unique())\n",
            "    # One-hot encoding for the target variable\n",
            "    data = pd.get_dummies(data, columns=[\"target\"], prefix=\"\", prefix_sep=\"\")\n",
            "\n",
            "    # Shuffle all the data\n",
            "    data = data.sample(frac=1).reset_index(drop=True)\n",
            "\n",
            "    # Split to training and testing data\n",
            "    n = data.shape[0]\n",
            "    n_test = int(n * test_data_ratio)\n",
            "    training_data = data.iloc[n_test:, :].reset_index(drop=True)\n",
            "    test_data = data.iloc[:n_test, :].reset_index(drop=True)\n",
            "\n",
            "    # Split the data to features and labels\n",
            "    train_data_x = training_data.loc[:, \"sepal_length\":\"petal_width\"]\n",
            "    train_data_y = training_data[classes]\n",
            "    test_data_x = test_data.loc[:, \"sepal_length\":\"petal_width\"]\n",
            "    test_data_y = test_data[classes]\n",
            "\n",
            "    # When returning many variables, it is a good practice to give them names:\n",
            "    return dict(\n",
            "        train_x=train_data_x,\n",
            "        train_y=train_data_y,\n",
            "        test_x=test_data_x,\n",
            "        test_y=test_data_y,\n",
            "    )\n",
            "\n",
            "\n",
            "def train_model(\n",
            "    train_x: pd.DataFrame, train_y: pd.DataFrame, parameters: Dict[str, Any]\n",
            ") -> np.ndarray:\n",
            "    \"\"\"Node for training a simple multi-class logistic regression model. The\n",
            "    number of training iterations as well as the learning rate are taken from\n",
            "    conf/project/parameters.yml. All of the data as well as the parameters\n",
            "    will be provided to this function at the time of execution.\n",
            "    \"\"\"\n",
            "    num_iter = parameters[\"example_num_train_iter\"]\n",
            "    lr = parameters[\"example_learning_rate\"]\n",
            "    X = train_x.values\n",
            "    Y = train_y.values\n",
            "\n",
            "    # Add bias to the features\n",
            "    bias = np.ones((X.shape[0], 1))\n",
            "    X = np.concatenate((bias, X), axis=1)\n",
            "\n",
            "    weights = []\n",
            "    # Train one model for each class in Y\n",
            "    for k in range(Y.shape[1]):\n",
            "        # Initialise weights\n",
            "        theta = np.zeros(X.shape[1])\n",
            "        y = Y[:, k]\n",
            "        for _ in range(num_iter):\n",
            "            z = np.dot(X, theta)\n",
            "            h = _sigmoid(z)\n",
            "            gradient = np.dot(X.T, (h - y)) / y.size\n",
            "            theta -= lr * gradient\n",
            "        # Save the weights for each model\n",
            "        weights.append(theta)\n",
            "\n",
            "    # Return a joint multi-class model with weights for all classes\n",
            "    return np.vstack(weights).transpose()\n",
            "\n",
            "\n",
            "def predict(model: np.ndarray, test_x: pd.DataFrame) -> np.ndarray:\n",
            "    \"\"\"Node for making predictions given a pre-trained model and a test set.\n",
            "    \"\"\"\n",
            "    X = test_x.values\n",
            "\n",
            "    # Add bias to the features\n",
            "    bias = np.ones((X.shape[0], 1))\n",
            "    X = np.concatenate((bias, X), axis=1)\n",
            "\n",
            "    # Predict \"probabilities\" for each class\n",
            "    result = _sigmoid(np.dot(X, model))\n",
            "\n",
            "    # Return the index of the class with max probability for all samples\n",
            "    return np.argmax(result, axis=1)\n",
            "\n",
            "\n",
            "def report_accuracy(predictions: np.ndarray, test_y: pd.DataFrame) -> None:\n",
            "    \"\"\"Node for reporting the accuracy of the predictions performed by the\n",
            "    previous node. Notice that this function has no outputs, except logging.\n",
            "    \"\"\"\n",
            "    # Get true class index\n",
            "    target = np.argmax(test_y.values, axis=1)\n",
            "    # Calculate accuracy of predictions\n",
            "    accuracy = np.sum(predictions == target) / target.shape[0]\n",
            "    # Log the accuracy of the model\n",
            "    log = logging.getLogger(__name__)\n",
            "    log.info(\"Model accuracy on test set: {0:.2f}%\".format(accuracy * 100))\n",
            "\n",
            "\n",
            "def _sigmoid(z):\n",
            "    \"\"\"A helper sigmoid function used by the training and the scoring nodes.\"\"\"\n",
            "    return 1 / (1 + np.exp(-z))\n"
          ],
          "name": "stdout"
        }
      ]
    },
    {
      "cell_type": "code",
      "metadata": {
        "id": "o2V9qn5BqW0q",
        "colab_type": "code",
        "outputId": "9383b596-2280-4aa7-b059-2e75e0b687f7",
        "colab": {
          "base_uri": "https://localhost:8080/",
          "height": 35
        }
      },
      "source": [
        "! kedro docs"
      ],
      "execution_count": 0,
      "outputs": [
        {
          "output_type": "stream",
          "text": [
            "Opening file:///usr/local/lib/python3.6/dist-packages/kedro/html/index.html\n"
          ],
          "name": "stdout"
        }
      ]
    },
    {
      "cell_type": "code",
      "metadata": {
        "id": "9Hl3ZS_ItKYn",
        "colab_type": "code",
        "outputId": "aefb5c36-dd30-45cb-fa2f-d183f17f4b53",
        "colab": {
          "base_uri": "https://localhost:8080/",
          "height": 671
        }
      },
      "source": [
        "from IPython.display import IFrame   \n",
        "import os \n",
        "IFrame(os.path.relpath(\"/usr/local/lib/python3.6/dist-packages/kedro/html/index.html\"), width=800, height=650)"
      ],
      "execution_count": 0,
      "outputs": [
        {
          "output_type": "execute_result",
          "data": {
            "text/html": [
              "\n",
              "        <iframe\n",
              "            width=\"800\"\n",
              "            height=\"650\"\n",
              "            src=\"../usr/local/lib/python3.6/dist-packages/kedro/html/index.html\"\n",
              "            frameborder=\"0\"\n",
              "            allowfullscreen\n",
              "        ></iframe>\n",
              "        "
            ],
            "text/plain": [
              "<IPython.lib.display.IFrame at 0x7fdab028e208>"
            ]
          },
          "metadata": {
            "tags": []
          },
          "execution_count": 26
        }
      ]
    },
    {
      "cell_type": "code",
      "metadata": {
        "id": "jtX9MRThuSOO",
        "colab_type": "code",
        "colab": {
          "base_uri": "https://localhost:8080/",
          "height": 509
        },
        "outputId": "de85450d-82e7-4eea-91be-09a14a9efc95"
      },
      "source": [
        "!sudo apt-get install tree"
      ],
      "execution_count": 6,
      "outputs": [
        {
          "output_type": "stream",
          "text": [
            "Reading package lists... Done\n",
            "Building dependency tree       \n",
            "Reading state information... Done\n",
            "The following package was automatically installed and is no longer required:\n",
            "  libnvidia-common-410\n",
            "Use 'sudo apt autoremove' to remove it.\n",
            "The following NEW packages will be installed:\n",
            "  tree\n",
            "0 upgraded, 1 newly installed, 0 to remove and 4 not upgraded.\n",
            "Need to get 40.7 kB of archives.\n",
            "After this operation, 105 kB of additional disk space will be used.\n",
            "Get:1 http://archive.ubuntu.com/ubuntu bionic/universe amd64 tree amd64 1.7.0-5 [40.7 kB]\n",
            "Fetched 40.7 kB in 0s (98.5 kB/s)\n",
            "debconf: unable to initialize frontend: Dialog\n",
            "debconf: (No usable dialog-like program is installed, so the dialog based frontend cannot be used. at /usr/share/perl5/Debconf/FrontEnd/Dialog.pm line 76, <> line 1.)\n",
            "debconf: falling back to frontend: Readline\n",
            "debconf: unable to initialize frontend: Readline\n",
            "debconf: (This frontend requires a controlling tty.)\n",
            "debconf: falling back to frontend: Teletype\n",
            "dpkg-preconfigure: unable to re-open stdin: \n",
            "Selecting previously unselected package tree.\n",
            "(Reading database ... 130963 files and directories currently installed.)\n",
            "Preparing to unpack .../tree_1.7.0-5_amd64.deb ...\n",
            "Unpacking tree (1.7.0-5) ...\n",
            "Setting up tree (1.7.0-5) ...\n",
            "Processing triggers for man-db (2.8.3-2ubuntu0.1) ...\n"
          ],
          "name": "stdout"
        }
      ]
    },
    {
      "cell_type": "markdown",
      "metadata": {
        "id": "JPIbg2eivFgo",
        "colab_type": "text"
      },
      "source": [
        "### Directory Strcuture of Kedro"
      ]
    },
    {
      "cell_type": "code",
      "metadata": {
        "id": "qSuSYnR1vUit",
        "colab_type": "code",
        "colab": {
          "base_uri": "https://localhost:8080/",
          "height": 835
        },
        "outputId": "7c367e13-f411-4ba2-8a29-73dd785883ae"
      },
      "source": [
        "! tree ./ed_extractor/"
      ],
      "execution_count": 8,
      "outputs": [
        {
          "output_type": "stream",
          "text": [
            "./ed_extractor/\n",
            "├── conf\n",
            "│   ├── base\n",
            "│   │   ├── catalog.yml\n",
            "│   │   ├── credentials.yml\n",
            "│   │   ├── logging.yml\n",
            "│   │   └── parameters.yml\n",
            "│   ├── local\n",
            "│   └── README.md\n",
            "├── data\n",
            "│   ├── 01_raw\n",
            "│   │   └── iris.csv\n",
            "│   ├── 02_intermediate\n",
            "│   ├── 03_primary\n",
            "│   ├── 04_features\n",
            "│   ├── 05_model_input\n",
            "│   ├── 06_models\n",
            "│   ├── 07_model_output\n",
            "│   └── 08_reporting\n",
            "├── docs\n",
            "│   └── source\n",
            "│       ├── conf.py\n",
            "│       └── index.rst\n",
            "├── kedro_cli.py\n",
            "├── logs\n",
            "├── notebooks\n",
            "├── README.md\n",
            "├── references\n",
            "├── results\n",
            "├── setup.cfg\n",
            "└── src\n",
            "    ├── ed_extractor\n",
            "    │   ├── __init__.py\n",
            "    │   ├── nodes\n",
            "    │   │   ├── example.py\n",
            "    │   │   └── __init__.py\n",
            "    │   ├── pipeline.py\n",
            "    │   └── run.py\n",
            "    ├── requirements.txt\n",
            "    ├── setup.py\n",
            "    └── tests\n",
            "        ├── __init__.py\n",
            "        └── test_run.py\n",
            "\n",
            "22 directories, 20 files\n"
          ],
          "name": "stdout"
        }
      ]
    },
    {
      "cell_type": "code",
      "metadata": {
        "id": "VgSfMDDJQljq",
        "colab_type": "code",
        "colab": {}
      },
      "source": [
        ""
      ],
      "execution_count": 0,
      "outputs": []
    }
  ]
}