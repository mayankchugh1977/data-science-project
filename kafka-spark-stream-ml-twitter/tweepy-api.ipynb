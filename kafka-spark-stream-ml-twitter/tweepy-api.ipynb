{
 "cells": [
  {
   "cell_type": "code",
   "execution_count": 3,
   "metadata": {
    "collapsed": true,
    "scrolled": true
   },
   "outputs": [],
   "source": [
    "import tweepy"
   ]
  },
  {
   "cell_type": "code",
   "execution_count": 4,
   "metadata": {
    "collapsed": true,
    "scrolled": true
   },
   "outputs": [],
   "source": [
    "consumer_key = '*******************************'\n",
    "consumer_secret = '*************************************' \n",
    "access_token = \"************************\"\n",
    "access_token_secret = \"**************************************\" \n",
    "auth = tweepy.OAuthHandler(consumer_key, consumer_secret)\n",
    "auth.set_access_token(access_token, access_token_secret)\n",
    "\n",
    "api = tweepy.API(auth, wait_on_rate_limit=True, wait_on_rate_limit_notify=True)"
   ]
  },
  {
   "cell_type": "code",
   "execution_count": 38,
   "metadata": {
    "scrolled": true
   },
   "outputs": [
    {
     "name": "stdout",
     "output_type": "stream",
     "text": [
      "The next Apple Watch will have LTE cell service https://t.co/HLqT6grf4u None\n",
      "RT @amuellerml: Great collection of github integration tools for open source developers and project maintainers  https://t.co/ffxd5cqusL None\n",
      "Deep Learning and Recommenders https://t.co/5uLFtvKUMd https://t.co/N9EkNk73l9 None\n",
      "RT @AlecMacGillis: Can't overstate how many of the swing-state voters I spoke with who had the wildest anti-Hillary notions relied on Faceb… None\n",
      "RT @PacktPub: Enter the world of #Microcontainers with today's free eBook on #Docker:\n",
      "https://t.co/RUN8x1VqlJ https://t.co/UyOiDkbVuw None\n",
      "China's vertical forests &lt;ed&gt;&lt;U+00A0&gt;&lt;U+00BC&gt;&lt;ed&gt;&lt;U+00BC&gt;&lt;U+00B3&gt; https://t.co/HgLu9U9HrE https://t.co/Cx5lBszCIb None\n",
      "Technique to Estimate the Thermal Characteristics of a House. #BigData #DataScience #Analytics… https://t.co/C5mbVza24J None\n",
      "Could Martha's Vineyard be a national model for nature conservation? https://t.co/ktgggwLpFR None\n",
      "[News] NIPS workshops are up on the schedule https://t.co/rqzGegCA5n None\n",
      "And now the names of Apple’s new iPhones look to have leaked… https://t.co/qKjyPnTXS3 None\n",
      "How will #machinelearning make search intelligent? @pascalsoucy dives into it: https://t.co/rTpZr9yHUF https://t.co/zVvoHSndbu None\n",
      "Practical illustration of Map-Reduce (Hadoop-style), on real data https://t.co/sURyH9f541 None\n",
      "#Tech news overload? Get the story behind the headline. Become an MIT Technology Review Insider today -… https://t.co/3O4gCc8gI1 None\n",
      "Thanks @JayMarwaha1 but I am trying to sort out the context of that @Onalytica list -- is it only within the subdom… https://t.co/0UKXpyNkMp None\n",
      "#DeepLearning - A technical, in depth introduction https://t.co/pk5NJSsMhO None\n",
      "RT @CIOStraightTalk: .@gp_pulipaka CEO @DeepSingularity shares the best practices of #DataScience in #healthcare. #STinsights https://t.co/… None\n",
      "Do dried tamarind and custard powder need to have special GST rates? Must simplify, simplify. @PMOIndia @arunjaitley https://t.co/vX1TWGQSO8 None\n",
      "Hot data meets big data to make real-time, real-world decisions https://t.co/RFmKoyExwy https://t.co/H7JKpnS8TK None\n",
      "RT @pluralsight: .@dvdkliu shares how to go from \"Average Joe to Salesforce Pro\" in his breakout at #PluralsightLIVE: https://t.co/Y4Jolqbr… None\n"
     ]
    }
   ],
   "source": [
    "public_tweets = api.home_timeline()\n",
    "for tweet in public_tweets:\n",
    "    if tweet.lang == 'en':\n",
    "        print(tweet.text, tweet.coordinates)"
   ]
  },
  {
   "cell_type": "code",
   "execution_count": 31,
   "metadata": {
    "scrolled": true
   },
   "outputs": [],
   "source": [
    "tweets = api.home_timeline()"
   ]
  },
  {
   "cell_type": "code",
   "execution_count": 33,
   "metadata": {
    "scrolled": true
   },
   "outputs": [
    {
     "data": {
      "text/plain": [
       "['To Index Data Is to Sort Data https://t.co/TWyKV7gHMf https://t.co/4hAhDvXaV2',\n",
       " \"Could Martha's Vineyard be a national model for nature conservation? https://t.co/ktgggwLpFR\",\n",
       " '[News] NIPS workshops are up on the schedule https://t.co/rqzGegCA5n',\n",
       " 'And now the names of Apple’s new iPhones look to have leaked… https://t.co/qKjyPnTXS3',\n",
       " 'How will #machinelearning make search intelligent? @pascalsoucy dives into it: https://t.co/rTpZr9yHUF https://t.co/zVvoHSndbu',\n",
       " 'Practical illustration of Map-Reduce (Hadoop-style), on real data https://t.co/sURyH9f541',\n",
       " '#Tech news overload? Get the story behind the headline. Become an MIT Technology Review Insider today -… https://t.co/3O4gCc8gI1',\n",
       " 'Thanks @JayMarwaha1 but I am trying to sort out the context of that @Onalytica list -- is it only within the subdom… https://t.co/0UKXpyNkMp',\n",
       " '#DeepLearning - A technical, in depth introduction https://t.co/pk5NJSsMhO',\n",
       " 'RT @CIOStraightTalk: .@gp_pulipaka CEO @DeepSingularity shares the best practices of #DataScience in #healthcare. #STinsights https://t.co/…',\n",
       " 'Do dried tamarind and custard powder need to have special GST rates? Must simplify, simplify. @PMOIndia @arunjaitley https://t.co/vX1TWGQSO8',\n",
       " 'Hot data meets big data to make real-time, real-world decisions https://t.co/RFmKoyExwy https://t.co/H7JKpnS8TK',\n",
       " 'RT @pluralsight: .@dvdkliu shares how to go from \"Average Joe to Salesforce Pro\" in his breakout at #PluralsightLIVE: https://t.co/Y4Jolqbr…',\n",
       " '.@technosophos highlights exciting talks in the ContainerCon track at #OSSummit in Los Angeles: https://t.co/6zLvWwtjsO',\n",
       " 'Thank you @elonmusk for proving everyone wrong —@ProductHunt https://t.co/VgzwWppKJk',\n",
       " 'Apache Flink Training - Working with State. #BigData #DataScience #ApacheFlink #Analytics\\nhttps://t.co/n7ktIKCbaZ https://t.co/hdg7NZWiMm',\n",
       " 'AI In AML: Present Tensed, But Future Perfect. #BigData #MachineLearning #DataScience #AI #FinTech #AML… https://t.co/74SROnv1ZL',\n",
       " 'RT @zenrhino: @jsonbecker @kierisi @dataandme @LucyStats @kara_woo Step 1: Look on an @rstudio cheatsheet.\\n\\nStep 2: Look for an answer from…',\n",
       " 'RT @jsonbecker: @kierisi @dataandme @LucyStats @kara_woo expertise is having the confidence you can google the right words to find your ans…',\n",
       " '@hardmaru @math_rachel That makes us happy :) our plan is world domination by @fastdotai students. Hopefully next v… https://t.co/OMF4qICyB9']"
      ]
     },
     "execution_count": 33,
     "metadata": {},
     "output_type": "execute_result"
    }
   ],
   "source": [
    "[t.text for t in tweets]"
   ]
  },
  {
   "cell_type": "code",
   "execution_count": null,
   "metadata": {
    "scrolled": true
   },
   "outputs": [],
   "source": [
    "for status in tweepy.Cursor(api.user_timeline).items():\n",
    "    # process status here\n",
    "    print(status)"
   ]
  },
  {
   "cell_type": "code",
   "execution_count": 42,
   "metadata": {
    "scrolled": true
   },
   "outputs": [],
   "source": [
    "trends_country = api.trends_available()"
   ]
  },
  {
   "cell_type": "code",
   "execution_count": 43,
   "metadata": {
    "scrolled": true
   },
   "outputs": [
    {
     "data": {
      "text/plain": [
       "list"
      ]
     },
     "execution_count": 43,
     "metadata": {},
     "output_type": "execute_result"
    }
   ],
   "source": [
    "type(trends_country)"
   ]
  },
  {
   "cell_type": "code",
   "execution_count": 55,
   "metadata": {
    "scrolled": true
   },
   "outputs": [
    {
     "name": "stdout",
     "output_type": "stream",
     "text": [
      "http://where.yahooapis.com/v1/place/2282863 300 2282863 Nagpur\n",
      "http://where.yahooapis.com/v1/place/2295377 301 2295377 Lucknow\n",
      "http://where.yahooapis.com/v1/place/2295378 302 2295378 Kanpur\n",
      "http://where.yahooapis.com/v1/place/2295381 303 2295381 Patna\n",
      "http://where.yahooapis.com/v1/place/2295383 304 2295383 Ranchi\n",
      "http://where.yahooapis.com/v1/place/2295386 305 2295386 Kolkata\n",
      "http://where.yahooapis.com/v1/place/2295387 306 2295387 Srinagar\n",
      "http://where.yahooapis.com/v1/place/2295388 307 2295388 Amritsar\n",
      "http://where.yahooapis.com/v1/place/2295401 308 2295401 Jaipur\n",
      "http://where.yahooapis.com/v1/place/2295402 309 2295402 Ahmedabad\n",
      "http://where.yahooapis.com/v1/place/2295404 310 2295404 Rajkot\n",
      "http://where.yahooapis.com/v1/place/2295405 311 2295405 Surat\n",
      "http://where.yahooapis.com/v1/place/2295407 312 2295407 Bhopal\n",
      "http://where.yahooapis.com/v1/place/2295408 313 2295408 Indore\n",
      "http://where.yahooapis.com/v1/place/2295410 314 2295410 Thane\n",
      "http://where.yahooapis.com/v1/place/2295411 315 2295411 Mumbai\n",
      "http://where.yahooapis.com/v1/place/2295412 316 2295412 Pune\n",
      "http://where.yahooapis.com/v1/place/2295414 317 2295414 Hyderabad\n",
      "http://where.yahooapis.com/v1/place/2295420 318 2295420 Bangalore\n",
      "http://where.yahooapis.com/v1/place/2295424 319 2295424 Chennai\n",
      "http://where.yahooapis.com/v1/place/20070458 400 20070458 Delhi\n",
      "http://where.yahooapis.com/v1/place/23424848 424 23424848 India\n"
     ]
    }
   ],
   "source": [
    "for index, dict_ in enumerate(trends_country):\n",
    "    if dict_.get(\"country\") == \"India\":\n",
    "        print(dict_.get(\"url\"), index, dict_.get(\"woeid\"), dict_.get(\"name\"))\n"
   ]
  },
  {
   "cell_type": "code",
   "execution_count": 53,
   "metadata": {
    "scrolled": true
   },
   "outputs": [
    {
     "data": {
      "text/plain": [
       "467"
      ]
     },
     "execution_count": 53,
     "metadata": {},
     "output_type": "execute_result"
    }
   ],
   "source": [
    "len(trends_country)"
   ]
  },
  {
   "cell_type": "code",
   "execution_count": 54,
   "metadata": {
    "scrolled": true
   },
   "outputs": [
    {
     "data": {
      "text/plain": [
       "{'country': 'India',\n",
       " 'countryCode': 'IN',\n",
       " 'name': 'Nagpur',\n",
       " 'parentid': 23424848,\n",
       " 'placeType': {'code': 7, 'name': 'Town'},\n",
       " 'url': 'http://where.yahooapis.com/v1/place/2282863',\n",
       " 'woeid': 2282863}"
      ]
     },
     "execution_count": 54,
     "metadata": {},
     "output_type": "execute_result"
    }
   ],
   "source": [
    "trends_country[300]"
   ]
  },
  {
   "cell_type": "code",
   "execution_count": null,
   "metadata": {
    "collapsed": true,
    "scrolled": true
   },
   "outputs": [],
   "source": []
  },
  {
   "cell_type": "code",
   "execution_count": 56,
   "metadata": {
    "scrolled": false
   },
   "outputs": [
    {
     "data": {
      "text/plain": [
       "[{'as_of': '2017-09-10T06:25:59Z',\n",
       "  'created_at': '2017-09-10T06:17:12Z',\n",
       "  'locations': [{'name': 'Jaipur', 'woeid': 2295401}],\n",
       "  'trends': [{'name': '#YuvaTownHallWithShah',\n",
       "    'promoted_content': None,\n",
       "    'query': '%23YuvaTownHallWithShah',\n",
       "    'tweet_volume': 17631,\n",
       "    'url': 'http://twitter.com/search?q=%23YuvaTownHallWithShah'},\n",
       "   {'name': '#DontListen',\n",
       "    'promoted_content': None,\n",
       "    'query': '%23DontListen',\n",
       "    'tweet_volume': None,\n",
       "    'url': 'http://twitter.com/search?q=%23DontListen'},\n",
       "   {'name': '#CPLfinal',\n",
       "    'promoted_content': None,\n",
       "    'query': '%23CPLfinal',\n",
       "    'tweet_volume': None,\n",
       "    'url': 'http://twitter.com/search?q=%23CPLfinal'},\n",
       "   {'name': 'MERSAL TEASER FEVER',\n",
       "    'promoted_content': None,\n",
       "    'query': '%22MERSAL+TEASER+FEVER%22',\n",
       "    'tweet_volume': 59679,\n",
       "    'url': 'http://twitter.com/search?q=%22MERSAL+TEASER+FEVER%22'},\n",
       "   {'name': '#9AppsFanFest2017',\n",
       "    'promoted_content': None,\n",
       "    'query': '%239AppsFanFest2017',\n",
       "    'tweet_volume': None,\n",
       "    'url': 'http://twitter.com/search?q=%239AppsFanFest2017'},\n",
       "   {'name': '#RohingyasTerrorist',\n",
       "    'promoted_content': None,\n",
       "    'query': '%23RohingyasTerrorist',\n",
       "    'tweet_volume': None,\n",
       "    'url': 'http://twitter.com/search?q=%23RohingyasTerrorist'},\n",
       "   {'name': 'TKR CHAMPIONS OF CPL',\n",
       "    'promoted_content': None,\n",
       "    'query': '%22TKR+CHAMPIONS+OF+CPL%22',\n",
       "    'tweet_volume': None,\n",
       "    'url': 'http://twitter.com/search?q=%22TKR+CHAMPIONS+OF+CPL%22'},\n",
       "   {'name': '60 Indian',\n",
       "    'promoted_content': None,\n",
       "    'query': '%2260+Indian%22',\n",
       "    'tweet_volume': None,\n",
       "    'url': 'http://twitter.com/search?q=%2260+Indian%22'},\n",
       "   {'name': 'INSV Tarini',\n",
       "    'promoted_content': None,\n",
       "    'query': '%22INSV+Tarini%22',\n",
       "    'tweet_volume': None,\n",
       "    'url': 'http://twitter.com/search?q=%22INSV+Tarini%22'},\n",
       "   {'name': 'United Left',\n",
       "    'promoted_content': None,\n",
       "    'query': '%22United+Left%22',\n",
       "    'tweet_volume': None,\n",
       "    'url': 'http://twitter.com/search?q=%22United+Left%22'},\n",
       "   {'name': 'Congress VP Rahul Gandhi',\n",
       "    'promoted_content': None,\n",
       "    'query': '%22Congress+VP+Rahul+Gandhi%22',\n",
       "    'tweet_volume': None,\n",
       "    'url': 'http://twitter.com/search?q=%22Congress+VP+Rahul+Gandhi%22'},\n",
       "   {'name': 'Doklams',\n",
       "    'promoted_content': None,\n",
       "    'query': 'Doklams',\n",
       "    'tweet_volume': None,\n",
       "    'url': 'http://twitter.com/search?q=Doklams'},\n",
       "   {'name': 'All India',\n",
       "    'promoted_content': None,\n",
       "    'query': '%22All+India%22',\n",
       "    'tweet_volume': None,\n",
       "    'url': 'http://twitter.com/search?q=%22All+India%22'},\n",
       "   {'name': 'India Gate',\n",
       "    'promoted_content': None,\n",
       "    'query': '%22India+Gate%22',\n",
       "    'tweet_volume': None,\n",
       "    'url': 'http://twitter.com/search?q=%22India+Gate%22'},\n",
       "   {'name': 'J&K Police',\n",
       "    'promoted_content': None,\n",
       "    'query': '%22J%26K+Police%22',\n",
       "    'tweet_volume': None,\n",
       "    'url': 'http://twitter.com/search?q=%22J%26K+Police%22'},\n",
       "   {'name': 'Ram Jethmalani',\n",
       "    'promoted_content': None,\n",
       "    'query': '%22Ram+Jethmalani%22',\n",
       "    'tweet_volume': None,\n",
       "    'url': 'http://twitter.com/search?q=%22Ram+Jethmalani%22'},\n",
       "   {'name': 'Lessons of Life',\n",
       "    'promoted_content': None,\n",
       "    'query': '%22Lessons+of+Life%22',\n",
       "    'tweet_volume': None,\n",
       "    'url': 'http://twitter.com/search?q=%22Lessons+of+Life%22'},\n",
       "   {'name': 'GSTN',\n",
       "    'promoted_content': None,\n",
       "    'query': 'GSTN',\n",
       "    'tweet_volume': None,\n",
       "    'url': 'http://twitter.com/search?q=GSTN'},\n",
       "   {'name': 'Sloane Stephens',\n",
       "    'promoted_content': None,\n",
       "    'query': '%22Sloane+Stephens%22',\n",
       "    'tweet_volume': 83803,\n",
       "    'url': 'http://twitter.com/search?q=%22Sloane+Stephens%22'},\n",
       "   {'name': 'Mane',\n",
       "    'promoted_content': None,\n",
       "    'query': 'Mane',\n",
       "    'tweet_volume': 270897,\n",
       "    'url': 'http://twitter.com/search?q=Mane'},\n",
       "   {'name': '#VeeraTrailer',\n",
       "    'promoted_content': None,\n",
       "    'query': '%23VeeraTrailer',\n",
       "    'tweet_volume': None,\n",
       "    'url': 'http://twitter.com/search?q=%23VeeraTrailer'},\n",
       "   {'name': '#JaiLavaKusaTrailerDay',\n",
       "    'promoted_content': None,\n",
       "    'query': '%23JaiLavaKusaTrailerDay',\n",
       "    'tweet_volume': 13630,\n",
       "    'url': 'http://twitter.com/search?q=%23JaiLavaKusaTrailerDay'},\n",
       "   {'name': '#WorldSuicidePreventionDay',\n",
       "    'promoted_content': None,\n",
       "    'query': '%23WorldSuicidePreventionDay',\n",
       "    'tweet_volume': None,\n",
       "    'url': 'http://twitter.com/search?q=%23WorldSuicidePreventionDay'},\n",
       "   {'name': '#आप_किसान_सम्मेलन',\n",
       "    'promoted_content': None,\n",
       "    'query': '%23%E0%A4%86%E0%A4%AA_%E0%A4%95%E0%A4%BF%E0%A4%B8%E0%A4%BE%E0%A4%A8_%E0%A4%B8%E0%A4%AE%E0%A5%8D%E0%A4%AE%E0%A5%87%E0%A4%B2%E0%A4%A8',\n",
       "    'tweet_volume': None,\n",
       "    'url': 'http://twitter.com/search?q=%23%E0%A4%86%E0%A4%AA_%E0%A4%95%E0%A4%BF%E0%A4%B8%E0%A4%BE%E0%A4%A8_%E0%A4%B8%E0%A4%AE%E0%A5%8D%E0%A4%AE%E0%A5%87%E0%A4%B2%E0%A4%A8'},\n",
       "   {'name': '#Shopian',\n",
       "    'promoted_content': None,\n",
       "    'query': '%23Shopian',\n",
       "    'tweet_volume': None,\n",
       "    'url': 'http://twitter.com/search?q=%23Shopian'},\n",
       "   {'name': '#UFC215',\n",
       "    'promoted_content': None,\n",
       "    'query': '%23UFC215',\n",
       "    'tweet_volume': 72657,\n",
       "    'url': 'http://twitter.com/search?q=%23UFC215'},\n",
       "   {'name': '#BVRadha',\n",
       "    'promoted_content': None,\n",
       "    'query': '%23BVRadha',\n",
       "    'tweet_volume': None,\n",
       "    'url': 'http://twitter.com/search?q=%23BVRadha'},\n",
       "   {'name': '#HBDJayamRavi',\n",
       "    'promoted_content': None,\n",
       "    'query': '%23HBDJayamRavi',\n",
       "    'tweet_volume': None,\n",
       "    'url': 'http://twitter.com/search?q=%23HBDJayamRavi'},\n",
       "   {'name': '#SundayMorning',\n",
       "    'promoted_content': None,\n",
       "    'query': '%23SundayMorning',\n",
       "    'tweet_volume': None,\n",
       "    'url': 'http://twitter.com/search?q=%23SundayMorning'},\n",
       "   {'name': '#ThinkBIGSundayWithMarsha',\n",
       "    'promoted_content': None,\n",
       "    'query': '%23ThinkBIGSundayWithMarsha',\n",
       "    'tweet_volume': None,\n",
       "    'url': 'http://twitter.com/search?q=%23ThinkBIGSundayWithMarsha'},\n",
       "   {'name': '#ETMagazine',\n",
       "    'promoted_content': None,\n",
       "    'query': '%23ETMagazine',\n",
       "    'tweet_volume': None,\n",
       "    'url': 'http://twitter.com/search?q=%23ETMagazine'},\n",
       "   {'name': '#RyanInternationalSchool',\n",
       "    'promoted_content': None,\n",
       "    'query': '%23RyanInternationalSchool',\n",
       "    'tweet_volume': 32070,\n",
       "    'url': 'http://twitter.com/search?q=%23RyanInternationalSchool'},\n",
       "   {'name': '#HappyBirthdayAkshayKumar',\n",
       "    'promoted_content': None,\n",
       "    'query': '%23HappyBirthdayAkshayKumar',\n",
       "    'tweet_volume': 47009,\n",
       "    'url': 'http://twitter.com/search?q=%23HappyBirthdayAkshayKumar'},\n",
       "   {'name': '#SpyderAudioLaunch',\n",
       "    'promoted_content': None,\n",
       "    'query': '%23SpyderAudioLaunch',\n",
       "    'tweet_volume': 105274,\n",
       "    'url': 'http://twitter.com/search?q=%23SpyderAudioLaunch'},\n",
       "   {'name': '#MCILIV',\n",
       "    'promoted_content': None,\n",
       "    'query': '%23MCILIV',\n",
       "    'tweet_volume': 80852,\n",
       "    'url': 'http://twitter.com/search?q=%23MCILIV'},\n",
       "   {'name': '#ENGvWI',\n",
       "    'promoted_content': None,\n",
       "    'query': '%23ENGvWI',\n",
       "    'tweet_volume': 12230,\n",
       "    'url': 'http://twitter.com/search?q=%23ENGvWI'},\n",
       "   {'name': '#JayanthiNatarajan',\n",
       "    'promoted_content': None,\n",
       "    'query': '%23JayanthiNatarajan',\n",
       "    'tweet_volume': None,\n",
       "    'url': 'http://twitter.com/search?q=%23JayanthiNatarajan'},\n",
       "   {'name': '#GSTCouncil',\n",
       "    'promoted_content': None,\n",
       "    'query': '%23GSTCouncil',\n",
       "    'tweet_volume': None,\n",
       "    'url': 'http://twitter.com/search?q=%23GSTCouncil'},\n",
       "   {'name': '#AbusiveLiberals',\n",
       "    'promoted_content': None,\n",
       "    'query': '%23AbusiveLiberals',\n",
       "    'tweet_volume': 11922,\n",
       "    'url': 'http://twitter.com/search?q=%23AbusiveLiberals'},\n",
       "   {'name': '#HaraHaraMahadevaki',\n",
       "    'promoted_content': None,\n",
       "    'query': '%23HaraHaraMahadevaki',\n",
       "    'tweet_volume': None,\n",
       "    'url': 'http://twitter.com/search?q=%23HaraHaraMahadevaki'},\n",
       "   {'name': '#vergevapes',\n",
       "    'promoted_content': None,\n",
       "    'query': '%23vergevapes',\n",
       "    'tweet_volume': None,\n",
       "    'url': 'http://twitter.com/search?q=%23vergevapes'},\n",
       "   {'name': '#SpartanIPCAwards',\n",
       "    'promoted_content': None,\n",
       "    'query': '%23SpartanIPCAwards',\n",
       "    'tweet_volume': None,\n",
       "    'url': 'http://twitter.com/search?q=%23SpartanIPCAwards'},\n",
       "   {'name': '#STKMUN',\n",
       "    'promoted_content': None,\n",
       "    'query': '%23STKMUN',\n",
       "    'tweet_volume': 53836,\n",
       "    'url': 'http://twitter.com/search?q=%23STKMUN'},\n",
       "   {'name': '#Mere10Guz',\n",
       "    'promoted_content': None,\n",
       "    'query': '%23Mere10Guz',\n",
       "    'tweet_volume': 16197,\n",
       "    'url': 'http://twitter.com/search?q=%23Mere10Guz'},\n",
       "   {'name': '#Thupparivaalan',\n",
       "    'promoted_content': None,\n",
       "    'query': '%23Thupparivaalan',\n",
       "    'tweet_volume': None,\n",
       "    'url': 'http://twitter.com/search?q=%23Thupparivaalan'},\n",
       "   {'name': '#Oslo',\n",
       "    'promoted_content': None,\n",
       "    'query': '%23Oslo',\n",
       "    'tweet_volume': None,\n",
       "    'url': 'http://twitter.com/search?q=%23Oslo'},\n",
       "   {'name': '#BTFashionWK',\n",
       "    'promoted_content': None,\n",
       "    'query': '%23BTFashionWK',\n",
       "    'tweet_volume': None,\n",
       "    'url': 'http://twitter.com/search?q=%23BTFashionWK'},\n",
       "   {'name': '#PremierLeague',\n",
       "    'promoted_content': None,\n",
       "    'query': '%23PremierLeague',\n",
       "    'tweet_volume': 24320,\n",
       "    'url': 'http://twitter.com/search?q=%23PremierLeague'},\n",
       "   {'name': '#HTColumn',\n",
       "    'promoted_content': None,\n",
       "    'query': '%23HTColumn',\n",
       "    'tweet_volume': None,\n",
       "    'url': 'http://twitter.com/search?q=%23HTColumn'},\n",
       "   {'name': '#PosterBoys',\n",
       "    'promoted_content': None,\n",
       "    'query': '%23PosterBoys',\n",
       "    'tweet_volume': None,\n",
       "    'url': 'http://twitter.com/search?q=%23PosterBoys'}]}]"
      ]
     },
     "execution_count": 56,
     "metadata": {},
     "output_type": "execute_result"
    }
   ],
   "source": [
    "api.trends_place(2295401)"
   ]
  },
  {
   "cell_type": "code",
   "execution_count": 59,
   "metadata": {
    "scrolled": false
   },
   "outputs": [
    {
     "name": "stdout",
     "output_type": "stream",
     "text": [
      "RT @RVCJ_FB: Take A Bow..Trinbago Knight Riders\n",
      "#CPLfinal #CPL17 #CPLT20 https://t.co/1Gp7uanbU7\n",
      "RT @CPL: CHAMPIONS! @TKRiders #CPL17 #CPLFinal #Biggestpartyinsport #SKPvTKR https://t.co/Ulel9EcdlL\n",
      "RT @RKSDL_9: #CPLfinal\n",
      "#ज्ञान_का_अखाड़ा मे #संतरामपालजी ने सभी धर्मगुरुओ को किया आमंत्रित लेकिन कोई नही आया.@aajtak\n",
      "#NarendraModi\n",
      "https://t…\n",
      "RT @JoySRKian: SRKian right now ... \n",
      "\n",
      "#CPLfinal \n",
      "\n",
      "https://t.co/tKmyp6uq2k\n",
      "RT @CPL: CHAMPIONS! @TKRiders #CPL17 #CPLFinal #Biggestpartyinsport #SKPvTKR https://t.co/Ulel9EcdlL\n",
      "RT @CPL: CHAMPIONS! @TKRiders #CPL17 #CPLFinal #Biggestpartyinsport #SKPvTKR https://t.co/Ulel9EcdlL\n",
      "RT @ESPNcricinfo: Trinbago Knight Riders are the Caribbean Premier League champions 🏆\n",
      "\n",
      "#CPLfinal https://t.co/awyuR1Fdy2 https://t.co/Z4dBA…\n",
      "#CPLfinal\n",
      "#ज्ञान_का_अखाड़ा\n",
      "अवधु अविगत से चल आया,कोई मेरा भेद मर्म नही पाया।\n",
      "@narendramodi\n",
      "@rajnathsingh\n",
      "@mlkhattar… https://t.co/foa7OOyU9U\n",
      "#CPLfinal\n",
      "#ज्ञान_का_अखाड़ा\n",
      "अवधु अविगत से चल आया,कोई मेरा भेद मर्म नही पाया।\n",
      "@narendramodi\n",
      "@rajnathsingh\n",
      "@mlkhattar… https://t.co/kVZQTfxByE\n",
      ".@iamsrk की टीम @TKRiders ने दूसरी बार जीता @CPL खिताब\n",
      "https://t.co/M5ttmZBswZ\n",
      "#CPLfinal #TrinbagoKnightRiders #CPL17Final #CPL17\n",
      "#CPLfinal\n",
      "#ज्ञान_का_अखाड़ा\n",
      "अवधु अविगत से चल आया,कोई मेरा भेद मर्म नही पाया।\n",
      "@narendramodi\n",
      "@rajnathsingh\n",
      "@mlkhattar… https://t.co/eKwxgrmMWo\n",
      "#CPLfinal\n",
      "#ज्ञान_का_अखाड़ा\n",
      "अवधु अविगत से चल आया,कोई मेरा भेद मर्म नही पाया।\n",
      "@narendramodi\n",
      "@rajnathsingh\n",
      "@mlkhattar… https://t.co/WI0BCEbxK5\n",
      "#CPLfinal\n",
      "#ज्ञान_का_अखाड़ा\n",
      "अवधु अविगत से चल आया,कोई मेरा भेद मर्म नही पाया।\n",
      "@narendramodi\n",
      "@rajnathsingh\n",
      "@mlkhattar… https://t.co/FjaDjGOXt4\n",
      "#CPLfinal\n",
      "#ज्ञान_का_अखाड़ा\n",
      "अवधु अविगत से चल आया,कोई मेरा भेद मर्म नही पाया।\n",
      "@narendramodi\n",
      "@rajnathsingh\n",
      "@mlkhattar… https://t.co/mAaPUTIzMw\n",
      "Darren and Dwayne Bravo celebrate the CPL victory. #CPLfinal https://t.co/zrRELrY8Bn\n"
     ]
    }
   ],
   "source": [
    "for i in api.search(\"#CPLFinal\"):\n",
    "    print(i.text)"
   ]
  },
  {
   "cell_type": "code",
   "execution_count": 4,
   "metadata": {
    "scrolled": true
   },
   "outputs": [],
   "source": []
  },
  {
   "cell_type": "code",
   "execution_count": 8,
   "metadata": {
    "collapsed": true,
    "scrolled": true
   },
   "outputs": [],
   "source": [
    "import tweepy\n",
    "#override tweepy.StreamListener to add logic to on_status\n",
    "class MyStreamListener(tweepy.StreamListener):\n",
    "\n",
    "    def on_status(self, status):\n",
    "        print(status.text)\n",
    "        return status.text\n",
    "    def on_error(self, status_code):\n",
    "        if status_code == 420:\n",
    "            #returning False in on_data disconnects the stream\n",
    "            return False"
   ]
  },
  {
   "cell_type": "code",
   "execution_count": 9,
   "metadata": {
    "scrolled": true
   },
   "outputs": [],
   "source": [
    "myStreamListener = MyStreamListener()\n",
    "myStream = tweepy.Stream(auth = api.auth, listener=myStreamListener)"
   ]
  },
  {
   "cell_type": "code",
   "execution_count": 10,
   "metadata": {
    "scrolled": false
   },
   "outputs": [
    {
     "name": "stdout",
     "output_type": "stream",
     "text": [
      "RT @MaceScaron: Plus que tout discours officiel, une décision qui en dit long sur la situation à #SaintMartin https://t.co/4MaWTGDV3N\n",
      "RT @Rambobiggs: Hurricane Irma was Hillary's only chance for her books to fly off the shelves.\n",
      "Pour les #marchés donc, Irma n’a pas été une catastrophe. Certains anticipent même l’aspect positif des reconstructions éventuelles à venir\n",
      "RT @PeroqeSaborr: Su nivel de idiotez es impresionante https://t.co/x3t8igbjnc\n",
      "RT @CNN: Disney World and Universal Studios both plan to reopen today after Hurricane Irma https://t.co/mcY8yHcWaH https://t.co/ViO3n5IGhz\n",
      "Even as #Irma gets weaker, the #TropicalDepression is still creating a dangerous mess across parts of the south: https://t.co/BuFeM6o09Z\n",
      "Irma is now a Tropical Depression after hitting Florida, Georgia and South Carolina.  https://t.co/7U9fx3A0Hd\n",
      "RT @Nasser_Nuweiser: صنفه عال العال 😂\n",
      "\n",
      "#Irma #اعصار_إيرما https://t.co/hWuFYKSJRq\n",
      "C'est drôle mais c'est gênant. https://t.co/i8xdKkMuEJ\n",
      "RT @DocKellogs: Faut vraiment être con pour acheter un ouragan. https://t.co/I5NJ54RMig\n",
      "RT @rodriguedz_: pq os furacão tem tudo nome simpático? \"irma, sandy\" coloca uns nome tipo MEGATRON 3000 ULTIMATE SUPER que a galera vai re…\n",
      "RT @Mr_DrinksOnMe: Hurricane Irma giving gifts. https://t.co/yiDJ0SMFId\n",
      "RT @aoojadi: looking like he's tryna deliver that krusty krab pizza https://t.co/Ygyo61kKkR\n",
      "RT @RT_com: Looters are wasting no time as Hurricane Irma plows past Florida https://t.co/OT15fOGJs1\n",
      "RT @OceanGrownTREEZ: This look like when u buy something on The Sims. https://t.co/VUqQhcrNtz\n",
      "RT @ABC: Police officer saves an American flag laying in the middle of the road in Coral Springs, Florida, after #Irma.… \n",
      "RT @kikecruznotiuno: Floridians expected to wait weeks for electricity after Irma - Miami Herald https://t.co/7px3RylVJH\n",
      "RT @TimTebow: Totally uplifted by this #ww2 veteran, who's spirit and talents encouraged his fellow visitors at this Special Need… \n",
      "RT @AP: A time-lapse video captured by the Associated Press shows the impact Hurricane Irma had on the Miami Beach area. https://t.co/F5wlJ…\n",
      "RT @SUPLEXClTYBITCH: Irma please accept this offering https://t.co/FPk3ZqzmlZ\n",
      "Du côté Pays-Bas, des mili mettent les pillards en joue.\n",
      "Du côté FR, la police laisse faire. La sécurité incombe aux milices\n",
      "#StMartin #Irma\n",
      "'I could see the panic starting to set in': Former Sudburian recalls fleeing Irma https://t.co/niqISyAePG\n",
      "RT @victoriaxo01: Well I wonder why Bryan https://t.co/eoZevA5Fll\n",
      "RT @ladensvg: la floride a 99 problèmes mais Irma n'en n'est pas un\n",
      "\n",
      " https://t.co/y6gLpGOHCp\n",
      "RT @DigitalSevilla: Evacuado de su casa en Florida el gilipollas que afirmó que el huracán Irma era un fraude https://t.co/k8eDlBJoIC\n",
      "RT @EricBurrisWESH: Want an interesting comparison? Here's a look at Irma on the bottom, and Andrew on top- Incredible how much bigger… \n",
      "RT @hidakatoru: Praying for victims of Irma and 911. https://t.co/29MTUc0Y8i\n",
      "RT @lraitt: The liberals have to do better than this. Our government didn't have a plan': Canadians trapped by Irma  https://t.co/eWHoDJWv08\n",
      "RT @rightvoicenow: 🐶A TRUE HERO🐶\n",
      "#hurricaneirma2017 DON'T ABANDON YOUR PETS!!!\n",
      "#Hurricane #Irma #news #Miami #Florida #HurricaneIrma https:…\n",
      "Irma kasırgası Esenyurta ulaştı galiba\n",
      "o furacão irma tá passando por aqui e ninguém ta preocupado\n",
      "Hurricane Irma: Florida to re-open storm-ravaged Keys #WorldNews https://t.co/wV9V3YFgJG\n",
      "RT @meenamalviy: #जगतगुरुरामपालजी के शिवाय किसी को नही हे सत ज्ञान \n",
      "#Irma \n",
      "#hurricaneimra \n",
      "#NYGvsDAL \n",
      "#September11 \n",
      "#hurricaneimra… \n",
      "RT @DerekUtleyCEO: Even in the midst of a Hurricane Irma, a soldier in Florida showed his respect for the America Flag! 🇺🇸 credit: Fox… \n",
      "RT @KellyannePolls: Today: the 16th anniversary of 9-11; the nation is helping Harvey &amp; Irma hurricane survivors &amp; Hillary is talking a… \n",
      "RT @Mowgli_Alg: Dites vous c' est un autre animal qui le sauve pendant que l'humain il film mdr https://t.co/I11B4WaArj\n",
      "Good early Tuesday morning! Irma has passed us by here in Tallahassee. I am an Uber Driver 🚘, and hope to get back on the road today.\n",
      "RT @rodriguedz_: pq os furacão tem tudo nome simpático? \"irma, sandy\" coloca uns nome tipo MEGATRON 3000 ULTIMATE SUPER que a galera vai re…\n",
      "RT @Grajalesluise: #Miami este hombre recoge perros durante el huracán #Irma Felicitaciones. (RT masivo por favor) https://t.co/QN1OgWUXfY\n"
     ]
    },
    {
     "ename": "KeyboardInterrupt",
     "evalue": "",
     "output_type": "error",
     "traceback": [
      "\u001b[0;31m---------------------------------------------------------------------------\u001b[0m",
      "\u001b[0;31mKeyboardInterrupt\u001b[0m                         Traceback (most recent call last)",
      "\u001b[0;32m<ipython-input-10-e4637ad8f697>\u001b[0m in \u001b[0;36m<module>\u001b[0;34m()\u001b[0m\n\u001b[0;32m----> 1\u001b[0;31m \u001b[0mmyStream\u001b[0m\u001b[0;34m.\u001b[0m\u001b[0mfilter\u001b[0m\u001b[0;34m(\u001b[0m\u001b[0mtrack\u001b[0m\u001b[0;34m=\u001b[0m\u001b[0;34m[\u001b[0m\u001b[0;34m'irma'\u001b[0m\u001b[0;34m]\u001b[0m\u001b[0;34m)\u001b[0m\u001b[0;34m\u001b[0m\u001b[0m\n\u001b[0m",
      "\u001b[0;32m/home/shivam/Desktop/work/venvs/nlp/local/lib/python2.7/site-packages/tweepy/streaming.pyc\u001b[0m in \u001b[0;36mfilter\u001b[0;34m(self, follow, track, async, locations, stall_warnings, languages, encoding, filter_level)\u001b[0m\n\u001b[1;32m    443\u001b[0m         \u001b[0mself\u001b[0m\u001b[0;34m.\u001b[0m\u001b[0msession\u001b[0m\u001b[0;34m.\u001b[0m\u001b[0mparams\u001b[0m \u001b[0;34m=\u001b[0m \u001b[0;34m{\u001b[0m\u001b[0;34m'delimited'\u001b[0m\u001b[0;34m:\u001b[0m \u001b[0;34m'length'\u001b[0m\u001b[0;34m}\u001b[0m\u001b[0;34m\u001b[0m\u001b[0m\n\u001b[1;32m    444\u001b[0m         \u001b[0mself\u001b[0m\u001b[0;34m.\u001b[0m\u001b[0mhost\u001b[0m \u001b[0;34m=\u001b[0m \u001b[0;34m'stream.twitter.com'\u001b[0m\u001b[0;34m\u001b[0m\u001b[0m\n\u001b[0;32m--> 445\u001b[0;31m         \u001b[0mself\u001b[0m\u001b[0;34m.\u001b[0m\u001b[0m_start\u001b[0m\u001b[0;34m(\u001b[0m\u001b[0masync\u001b[0m\u001b[0;34m)\u001b[0m\u001b[0;34m\u001b[0m\u001b[0m\n\u001b[0m\u001b[1;32m    446\u001b[0m \u001b[0;34m\u001b[0m\u001b[0m\n\u001b[1;32m    447\u001b[0m     def sitestream(self, follow, stall_warnings=False,\n",
      "\u001b[0;32m/home/shivam/Desktop/work/venvs/nlp/local/lib/python2.7/site-packages/tweepy/streaming.pyc\u001b[0m in \u001b[0;36m_start\u001b[0;34m(self, async)\u001b[0m\n\u001b[1;32m    359\u001b[0m             \u001b[0mself\u001b[0m\u001b[0;34m.\u001b[0m\u001b[0m_thread\u001b[0m\u001b[0;34m.\u001b[0m\u001b[0mstart\u001b[0m\u001b[0;34m(\u001b[0m\u001b[0;34m)\u001b[0m\u001b[0;34m\u001b[0m\u001b[0m\n\u001b[1;32m    360\u001b[0m         \u001b[0;32melse\u001b[0m\u001b[0;34m:\u001b[0m\u001b[0;34m\u001b[0m\u001b[0m\n\u001b[0;32m--> 361\u001b[0;31m             \u001b[0mself\u001b[0m\u001b[0;34m.\u001b[0m\u001b[0m_run\u001b[0m\u001b[0;34m(\u001b[0m\u001b[0;34m)\u001b[0m\u001b[0;34m\u001b[0m\u001b[0m\n\u001b[0m\u001b[1;32m    362\u001b[0m \u001b[0;34m\u001b[0m\u001b[0m\n\u001b[1;32m    363\u001b[0m     \u001b[0;32mdef\u001b[0m \u001b[0mon_closed\u001b[0m\u001b[0;34m(\u001b[0m\u001b[0mself\u001b[0m\u001b[0;34m,\u001b[0m \u001b[0mresp\u001b[0m\u001b[0;34m)\u001b[0m\u001b[0;34m:\u001b[0m\u001b[0;34m\u001b[0m\u001b[0m\n",
      "\u001b[0;32m/home/shivam/Desktop/work/venvs/nlp/local/lib/python2.7/site-packages/tweepy/streaming.pyc\u001b[0m in \u001b[0;36m_run\u001b[0;34m(self)\u001b[0m\n\u001b[1;32m    261\u001b[0m                     \u001b[0mself\u001b[0m\u001b[0;34m.\u001b[0m\u001b[0msnooze_time\u001b[0m \u001b[0;34m=\u001b[0m \u001b[0mself\u001b[0m\u001b[0;34m.\u001b[0m\u001b[0msnooze_time_step\u001b[0m\u001b[0;34m\u001b[0m\u001b[0m\n\u001b[1;32m    262\u001b[0m                     \u001b[0mself\u001b[0m\u001b[0;34m.\u001b[0m\u001b[0mlistener\u001b[0m\u001b[0;34m.\u001b[0m\u001b[0mon_connect\u001b[0m\u001b[0;34m(\u001b[0m\u001b[0;34m)\u001b[0m\u001b[0;34m\u001b[0m\u001b[0m\n\u001b[0;32m--> 263\u001b[0;31m                     \u001b[0mself\u001b[0m\u001b[0;34m.\u001b[0m\u001b[0m_read_loop\u001b[0m\u001b[0;34m(\u001b[0m\u001b[0mresp\u001b[0m\u001b[0;34m)\u001b[0m\u001b[0;34m\u001b[0m\u001b[0m\n\u001b[0m\u001b[1;32m    264\u001b[0m             \u001b[0;32mexcept\u001b[0m \u001b[0;34m(\u001b[0m\u001b[0mTimeout\u001b[0m\u001b[0;34m,\u001b[0m \u001b[0mssl\u001b[0m\u001b[0;34m.\u001b[0m\u001b[0mSSLError\u001b[0m\u001b[0;34m)\u001b[0m \u001b[0;32mas\u001b[0m \u001b[0mexc\u001b[0m\u001b[0;34m:\u001b[0m\u001b[0;34m\u001b[0m\u001b[0m\n\u001b[1;32m    265\u001b[0m                 \u001b[0;31m# This is still necessary, as a SSLError can actually be\u001b[0m\u001b[0;34m\u001b[0m\u001b[0;34m\u001b[0m\u001b[0m\n",
      "\u001b[0;32m/home/shivam/Desktop/work/venvs/nlp/local/lib/python2.7/site-packages/tweepy/streaming.pyc\u001b[0m in \u001b[0;36m_read_loop\u001b[0;34m(self, resp)\u001b[0m\n\u001b[1;32m    311\u001b[0m             \u001b[0mlength\u001b[0m \u001b[0;34m=\u001b[0m \u001b[0;36m0\u001b[0m\u001b[0;34m\u001b[0m\u001b[0m\n\u001b[1;32m    312\u001b[0m             \u001b[0;32mwhile\u001b[0m \u001b[0;32mnot\u001b[0m \u001b[0mresp\u001b[0m\u001b[0;34m.\u001b[0m\u001b[0mraw\u001b[0m\u001b[0;34m.\u001b[0m\u001b[0mclosed\u001b[0m\u001b[0;34m:\u001b[0m\u001b[0;34m\u001b[0m\u001b[0m\n\u001b[0;32m--> 313\u001b[0;31m                 \u001b[0mline\u001b[0m \u001b[0;34m=\u001b[0m \u001b[0mbuf\u001b[0m\u001b[0;34m.\u001b[0m\u001b[0mread_line\u001b[0m\u001b[0;34m(\u001b[0m\u001b[0;34m)\u001b[0m\u001b[0;34m.\u001b[0m\u001b[0mstrip\u001b[0m\u001b[0;34m(\u001b[0m\u001b[0;34m)\u001b[0m\u001b[0;34m\u001b[0m\u001b[0m\n\u001b[0m\u001b[1;32m    314\u001b[0m                 \u001b[0;32mif\u001b[0m \u001b[0;32mnot\u001b[0m \u001b[0mline\u001b[0m\u001b[0;34m:\u001b[0m\u001b[0;34m\u001b[0m\u001b[0m\n\u001b[1;32m    315\u001b[0m                     \u001b[0mself\u001b[0m\u001b[0;34m.\u001b[0m\u001b[0mlistener\u001b[0m\u001b[0;34m.\u001b[0m\u001b[0mkeep_alive\u001b[0m\u001b[0;34m(\u001b[0m\u001b[0;34m)\u001b[0m  \u001b[0;31m# keep-alive new lines are expected\u001b[0m\u001b[0;34m\u001b[0m\u001b[0m\n",
      "\u001b[0;32m/home/shivam/Desktop/work/venvs/nlp/local/lib/python2.7/site-packages/tweepy/streaming.pyc\u001b[0m in \u001b[0;36mread_line\u001b[0;34m(self, sep)\u001b[0m\n\u001b[1;32m    177\u001b[0m             \u001b[0;32melse\u001b[0m\u001b[0;34m:\u001b[0m\u001b[0;34m\u001b[0m\u001b[0m\n\u001b[1;32m    178\u001b[0m                 \u001b[0mstart\u001b[0m \u001b[0;34m=\u001b[0m \u001b[0mlen\u001b[0m\u001b[0;34m(\u001b[0m\u001b[0mself\u001b[0m\u001b[0;34m.\u001b[0m\u001b[0m_buffer\u001b[0m\u001b[0;34m)\u001b[0m\u001b[0;34m\u001b[0m\u001b[0m\n\u001b[0;32m--> 179\u001b[0;31m             \u001b[0mself\u001b[0m\u001b[0;34m.\u001b[0m\u001b[0m_buffer\u001b[0m \u001b[0;34m+=\u001b[0m \u001b[0mself\u001b[0m\u001b[0;34m.\u001b[0m\u001b[0m_stream\u001b[0m\u001b[0;34m.\u001b[0m\u001b[0mread\u001b[0m\u001b[0;34m(\u001b[0m\u001b[0mself\u001b[0m\u001b[0;34m.\u001b[0m\u001b[0m_chunk_size\u001b[0m\u001b[0;34m)\u001b[0m\u001b[0;34m\u001b[0m\u001b[0m\n\u001b[0m\u001b[1;32m    180\u001b[0m \u001b[0;34m\u001b[0m\u001b[0m\n\u001b[1;32m    181\u001b[0m     \u001b[0;32mdef\u001b[0m \u001b[0m_pop\u001b[0m\u001b[0;34m(\u001b[0m\u001b[0mself\u001b[0m\u001b[0;34m,\u001b[0m \u001b[0mlength\u001b[0m\u001b[0;34m)\u001b[0m\u001b[0;34m:\u001b[0m\u001b[0;34m\u001b[0m\u001b[0m\n",
      "\u001b[0;32m/home/shivam/Desktop/work/venvs/nlp/local/lib/python2.7/site-packages/urllib3/response.pyc\u001b[0m in \u001b[0;36mread\u001b[0;34m(self, amt, decode_content, cache_content)\u001b[0m\n\u001b[1;32m    382\u001b[0m             \u001b[0;32melse\u001b[0m\u001b[0;34m:\u001b[0m\u001b[0;34m\u001b[0m\u001b[0m\n\u001b[1;32m    383\u001b[0m                 \u001b[0mcache_content\u001b[0m \u001b[0;34m=\u001b[0m \u001b[0mFalse\u001b[0m\u001b[0;34m\u001b[0m\u001b[0m\n\u001b[0;32m--> 384\u001b[0;31m                 \u001b[0mdata\u001b[0m \u001b[0;34m=\u001b[0m \u001b[0mself\u001b[0m\u001b[0;34m.\u001b[0m\u001b[0m_fp\u001b[0m\u001b[0;34m.\u001b[0m\u001b[0mread\u001b[0m\u001b[0;34m(\u001b[0m\u001b[0mamt\u001b[0m\u001b[0;34m)\u001b[0m\u001b[0;34m\u001b[0m\u001b[0m\n\u001b[0m\u001b[1;32m    385\u001b[0m                 \u001b[0;32mif\u001b[0m \u001b[0mamt\u001b[0m \u001b[0;34m!=\u001b[0m \u001b[0;36m0\u001b[0m \u001b[0;32mand\u001b[0m \u001b[0;32mnot\u001b[0m \u001b[0mdata\u001b[0m\u001b[0;34m:\u001b[0m  \u001b[0;31m# Platform-specific: Buggy versions of Python.\u001b[0m\u001b[0;34m\u001b[0m\u001b[0m\n\u001b[1;32m    386\u001b[0m                     \u001b[0;31m# Close the connection when no data is returned\u001b[0m\u001b[0;34m\u001b[0m\u001b[0;34m\u001b[0m\u001b[0m\n",
      "\u001b[0;32m/usr/lib/python2.7/httplib.pyc\u001b[0m in \u001b[0;36mread\u001b[0;34m(self, amt)\u001b[0m\n\u001b[1;32m    586\u001b[0m \u001b[0;34m\u001b[0m\u001b[0m\n\u001b[1;32m    587\u001b[0m         \u001b[0;32mif\u001b[0m \u001b[0mself\u001b[0m\u001b[0;34m.\u001b[0m\u001b[0mchunked\u001b[0m\u001b[0;34m:\u001b[0m\u001b[0;34m\u001b[0m\u001b[0m\n\u001b[0;32m--> 588\u001b[0;31m             \u001b[0;32mreturn\u001b[0m \u001b[0mself\u001b[0m\u001b[0;34m.\u001b[0m\u001b[0m_read_chunked\u001b[0m\u001b[0;34m(\u001b[0m\u001b[0mamt\u001b[0m\u001b[0;34m)\u001b[0m\u001b[0;34m\u001b[0m\u001b[0m\n\u001b[0m\u001b[1;32m    589\u001b[0m \u001b[0;34m\u001b[0m\u001b[0m\n\u001b[1;32m    590\u001b[0m         \u001b[0;32mif\u001b[0m \u001b[0mamt\u001b[0m \u001b[0;32mis\u001b[0m \u001b[0mNone\u001b[0m\u001b[0;34m:\u001b[0m\u001b[0;34m\u001b[0m\u001b[0m\n",
      "\u001b[0;32m/usr/lib/python2.7/httplib.pyc\u001b[0m in \u001b[0;36m_read_chunked\u001b[0;34m(self, amt)\u001b[0m\n\u001b[1;32m    628\u001b[0m         \u001b[0;32mwhile\u001b[0m \u001b[0mTrue\u001b[0m\u001b[0;34m:\u001b[0m\u001b[0;34m\u001b[0m\u001b[0m\n\u001b[1;32m    629\u001b[0m             \u001b[0;32mif\u001b[0m \u001b[0mchunk_left\u001b[0m \u001b[0;32mis\u001b[0m \u001b[0mNone\u001b[0m\u001b[0;34m:\u001b[0m\u001b[0;34m\u001b[0m\u001b[0m\n\u001b[0;32m--> 630\u001b[0;31m                 \u001b[0mline\u001b[0m \u001b[0;34m=\u001b[0m \u001b[0mself\u001b[0m\u001b[0;34m.\u001b[0m\u001b[0mfp\u001b[0m\u001b[0;34m.\u001b[0m\u001b[0mreadline\u001b[0m\u001b[0;34m(\u001b[0m\u001b[0m_MAXLINE\u001b[0m \u001b[0;34m+\u001b[0m \u001b[0;36m1\u001b[0m\u001b[0;34m)\u001b[0m\u001b[0;34m\u001b[0m\u001b[0m\n\u001b[0m\u001b[1;32m    631\u001b[0m                 \u001b[0;32mif\u001b[0m \u001b[0mlen\u001b[0m\u001b[0;34m(\u001b[0m\u001b[0mline\u001b[0m\u001b[0;34m)\u001b[0m \u001b[0;34m>\u001b[0m \u001b[0m_MAXLINE\u001b[0m\u001b[0;34m:\u001b[0m\u001b[0;34m\u001b[0m\u001b[0m\n\u001b[1;32m    632\u001b[0m                     \u001b[0;32mraise\u001b[0m \u001b[0mLineTooLong\u001b[0m\u001b[0;34m(\u001b[0m\u001b[0;34m\"chunk size\"\u001b[0m\u001b[0;34m)\u001b[0m\u001b[0;34m\u001b[0m\u001b[0m\n",
      "\u001b[0;32m/usr/lib/python2.7/socket.pyc\u001b[0m in \u001b[0;36mreadline\u001b[0;34m(self, size)\u001b[0m\n\u001b[1;32m    478\u001b[0m             \u001b[0;32mwhile\u001b[0m \u001b[0mTrue\u001b[0m\u001b[0;34m:\u001b[0m\u001b[0;34m\u001b[0m\u001b[0m\n\u001b[1;32m    479\u001b[0m                 \u001b[0;32mtry\u001b[0m\u001b[0;34m:\u001b[0m\u001b[0;34m\u001b[0m\u001b[0m\n\u001b[0;32m--> 480\u001b[0;31m                     \u001b[0mdata\u001b[0m \u001b[0;34m=\u001b[0m \u001b[0mself\u001b[0m\u001b[0;34m.\u001b[0m\u001b[0m_sock\u001b[0m\u001b[0;34m.\u001b[0m\u001b[0mrecv\u001b[0m\u001b[0;34m(\u001b[0m\u001b[0mself\u001b[0m\u001b[0;34m.\u001b[0m\u001b[0m_rbufsize\u001b[0m\u001b[0;34m)\u001b[0m\u001b[0;34m\u001b[0m\u001b[0m\n\u001b[0m\u001b[1;32m    481\u001b[0m                 \u001b[0;32mexcept\u001b[0m \u001b[0merror\u001b[0m\u001b[0;34m,\u001b[0m \u001b[0me\u001b[0m\u001b[0;34m:\u001b[0m\u001b[0;34m\u001b[0m\u001b[0m\n\u001b[1;32m    482\u001b[0m                     \u001b[0;32mif\u001b[0m \u001b[0me\u001b[0m\u001b[0;34m.\u001b[0m\u001b[0margs\u001b[0m\u001b[0;34m[\u001b[0m\u001b[0;36m0\u001b[0m\u001b[0;34m]\u001b[0m \u001b[0;34m==\u001b[0m \u001b[0mEINTR\u001b[0m\u001b[0;34m:\u001b[0m\u001b[0;34m\u001b[0m\u001b[0m\n",
      "\u001b[0;32m/usr/lib/python2.7/ssl.pyc\u001b[0m in \u001b[0;36mrecv\u001b[0;34m(self, buflen, flags)\u001b[0m\n\u001b[1;32m    754\u001b[0m                     \u001b[0;34m\"non-zero flags not allowed in calls to recv() on %s\"\u001b[0m \u001b[0;34m%\u001b[0m\u001b[0;34m\u001b[0m\u001b[0m\n\u001b[1;32m    755\u001b[0m                     self.__class__)\n\u001b[0;32m--> 756\u001b[0;31m             \u001b[0;32mreturn\u001b[0m \u001b[0mself\u001b[0m\u001b[0;34m.\u001b[0m\u001b[0mread\u001b[0m\u001b[0;34m(\u001b[0m\u001b[0mbuflen\u001b[0m\u001b[0;34m)\u001b[0m\u001b[0;34m\u001b[0m\u001b[0m\n\u001b[0m\u001b[1;32m    757\u001b[0m         \u001b[0;32melse\u001b[0m\u001b[0;34m:\u001b[0m\u001b[0;34m\u001b[0m\u001b[0m\n\u001b[1;32m    758\u001b[0m             \u001b[0;32mreturn\u001b[0m \u001b[0mself\u001b[0m\u001b[0;34m.\u001b[0m\u001b[0m_sock\u001b[0m\u001b[0;34m.\u001b[0m\u001b[0mrecv\u001b[0m\u001b[0;34m(\u001b[0m\u001b[0mbuflen\u001b[0m\u001b[0;34m,\u001b[0m \u001b[0mflags\u001b[0m\u001b[0;34m)\u001b[0m\u001b[0;34m\u001b[0m\u001b[0m\n",
      "\u001b[0;32m/usr/lib/python2.7/ssl.pyc\u001b[0m in \u001b[0;36mread\u001b[0;34m(self, len, buffer)\u001b[0m\n\u001b[1;32m    641\u001b[0m                 \u001b[0mv\u001b[0m \u001b[0;34m=\u001b[0m \u001b[0mself\u001b[0m\u001b[0;34m.\u001b[0m\u001b[0m_sslobj\u001b[0m\u001b[0;34m.\u001b[0m\u001b[0mread\u001b[0m\u001b[0;34m(\u001b[0m\u001b[0mlen\u001b[0m\u001b[0;34m,\u001b[0m \u001b[0mbuffer\u001b[0m\u001b[0;34m)\u001b[0m\u001b[0;34m\u001b[0m\u001b[0m\n\u001b[1;32m    642\u001b[0m             \u001b[0;32melse\u001b[0m\u001b[0;34m:\u001b[0m\u001b[0;34m\u001b[0m\u001b[0m\n\u001b[0;32m--> 643\u001b[0;31m                 \u001b[0mv\u001b[0m \u001b[0;34m=\u001b[0m \u001b[0mself\u001b[0m\u001b[0;34m.\u001b[0m\u001b[0m_sslobj\u001b[0m\u001b[0;34m.\u001b[0m\u001b[0mread\u001b[0m\u001b[0;34m(\u001b[0m\u001b[0mlen\u001b[0m\u001b[0;34m)\u001b[0m\u001b[0;34m\u001b[0m\u001b[0m\n\u001b[0m\u001b[1;32m    644\u001b[0m             \u001b[0;32mreturn\u001b[0m \u001b[0mv\u001b[0m\u001b[0;34m\u001b[0m\u001b[0m\n\u001b[1;32m    645\u001b[0m         \u001b[0;32mexcept\u001b[0m \u001b[0mSSLError\u001b[0m \u001b[0;32mas\u001b[0m \u001b[0mx\u001b[0m\u001b[0;34m:\u001b[0m\u001b[0;34m\u001b[0m\u001b[0m\n",
      "\u001b[0;31mKeyboardInterrupt\u001b[0m: "
     ]
    }
   ],
   "source": [
    "myStream.filter(track=['irma'])"
   ]
  },
  {
   "cell_type": "code",
   "execution_count": 11,
   "metadata": {
    "scrolled": true
   },
   "outputs": [],
   "source": [
    "myStream.disconnect()"
   ]
  },
  {
   "cell_type": "code",
   "execution_count": null,
   "metadata": {
    "collapsed": true,
    "scrolled": true
   },
   "outputs": [],
   "source": []
  },
  {
   "cell_type": "code",
   "execution_count": null,
   "metadata": {
    "collapsed": true,
    "scrolled": true
   },
   "outputs": [],
   "source": []
  },
  {
   "cell_type": "code",
   "execution_count": null,
   "metadata": {
    "collapsed": true,
    "scrolled": true
   },
   "outputs": [],
   "source": []
  },
  {
   "cell_type": "code",
   "execution_count": null,
   "metadata": {
    "collapsed": true,
    "scrolled": true
   },
   "outputs": [],
   "source": []
  },
  {
   "cell_type": "code",
   "execution_count": 14,
   "metadata": {
    "scrolled": true
   },
   "outputs": [
    {
     "name": "stdout",
     "output_type": "stream",
     "text": [
      "Listening on Port Number 7777\n",
      "Received request from ('127.0.0.1', 57001)\n"
     ]
    },
    {
     "ename": "TweepError",
     "evalue": "Stream object already connected!",
     "output_type": "error",
     "traceback": [
      "\u001b[1;31m\u001b[0m",
      "\u001b[1;31mTweepError\u001b[0mTraceback (most recent call last)",
      "\u001b[1;32m<ipython-input-14-e58b56e8dd8b>\u001b[0m in \u001b[0;36m<module>\u001b[1;34m()\u001b[0m\n\u001b[0;32m      9\u001b[0m \u001b[0mprint\u001b[0m\u001b[1;33m(\u001b[0m\u001b[1;34m\"Received request from \"\u001b[0m \u001b[1;33m+\u001b[0m \u001b[0mstr\u001b[0m\u001b[1;33m(\u001b[0m\u001b[0mclient_address\u001b[0m\u001b[1;33m)\u001b[0m\u001b[1;33m)\u001b[0m\u001b[1;33m\u001b[0m\u001b[0m\n\u001b[0;32m     10\u001b[0m \u001b[1;33m\u001b[0m\u001b[0m\n\u001b[1;32m---> 11\u001b[1;33m \u001b[0mconnection\u001b[0m\u001b[1;33m.\u001b[0m\u001b[0msend\u001b[0m\u001b[1;33m(\u001b[0m\u001b[0mstr\u001b[0m\u001b[1;33m(\u001b[0m\u001b[0mmyStream\u001b[0m\u001b[1;33m.\u001b[0m\u001b[0mfilter\u001b[0m\u001b[1;33m(\u001b[0m\u001b[0mtrack\u001b[0m\u001b[1;33m=\u001b[0m\u001b[1;33m[\u001b[0m\u001b[1;34m'irma'\u001b[0m\u001b[1;33m]\u001b[0m\u001b[1;33m)\u001b[0m\u001b[1;33m)\u001b[0m\u001b[1;33m.\u001b[0m\u001b[0mencode\u001b[0m\u001b[1;33m(\u001b[0m\u001b[1;34m'utf-8'\u001b[0m\u001b[1;33m)\u001b[0m\u001b[1;33m)\u001b[0m\u001b[1;33m\u001b[0m\u001b[0m\n\u001b[0m",
      "\u001b[1;32mC:\\Anaconda3\\lib\\site-packages\\tweepy\\streaming.py\u001b[0m in \u001b[0;36mfilter\u001b[1;34m(self, follow, track, async, locations, stall_warnings, languages, encoding, filter_level)\u001b[0m\n\u001b[0;32m    424\u001b[0m         \u001b[0mself\u001b[0m\u001b[1;33m.\u001b[0m\u001b[0msession\u001b[0m\u001b[1;33m.\u001b[0m\u001b[0mheaders\u001b[0m\u001b[1;33m[\u001b[0m\u001b[1;34m'Content-type'\u001b[0m\u001b[1;33m]\u001b[0m \u001b[1;33m=\u001b[0m \u001b[1;34m\"application/x-www-form-urlencoded\"\u001b[0m\u001b[1;33m\u001b[0m\u001b[0m\n\u001b[0;32m    425\u001b[0m         \u001b[1;32mif\u001b[0m \u001b[0mself\u001b[0m\u001b[1;33m.\u001b[0m\u001b[0mrunning\u001b[0m\u001b[1;33m:\u001b[0m\u001b[1;33m\u001b[0m\u001b[0m\n\u001b[1;32m--> 426\u001b[1;33m             \u001b[1;32mraise\u001b[0m \u001b[0mTweepError\u001b[0m\u001b[1;33m(\u001b[0m\u001b[1;34m'Stream object already connected!'\u001b[0m\u001b[1;33m)\u001b[0m\u001b[1;33m\u001b[0m\u001b[0m\n\u001b[0m\u001b[0;32m    427\u001b[0m         \u001b[0mself\u001b[0m\u001b[1;33m.\u001b[0m\u001b[0murl\u001b[0m \u001b[1;33m=\u001b[0m \u001b[1;34m'/%s/statuses/filter.json'\u001b[0m \u001b[1;33m%\u001b[0m \u001b[0mSTREAM_VERSION\u001b[0m\u001b[1;33m\u001b[0m\u001b[0m\n\u001b[0;32m    428\u001b[0m         \u001b[1;32mif\u001b[0m \u001b[0mfollow\u001b[0m\u001b[1;33m:\u001b[0m\u001b[1;33m\u001b[0m\u001b[0m\n",
      "\u001b[1;31mTweepError\u001b[0m: Stream object already connected!"
     ]
    }
   ],
   "source": [
    "import socket \n",
    "sock = socket.socket()\n",
    "host = \"0.0.0.0\"\n",
    "port = 7777\n",
    "sock.bind((host, port))\n",
    "print(\"Listening on Port Number 7777\")\n",
    "sock.listen(5)\n",
    "connection, client_address = sock.accept()\n",
    "print(\"Received request from \" + str(client_address))\n",
    "\n",
    "connection.send(str(myStream.filter(track=['irma'])).encode('utf-8'))"
   ]
  },
  {
   "cell_type": "code",
   "execution_count": 13,
   "metadata": {
    "scrolled": true
   },
   "outputs": [],
   "source": [
    "connection.close()"
   ]
  },
  {
   "cell_type": "code",
   "execution_count": null,
   "metadata": {
    "scrolled": true
   },
   "outputs": [],
   "source": []
  },
  {
   "cell_type": "code",
   "execution_count": null,
   "metadata": {
    "collapsed": true,
    "scrolled": true
   },
   "outputs": [],
   "source": []
  },
  {
   "cell_type": "code",
   "execution_count": null,
   "metadata": {
    "collapsed": true,
    "scrolled": true
   },
   "outputs": [],
   "source": []
  },
  {
   "cell_type": "code",
   "execution_count": null,
   "metadata": {
    "collapsed": true,
    "scrolled": true
   },
   "outputs": [],
   "source": []
  },
  {
   "cell_type": "code",
   "execution_count": null,
   "metadata": {
    "collapsed": true,
    "scrolled": true
   },
   "outputs": [],
   "source": []
  },
  {
   "cell_type": "code",
   "execution_count": 9,
   "metadata": {
    "collapsed": true,
    "scrolled": true
   },
   "outputs": [],
   "source": [
    "# !pip install kafka\n",
    "import kafka\n",
    "from kafka import KafkaClient, SimpleProducer\n",
    "import tweepy"
   ]
  },
  {
   "cell_type": "code",
   "execution_count": 10,
   "metadata": {
    "collapsed": true,
    "scrolled": true
   },
   "outputs": [],
   "source": [
    "consumer_key = 'k97rJlYycyQk0WEQRYXcMNqwC'\n",
    "consumer_secret = 'S7RChYTDFfpkD6Ef8NMIV3upJLMB6gv7mzdnljM535XXlFYg8o' \n",
    "access_token = \"1420771244-IghbAEhaoG57xkMDKmPRz01xWUfJwjG1UD4PyaX\"\n",
    "access_token_secret = \"pviUnOY5UeZTywN1BctmCu4lUW54o0r3rz9Y2dKqvwHpc\" \n",
    "auth = tweepy.OAuthHandler(consumer_key, consumer_secret)\n",
    "auth.set_access_token(access_token, access_token_secret)\n",
    "\n",
    "api = tweepy.API(auth, wait_on_rate_limit=True, wait_on_rate_limit_notify=True)"
   ]
  },
  {
   "cell_type": "code",
   "execution_count": 11,
   "metadata": {
    "scrolled": true
   },
   "outputs": [],
   "source": [
    "#override tweepy.StreamListener to add logic to on_status\n",
    "client = KafkaClient(\"localhost:9092\")\n",
    "producer = SimpleProducer(client, async = True,\n",
    "                          batch_send_every_n = 1000,\n",
    "                          batch_send_every_t = 10)\n",
    "\n",
    "#override tweepy.StreamListener to add logic to on_status\n",
    "class MyStreamListener(tweepy.StreamListener):\n",
    "\n",
    "    def on_status(self, status):\n",
    "        try:\n",
    "            producer.send_messages(b'test', status.text.encode('utf-8'))\n",
    "        except Exception as e:\n",
    "            print(e)\n",
    "            return False\n",
    "        return True\n",
    "        \n",
    "    def on_error(self, status_code):\n",
    "        print(status_code)\n",
    "        if status_code == 420:\n",
    "            #returning False in on_data disconnects the stream\n",
    "            print(status_code)\n",
    "            return True\n",
    "    def on_timeout(self):\n",
    "        return True # Don't kill the stream"
   ]
  },
  {
   "cell_type": "code",
   "execution_count": 12,
   "metadata": {
    "scrolled": true
   },
   "outputs": [],
   "source": [
    "myStreamListener = MyStreamListener()\n",
    "myStream = tweepy.Stream(auth = api.auth, listener=myStreamListener)"
   ]
  },
  {
   "cell_type": "code",
   "execution_count": null,
   "metadata": {
    "scrolled": true
   },
   "outputs": [],
   "source": [
    "myStream.filter(track=['python'], stall_warnings=True)"
   ]
  },
  {
   "cell_type": "code",
   "execution_count": 26,
   "metadata": {
    "collapsed": true,
    "scrolled": true
   },
   "outputs": [],
   "source": [
    "myStream.disconnect()"
   ]
  },
  {
   "cell_type": "code",
   "execution_count": 31,
   "metadata": {
    "scrolled": true
   },
   "outputs": [
    {
     "name": "stdout",
     "output_type": "stream",
     "text": [
      "Collecting pyspark\n",
      "  Downloading pyspark-2.2.0.post0.tar.gz (188.3MB)\n",
      "\u001b[K    100% |████████████████████████████████| 188.3MB 6.2kB/s ta 0:00:011\n",
      "\u001b[?25hCollecting py4j==0.10.4 (from pyspark)\n",
      "  Downloading py4j-0.10.4-py2.py3-none-any.whl (186kB)\n",
      "\u001b[K    100% |████████████████████████████████| 194kB 4.3MB/s eta 0:00:01\n",
      "\u001b[?25hBuilding wheels for collected packages: pyspark\n",
      "  Running setup.py bdist_wheel for pyspark ... \u001b[?25ldone\n",
      "\u001b[?25h  Stored in directory: /home/shivam/.cache/pip/wheels/5f/0b/b3/5cb16b15d28dcc32f8e7ec91a044829642874bb7586f6e6cbe\n",
      "Successfully built pyspark\n",
      "Installing collected packages: py4j, pyspark\n",
      "Successfully installed py4j-0.10.4 pyspark-2.2.0\n"
     ]
    }
   ],
   "source": [
    "!pip install pyspark"
   ]
  },
  {
   "cell_type": "code",
   "execution_count": 13,
   "metadata": {
    "scrolled": true
   },
   "outputs": [],
   "source": [
    "import pyspark"
   ]
  },
  {
   "cell_type": "code",
   "execution_count": 14,
   "metadata": {
    "collapsed": true,
    "scrolled": true
   },
   "outputs": [],
   "source": [
    "#    Spark\n",
    "from pyspark import SparkContext  \n",
    "#    Spark Streaming\n",
    "from pyspark.streaming import StreamingContext  \n",
    "#    Kafka\n",
    "from pyspark.streaming.kafka import KafkaUtils  \n",
    "#    json parsing\n",
    "import json  "
   ]
  },
  {
   "cell_type": "code",
   "execution_count": 15,
   "metadata": {
    "collapsed": true
   },
   "outputs": [],
   "source": [
    "import os  \n",
    "os.environ['PYSPARK_SUBMIT_ARGS'] = '--packages org.apache.spark:spark-streaming-kafka-0-8_2.11:2.0.2 pyspark-shell' "
   ]
  },
  {
   "cell_type": "code",
   "execution_count": 16,
   "metadata": {
    "scrolled": true
   },
   "outputs": [
    {
     "ename": "ValueError",
     "evalue": "Cannot run multiple SparkContexts at once; existing SparkContext(app=PythonSparkStreamingKafka, master=local[*]) created by __init__ at <ipython-input-4-3b31d3840f19>:1 ",
     "output_type": "error",
     "traceback": [
      "\u001b[0;31m---------------------------------------------------------------------------\u001b[0m",
      "\u001b[0;31mValueError\u001b[0m                                Traceback (most recent call last)",
      "\u001b[0;32m<ipython-input-16-3b31d3840f19>\u001b[0m in \u001b[0;36m<module>\u001b[0;34m()\u001b[0m\n\u001b[0;32m----> 1\u001b[0;31m \u001b[0msc\u001b[0m \u001b[0;34m=\u001b[0m \u001b[0mSparkContext\u001b[0m\u001b[0;34m(\u001b[0m\u001b[0mappName\u001b[0m\u001b[0;34m=\u001b[0m\u001b[0;34m\"PythonSparkStreamingKafka\"\u001b[0m\u001b[0;34m)\u001b[0m\u001b[0;34m\u001b[0m\u001b[0m\n\u001b[0m\u001b[1;32m      2\u001b[0m \u001b[0msc\u001b[0m\u001b[0;34m.\u001b[0m\u001b[0msetLogLevel\u001b[0m\u001b[0;34m(\u001b[0m\u001b[0;34m\"WARN\"\u001b[0m\u001b[0;34m)\u001b[0m\u001b[0;34m\u001b[0m\u001b[0m\n",
      "\u001b[0;32m/home/shivam/Desktop/work/venvs/nlp/local/lib/python2.7/site-packages/pyspark/context.pyc\u001b[0m in \u001b[0;36m__init__\u001b[0;34m(self, master, appName, sparkHome, pyFiles, environment, batchSize, serializer, conf, gateway, jsc, profiler_cls)\u001b[0m\n\u001b[1;32m    113\u001b[0m         \"\"\"\n\u001b[1;32m    114\u001b[0m         \u001b[0mself\u001b[0m\u001b[0;34m.\u001b[0m\u001b[0m_callsite\u001b[0m \u001b[0;34m=\u001b[0m \u001b[0mfirst_spark_call\u001b[0m\u001b[0;34m(\u001b[0m\u001b[0;34m)\u001b[0m \u001b[0;32mor\u001b[0m \u001b[0mCallSite\u001b[0m\u001b[0;34m(\u001b[0m\u001b[0mNone\u001b[0m\u001b[0;34m,\u001b[0m \u001b[0mNone\u001b[0m\u001b[0;34m,\u001b[0m \u001b[0mNone\u001b[0m\u001b[0;34m)\u001b[0m\u001b[0;34m\u001b[0m\u001b[0m\n\u001b[0;32m--> 115\u001b[0;31m         \u001b[0mSparkContext\u001b[0m\u001b[0;34m.\u001b[0m\u001b[0m_ensure_initialized\u001b[0m\u001b[0;34m(\u001b[0m\u001b[0mself\u001b[0m\u001b[0;34m,\u001b[0m \u001b[0mgateway\u001b[0m\u001b[0;34m=\u001b[0m\u001b[0mgateway\u001b[0m\u001b[0;34m,\u001b[0m \u001b[0mconf\u001b[0m\u001b[0;34m=\u001b[0m\u001b[0mconf\u001b[0m\u001b[0;34m)\u001b[0m\u001b[0;34m\u001b[0m\u001b[0m\n\u001b[0m\u001b[1;32m    116\u001b[0m         \u001b[0;32mtry\u001b[0m\u001b[0;34m:\u001b[0m\u001b[0;34m\u001b[0m\u001b[0m\n\u001b[1;32m    117\u001b[0m             self._do_init(master, appName, sparkHome, pyFiles, environment, batchSize, serializer,\n",
      "\u001b[0;32m/home/shivam/Desktop/work/venvs/nlp/local/lib/python2.7/site-packages/pyspark/context.pyc\u001b[0m in \u001b[0;36m_ensure_initialized\u001b[0;34m(cls, instance, gateway, conf)\u001b[0m\n\u001b[1;32m    297\u001b[0m                         \u001b[0;34m\" created by %s at %s:%s \"\u001b[0m\u001b[0;34m\u001b[0m\u001b[0m\n\u001b[1;32m    298\u001b[0m                         % (currentAppName, currentMaster,\n\u001b[0;32m--> 299\u001b[0;31m                             callsite.function, callsite.file, callsite.linenum))\n\u001b[0m\u001b[1;32m    300\u001b[0m                 \u001b[0;32melse\u001b[0m\u001b[0;34m:\u001b[0m\u001b[0;34m\u001b[0m\u001b[0m\n\u001b[1;32m    301\u001b[0m                     \u001b[0mSparkContext\u001b[0m\u001b[0;34m.\u001b[0m\u001b[0m_active_spark_context\u001b[0m \u001b[0;34m=\u001b[0m \u001b[0minstance\u001b[0m\u001b[0;34m\u001b[0m\u001b[0m\n",
      "\u001b[0;31mValueError\u001b[0m: Cannot run multiple SparkContexts at once; existing SparkContext(app=PythonSparkStreamingKafka, master=local[*]) created by __init__ at <ipython-input-4-3b31d3840f19>:1 "
     ]
    }
   ],
   "source": [
    "sc = SparkContext(appName=\"PythonSparkStreamingKafka\")  \n",
    "sc.setLogLevel(\"WARN\")  "
   ]
  },
  {
   "cell_type": "code",
   "execution_count": 17,
   "metadata": {
    "collapsed": true,
    "scrolled": true
   },
   "outputs": [],
   "source": [
    "ssc = StreamingContext(sc, 30)"
   ]
  },
  {
   "cell_type": "code",
   "execution_count": 6,
   "metadata": {
    "scrolled": false
   },
   "outputs": [],
   "source": [
    "kstream = KafkaUtils.createDirectStream(\n",
    "    ssc, topics = ['test'], kafkaParams = {\"metadata.broker.list\": 'localhost:9092'})\n",
    "tweets = kstream.map(lambda x: x[1].encode(\"ascii\", \"ignore\"))"
   ]
  },
  {
   "cell_type": "code",
   "execution_count": 7,
   "metadata": {
    "scrolled": false
   },
   "outputs": [],
   "source": [
    "words = tweets.flatMap(lambda line:line.split(\" \"))"
   ]
  },
  {
   "cell_type": "code",
   "execution_count": 8,
   "metadata": {
    "collapsed": true,
    "scrolled": true
   },
   "outputs": [],
   "source": [
    "words.pprint()"
   ]
  },
  {
   "cell_type": "code",
   "execution_count": null,
   "metadata": {
    "collapsed": true
   },
   "outputs": [],
   "source": []
  }
 ],
 "metadata": {
  "anaconda-cloud": {},
  "kernelspec": {
   "display_name": "Python 2",
   "language": "python",
   "name": "python2"
  },
  "language_info": {
   "codemirror_mode": {
    "name": "ipython",
    "version": 2
   },
   "file_extension": ".py",
   "mimetype": "text/x-python",
   "name": "python",
   "nbconvert_exporter": "python",
   "pygments_lexer": "ipython2",
   "version": "2.7.14"
  }
 },
 "nbformat": 4,
 "nbformat_minor": 1
}
