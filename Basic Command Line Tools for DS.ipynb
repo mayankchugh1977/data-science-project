{
  "nbformat": 4,
  "nbformat_minor": 0,
  "metadata": {
    "colab": {
      "name": "Untitled1.ipynb",
      "provenance": [],
      "authorship_tag": "ABX9TyOxN4p6LnDupvXbmgQMOA5y",
      "include_colab_link": true
    },
    "kernelspec": {
      "name": "python3",
      "display_name": "Python 3"
    }
  },
  "cells": [
    {
      "cell_type": "markdown",
      "metadata": {
        "id": "view-in-github",
        "colab_type": "text"
      },
      "source": [
        "<a href=\"https://colab.research.google.com/github/shivam-kotwalia/data-science-project/blob/master/Basic%20Command%20Line%20Tools%20for%20DS.ipynb\" target=\"_parent\"><img src=\"https://colab.research.google.com/assets/colab-badge.svg\" alt=\"Open In Colab\"/></a>"
      ]
    },
    {
      "cell_type": "markdown",
      "metadata": {
        "id": "g-Gfx8TYvDBW",
        "colab_type": "text"
      },
      "source": [
        "### `iconv` - is the encoding converstion tool on linux sandbox"
      ]
    },
    {
      "cell_type": "code",
      "metadata": {
        "id": "y5xb_dSZpan6",
        "colab_type": "code",
        "colab": {
          "base_uri": "https://localhost:8080/",
          "height": 1000
        },
        "outputId": "0b119084-b705-4e1c-c32e-28a32cbc4773"
      },
      "source": [
        "! iconv -l #list all encoding available"
      ],
      "execution_count": 2,
      "outputs": [
        {
          "output_type": "stream",
          "text": [
            "The following list contains all the coded character sets known.  This does\n",
            "not necessarily mean that all combinations of these names can be used for\n",
            "the FROM and TO command line parameters.  One coded character set can be\n",
            "listed with several different names (aliases).\n",
            "\n",
            "  437, 500, 500V1, 850, 851, 852, 855, 856, 857, 858, 860, 861, 862, 863, 864,\n",
            "  865, 866, 866NAV, 869, 874, 904, 1026, 1046, 1047, 8859_1, 8859_2, 8859_3,\n",
            "  8859_4, 8859_5, 8859_6, 8859_7, 8859_8, 8859_9, 10646-1:1993,\n",
            "  10646-1:1993/UCS4, ANSI_X3.4-1968, ANSI_X3.4-1986, ANSI_X3.4,\n",
            "  ANSI_X3.110-1983, ANSI_X3.110, ARABIC, ARABIC7, ARMSCII-8, ASCII, ASMO-708,\n",
            "  ASMO_449, BALTIC, BIG-5, BIG-FIVE, BIG5-HKSCS, BIG5, BIG5HKSCS, BIGFIVE, BRF,\n",
            "  BS_4730, CA, CN-BIG5, CN-GB, CN, CP-AR, CP-GR, CP-HU, CP037, CP038, CP273,\n",
            "  CP274, CP275, CP278, CP280, CP281, CP282, CP284, CP285, CP290, CP297, CP367,\n",
            "  CP420, CP423, CP424, CP437, CP500, CP737, CP770, CP771, CP772, CP773, CP774,\n",
            "  CP775, CP803, CP813, CP819, CP850, CP851, CP852, CP855, CP856, CP857, CP858,\n",
            "  CP860, CP861, CP862, CP863, CP864, CP865, CP866, CP866NAV, CP868, CP869,\n",
            "  CP870, CP871, CP874, CP875, CP880, CP891, CP901, CP902, CP903, CP904, CP905,\n",
            "  CP912, CP915, CP916, CP918, CP920, CP921, CP922, CP930, CP932, CP933, CP935,\n",
            "  CP936, CP937, CP939, CP949, CP950, CP1004, CP1008, CP1025, CP1026, CP1046,\n",
            "  CP1047, CP1070, CP1079, CP1081, CP1084, CP1089, CP1097, CP1112, CP1122,\n",
            "  CP1123, CP1124, CP1125, CP1129, CP1130, CP1132, CP1133, CP1137, CP1140,\n",
            "  CP1141, CP1142, CP1143, CP1144, CP1145, CP1146, CP1147, CP1148, CP1149,\n",
            "  CP1153, CP1154, CP1155, CP1156, CP1157, CP1158, CP1160, CP1161, CP1162,\n",
            "  CP1163, CP1164, CP1166, CP1167, CP1250, CP1251, CP1252, CP1253, CP1254,\n",
            "  CP1255, CP1256, CP1257, CP1258, CP1282, CP1361, CP1364, CP1371, CP1388,\n",
            "  CP1390, CP1399, CP4517, CP4899, CP4909, CP4971, CP5347, CP9030, CP9066,\n",
            "  CP9448, CP10007, CP12712, CP16804, CPIBM861, CSA7-1, CSA7-2, CSASCII,\n",
            "  CSA_T500-1983, CSA_T500, CSA_Z243.4-1985-1, CSA_Z243.4-1985-2,\n",
            "  CSA_Z243.419851, CSA_Z243.419852, CSDECMCS, CSEBCDICATDE, CSEBCDICATDEA,\n",
            "  CSEBCDICCAFR, CSEBCDICDKNO, CSEBCDICDKNOA, CSEBCDICES, CSEBCDICESA,\n",
            "  CSEBCDICESS, CSEBCDICFISE, CSEBCDICFISEA, CSEBCDICFR, CSEBCDICIT, CSEBCDICPT,\n",
            "  CSEBCDICUK, CSEBCDICUS, CSEUCKR, CSEUCPKDFMTJAPANESE, CSGB2312, CSHPROMAN8,\n",
            "  CSIBM037, CSIBM038, CSIBM273, CSIBM274, CSIBM275, CSIBM277, CSIBM278,\n",
            "  CSIBM280, CSIBM281, CSIBM284, CSIBM285, CSIBM290, CSIBM297, CSIBM420,\n",
            "  CSIBM423, CSIBM424, CSIBM500, CSIBM803, CSIBM851, CSIBM855, CSIBM856,\n",
            "  CSIBM857, CSIBM860, CSIBM863, CSIBM864, CSIBM865, CSIBM866, CSIBM868,\n",
            "  CSIBM869, CSIBM870, CSIBM871, CSIBM880, CSIBM891, CSIBM901, CSIBM902,\n",
            "  CSIBM903, CSIBM904, CSIBM905, CSIBM918, CSIBM921, CSIBM922, CSIBM930,\n",
            "  CSIBM932, CSIBM933, CSIBM935, CSIBM937, CSIBM939, CSIBM943, CSIBM1008,\n",
            "  CSIBM1025, CSIBM1026, CSIBM1097, CSIBM1112, CSIBM1122, CSIBM1123, CSIBM1124,\n",
            "  CSIBM1129, CSIBM1130, CSIBM1132, CSIBM1133, CSIBM1137, CSIBM1140, CSIBM1141,\n",
            "  CSIBM1142, CSIBM1143, CSIBM1144, CSIBM1145, CSIBM1146, CSIBM1147, CSIBM1148,\n",
            "  CSIBM1149, CSIBM1153, CSIBM1154, CSIBM1155, CSIBM1156, CSIBM1157, CSIBM1158,\n",
            "  CSIBM1160, CSIBM1161, CSIBM1163, CSIBM1164, CSIBM1166, CSIBM1167, CSIBM1364,\n",
            "  CSIBM1371, CSIBM1388, CSIBM1390, CSIBM1399, CSIBM4517, CSIBM4899, CSIBM4909,\n",
            "  CSIBM4971, CSIBM5347, CSIBM9030, CSIBM9066, CSIBM9448, CSIBM12712,\n",
            "  CSIBM16804, CSIBM11621162, CSISO4UNITEDKINGDOM, CSISO10SWEDISH,\n",
            "  CSISO11SWEDISHFORNAMES, CSISO14JISC6220RO, CSISO15ITALIAN, CSISO16PORTUGESE,\n",
            "  CSISO17SPANISH, CSISO18GREEK7OLD, CSISO19LATINGREEK, CSISO21GERMAN,\n",
            "  CSISO25FRENCH, CSISO27LATINGREEK1, CSISO49INIS, CSISO50INIS8,\n",
            "  CSISO51INISCYRILLIC, CSISO58GB1988, CSISO60DANISHNORWEGIAN,\n",
            "  CSISO60NORWEGIAN1, CSISO61NORWEGIAN2, CSISO69FRENCH, CSISO84PORTUGUESE2,\n",
            "  CSISO85SPANISH2, CSISO86HUNGARIAN, CSISO88GREEK7, CSISO89ASMO449, CSISO90,\n",
            "  CSISO92JISC62991984B, CSISO99NAPLPS, CSISO103T618BIT, CSISO111ECMACYRILLIC,\n",
            "  CSISO121CANADIAN1, CSISO122CANADIAN2, CSISO139CSN369103, CSISO141JUSIB1002,\n",
            "  CSISO143IECP271, CSISO150, CSISO150GREEKCCITT, CSISO151CUBA,\n",
            "  CSISO153GOST1976874, CSISO646DANISH, CSISO2022CN, CSISO2022JP, CSISO2022JP2,\n",
            "  CSISO2022KR, CSISO2033, CSISO5427CYRILLIC, CSISO5427CYRILLIC1981,\n",
            "  CSISO5428GREEK, CSISO10367BOX, CSISOLATIN1, CSISOLATIN2, CSISOLATIN3,\n",
            "  CSISOLATIN4, CSISOLATIN5, CSISOLATIN6, CSISOLATINARABIC, CSISOLATINCYRILLIC,\n",
            "  CSISOLATINGREEK, CSISOLATINHEBREW, CSKOI8R, CSKSC5636, CSMACINTOSH,\n",
            "  CSNATSDANO, CSNATSSEFI, CSN_369103, CSPC8CODEPAGE437, CSPC775BALTIC,\n",
            "  CSPC850MULTILINGUAL, CSPC858MULTILINGUAL, CSPC862LATINHEBREW, CSPCP852,\n",
            "  CSSHIFTJIS, CSUCS4, CSUNICODE, CSWINDOWS31J, CUBA, CWI-2, CWI, CYRILLIC, DE,\n",
            "  DEC-MCS, DEC, DECMCS, DIN_66003, DK, DS2089, DS_2089, E13B, EBCDIC-AT-DE-A,\n",
            "  EBCDIC-AT-DE, EBCDIC-BE, EBCDIC-BR, EBCDIC-CA-FR, EBCDIC-CP-AR1,\n",
            "  EBCDIC-CP-AR2, EBCDIC-CP-BE, EBCDIC-CP-CA, EBCDIC-CP-CH, EBCDIC-CP-DK,\n",
            "  EBCDIC-CP-ES, EBCDIC-CP-FI, EBCDIC-CP-FR, EBCDIC-CP-GB, EBCDIC-CP-GR,\n",
            "  EBCDIC-CP-HE, EBCDIC-CP-IS, EBCDIC-CP-IT, EBCDIC-CP-NL, EBCDIC-CP-NO,\n",
            "  EBCDIC-CP-ROECE, EBCDIC-CP-SE, EBCDIC-CP-TR, EBCDIC-CP-US, EBCDIC-CP-WT,\n",
            "  EBCDIC-CP-YU, EBCDIC-CYRILLIC, EBCDIC-DK-NO-A, EBCDIC-DK-NO, EBCDIC-ES-A,\n",
            "  EBCDIC-ES-S, EBCDIC-ES, EBCDIC-FI-SE-A, EBCDIC-FI-SE, EBCDIC-FR,\n",
            "  EBCDIC-GREEK, EBCDIC-INT, EBCDIC-INT1, EBCDIC-IS-FRISS, EBCDIC-IT,\n",
            "  EBCDIC-JP-E, EBCDIC-JP-KANA, EBCDIC-PT, EBCDIC-UK, EBCDIC-US, EBCDICATDE,\n",
            "  EBCDICATDEA, EBCDICCAFR, EBCDICDKNO, EBCDICDKNOA, EBCDICES, EBCDICESA,\n",
            "  EBCDICESS, EBCDICFISE, EBCDICFISEA, EBCDICFR, EBCDICISFRISS, EBCDICIT,\n",
            "  EBCDICPT, EBCDICUK, EBCDICUS, ECMA-114, ECMA-118, ECMA-128, ECMA-CYRILLIC,\n",
            "  ECMACYRILLIC, ELOT_928, ES, ES2, EUC-CN, EUC-JISX0213, EUC-JP-MS, EUC-JP,\n",
            "  EUC-KR, EUC-TW, EUCCN, EUCJP-MS, EUCJP-OPEN, EUCJP-WIN, EUCJP, EUCKR, EUCTW,\n",
            "  FI, FR, GB, GB2312, GB13000, GB18030, GBK, GB_1988-80, GB_198880,\n",
            "  GEORGIAN-ACADEMY, GEORGIAN-PS, GOST_19768-74, GOST_19768, GOST_1976874,\n",
            "  GREEK-CCITT, GREEK, GREEK7-OLD, GREEK7, GREEK7OLD, GREEK8, GREEKCCITT,\n",
            "  HEBREW, HP-GREEK8, HP-ROMAN8, HP-ROMAN9, HP-THAI8, HP-TURKISH8, HPGREEK8,\n",
            "  HPROMAN8, HPROMAN9, HPTHAI8, HPTURKISH8, HU, IBM-803, IBM-856, IBM-901,\n",
            "  IBM-902, IBM-921, IBM-922, IBM-930, IBM-932, IBM-933, IBM-935, IBM-937,\n",
            "  IBM-939, IBM-943, IBM-1008, IBM-1025, IBM-1046, IBM-1047, IBM-1097, IBM-1112,\n",
            "  IBM-1122, IBM-1123, IBM-1124, IBM-1129, IBM-1130, IBM-1132, IBM-1133,\n",
            "  IBM-1137, IBM-1140, IBM-1141, IBM-1142, IBM-1143, IBM-1144, IBM-1145,\n",
            "  IBM-1146, IBM-1147, IBM-1148, IBM-1149, IBM-1153, IBM-1154, IBM-1155,\n",
            "  IBM-1156, IBM-1157, IBM-1158, IBM-1160, IBM-1161, IBM-1162, IBM-1163,\n",
            "  IBM-1164, IBM-1166, IBM-1167, IBM-1364, IBM-1371, IBM-1388, IBM-1390,\n",
            "  IBM-1399, IBM-4517, IBM-4899, IBM-4909, IBM-4971, IBM-5347, IBM-9030,\n",
            "  IBM-9066, IBM-9448, IBM-12712, IBM-16804, IBM037, IBM038, IBM256, IBM273,\n",
            "  IBM274, IBM275, IBM277, IBM278, IBM280, IBM281, IBM284, IBM285, IBM290,\n",
            "  IBM297, IBM367, IBM420, IBM423, IBM424, IBM437, IBM500, IBM775, IBM803,\n",
            "  IBM813, IBM819, IBM848, IBM850, IBM851, IBM852, IBM855, IBM856, IBM857,\n",
            "  IBM858, IBM860, IBM861, IBM862, IBM863, IBM864, IBM865, IBM866, IBM866NAV,\n",
            "  IBM868, IBM869, IBM870, IBM871, IBM874, IBM875, IBM880, IBM891, IBM901,\n",
            "  IBM902, IBM903, IBM904, IBM905, IBM912, IBM915, IBM916, IBM918, IBM920,\n",
            "  IBM921, IBM922, IBM930, IBM932, IBM933, IBM935, IBM937, IBM939, IBM943,\n",
            "  IBM1004, IBM1008, IBM1025, IBM1026, IBM1046, IBM1047, IBM1089, IBM1097,\n",
            "  IBM1112, IBM1122, IBM1123, IBM1124, IBM1129, IBM1130, IBM1132, IBM1133,\n",
            "  IBM1137, IBM1140, IBM1141, IBM1142, IBM1143, IBM1144, IBM1145, IBM1146,\n",
            "  IBM1147, IBM1148, IBM1149, IBM1153, IBM1154, IBM1155, IBM1156, IBM1157,\n",
            "  IBM1158, IBM1160, IBM1161, IBM1162, IBM1163, IBM1164, IBM1166, IBM1167,\n",
            "  IBM1364, IBM1371, IBM1388, IBM1390, IBM1399, IBM4517, IBM4899, IBM4909,\n",
            "  IBM4971, IBM5347, IBM9030, IBM9066, IBM9448, IBM12712, IBM16804, IEC_P27-1,\n",
            "  IEC_P271, INIS-8, INIS-CYRILLIC, INIS, INIS8, INISCYRILLIC, ISIRI-3342,\n",
            "  ISIRI3342, ISO-2022-CN-EXT, ISO-2022-CN, ISO-2022-JP-2, ISO-2022-JP-3,\n",
            "  ISO-2022-JP, ISO-2022-KR, ISO-8859-1, ISO-8859-2, ISO-8859-3, ISO-8859-4,\n",
            "  ISO-8859-5, ISO-8859-6, ISO-8859-7, ISO-8859-8, ISO-8859-9, ISO-8859-9E,\n",
            "  ISO-8859-10, ISO-8859-11, ISO-8859-13, ISO-8859-14, ISO-8859-15, ISO-8859-16,\n",
            "  ISO-10646, ISO-10646/UCS2, ISO-10646/UCS4, ISO-10646/UTF-8, ISO-10646/UTF8,\n",
            "  ISO-CELTIC, ISO-IR-4, ISO-IR-6, ISO-IR-8-1, ISO-IR-9-1, ISO-IR-10, ISO-IR-11,\n",
            "  ISO-IR-14, ISO-IR-15, ISO-IR-16, ISO-IR-17, ISO-IR-18, ISO-IR-19, ISO-IR-21,\n",
            "  ISO-IR-25, ISO-IR-27, ISO-IR-37, ISO-IR-49, ISO-IR-50, ISO-IR-51, ISO-IR-54,\n",
            "  ISO-IR-55, ISO-IR-57, ISO-IR-60, ISO-IR-61, ISO-IR-69, ISO-IR-84, ISO-IR-85,\n",
            "  ISO-IR-86, ISO-IR-88, ISO-IR-89, ISO-IR-90, ISO-IR-92, ISO-IR-98, ISO-IR-99,\n",
            "  ISO-IR-100, ISO-IR-101, ISO-IR-103, ISO-IR-109, ISO-IR-110, ISO-IR-111,\n",
            "  ISO-IR-121, ISO-IR-122, ISO-IR-126, ISO-IR-127, ISO-IR-138, ISO-IR-139,\n",
            "  ISO-IR-141, ISO-IR-143, ISO-IR-144, ISO-IR-148, ISO-IR-150, ISO-IR-151,\n",
            "  ISO-IR-153, ISO-IR-155, ISO-IR-156, ISO-IR-157, ISO-IR-166, ISO-IR-179,\n",
            "  ISO-IR-193, ISO-IR-197, ISO-IR-199, ISO-IR-203, ISO-IR-209, ISO-IR-226,\n",
            "  ISO/TR_11548-1, ISO646-CA, ISO646-CA2, ISO646-CN, ISO646-CU, ISO646-DE,\n",
            "  ISO646-DK, ISO646-ES, ISO646-ES2, ISO646-FI, ISO646-FR, ISO646-FR1,\n",
            "  ISO646-GB, ISO646-HU, ISO646-IT, ISO646-JP-OCR-B, ISO646-JP, ISO646-KR,\n",
            "  ISO646-NO, ISO646-NO2, ISO646-PT, ISO646-PT2, ISO646-SE, ISO646-SE2,\n",
            "  ISO646-US, ISO646-YU, ISO2022CN, ISO2022CNEXT, ISO2022JP, ISO2022JP2,\n",
            "  ISO2022KR, ISO6937, ISO8859-1, ISO8859-2, ISO8859-3, ISO8859-4, ISO8859-5,\n",
            "  ISO8859-6, ISO8859-7, ISO8859-8, ISO8859-9, ISO8859-9E, ISO8859-10,\n",
            "  ISO8859-11, ISO8859-13, ISO8859-14, ISO8859-15, ISO8859-16, ISO11548-1,\n",
            "  ISO88591, ISO88592, ISO88593, ISO88594, ISO88595, ISO88596, ISO88597,\n",
            "  ISO88598, ISO88599, ISO88599E, ISO885910, ISO885911, ISO885913, ISO885914,\n",
            "  ISO885915, ISO885916, ISO_646.IRV:1991, ISO_2033-1983, ISO_2033,\n",
            "  ISO_5427-EXT, ISO_5427, ISO_5427:1981, ISO_5427EXT, ISO_5428, ISO_5428:1980,\n",
            "  ISO_6937-2, ISO_6937-2:1983, ISO_6937, ISO_6937:1992, ISO_8859-1,\n",
            "  ISO_8859-1:1987, ISO_8859-2, ISO_8859-2:1987, ISO_8859-3, ISO_8859-3:1988,\n",
            "  ISO_8859-4, ISO_8859-4:1988, ISO_8859-5, ISO_8859-5:1988, ISO_8859-6,\n",
            "  ISO_8859-6:1987, ISO_8859-7, ISO_8859-7:1987, ISO_8859-7:2003, ISO_8859-8,\n",
            "  ISO_8859-8:1988, ISO_8859-9, ISO_8859-9:1989, ISO_8859-9E, ISO_8859-10,\n",
            "  ISO_8859-10:1992, ISO_8859-14, ISO_8859-14:1998, ISO_8859-15,\n",
            "  ISO_8859-15:1998, ISO_8859-16, ISO_8859-16:2001, ISO_9036, ISO_10367-BOX,\n",
            "  ISO_10367BOX, ISO_11548-1, ISO_69372, IT, JIS_C6220-1969-RO,\n",
            "  JIS_C6229-1984-B, JIS_C62201969RO, JIS_C62291984B, JOHAB, JP-OCR-B, JP, JS,\n",
            "  JUS_I.B1.002, KOI-7, KOI-8, KOI8-R, KOI8-RU, KOI8-T, KOI8-U, KOI8, KOI8R,\n",
            "  KOI8U, KSC5636, L1, L2, L3, L4, L5, L6, L7, L8, L10, LATIN-9, LATIN-GREEK-1,\n",
            "  LATIN-GREEK, LATIN1, LATIN2, LATIN3, LATIN4, LATIN5, LATIN6, LATIN7, LATIN8,\n",
            "  LATIN9, LATIN10, LATINGREEK, LATINGREEK1, MAC-CENTRALEUROPE, MAC-CYRILLIC,\n",
            "  MAC-IS, MAC-SAMI, MAC-UK, MAC, MACCYRILLIC, MACINTOSH, MACIS, MACUK,\n",
            "  MACUKRAINIAN, MIK, MS-ANSI, MS-ARAB, MS-CYRL, MS-EE, MS-GREEK, MS-HEBR,\n",
            "  MS-MAC-CYRILLIC, MS-TURK, MS932, MS936, MSCP949, MSCP1361, MSMACCYRILLIC,\n",
            "  MSZ_7795.3, MS_KANJI, NAPLPS, NATS-DANO, NATS-SEFI, NATSDANO, NATSSEFI,\n",
            "  NC_NC0010, NC_NC00-10, NC_NC00-10:81, NF_Z_62-010, NF_Z_62-010_(1973),\n",
            "  NF_Z_62-010_1973, NF_Z_62010, NF_Z_62010_1973, NO, NO2, NS_4551-1, NS_4551-2,\n",
            "  NS_45511, NS_45512, OS2LATIN1, OSF00010001, OSF00010002, OSF00010003,\n",
            "  OSF00010004, OSF00010005, OSF00010006, OSF00010007, OSF00010008, OSF00010009,\n",
            "  OSF0001000A, OSF00010020, OSF00010100, OSF00010101, OSF00010102, OSF00010104,\n",
            "  OSF00010105, OSF00010106, OSF00030010, OSF0004000A, OSF0005000A, OSF05010001,\n",
            "  OSF100201A4, OSF100201A8, OSF100201B5, OSF100201F4, OSF100203B5, OSF1002011C,\n",
            "  OSF1002011D, OSF1002035D, OSF1002035E, OSF1002035F, OSF1002036B, OSF1002037B,\n",
            "  OSF10010001, OSF10010004, OSF10010006, OSF10020025, OSF10020111, OSF10020115,\n",
            "  OSF10020116, OSF10020118, OSF10020122, OSF10020129, OSF10020352, OSF10020354,\n",
            "  OSF10020357, OSF10020359, OSF10020360, OSF10020364, OSF10020365, OSF10020366,\n",
            "  OSF10020367, OSF10020370, OSF10020387, OSF10020388, OSF10020396, OSF10020402,\n",
            "  OSF10020417, PT, PT2, PT154, R8, R9, RK1048, ROMAN8, ROMAN9, RUSCII, SE, SE2,\n",
            "  SEN_850200_B, SEN_850200_C, SHIFT-JIS, SHIFT_JIS, SHIFT_JISX0213, SJIS-OPEN,\n",
            "  SJIS-WIN, SJIS, SS636127, STRK1048-2002, ST_SEV_358-88, T.61-8BIT, T.61,\n",
            "  T.618BIT, TCVN-5712, TCVN, TCVN5712-1, TCVN5712-1:1993, THAI8, TIS-620,\n",
            "  TIS620-0, TIS620.2529-1, TIS620.2533-0, TIS620, TS-5881, TSCII, TURKISH8,\n",
            "  UCS-2, UCS-2BE, UCS-2LE, UCS-4, UCS-4BE, UCS-4LE, UCS2, UCS4, UHC, UJIS, UK,\n",
            "  UNICODE, UNICODEBIG, UNICODELITTLE, US-ASCII, US, UTF-7, UTF-8, UTF-16,\n",
            "  UTF-16BE, UTF-16LE, UTF-32, UTF-32BE, UTF-32LE, UTF7, UTF8, UTF16, UTF16BE,\n",
            "  UTF16LE, UTF32, UTF32BE, UTF32LE, VISCII, WCHAR_T, WIN-SAMI-2, WINBALTRIM,\n",
            "  WINDOWS-31J, WINDOWS-874, WINDOWS-936, WINDOWS-1250, WINDOWS-1251,\n",
            "  WINDOWS-1252, WINDOWS-1253, WINDOWS-1254, WINDOWS-1255, WINDOWS-1256,\n",
            "  WINDOWS-1257, WINDOWS-1258, WINSAMI2, WS2, YU\n"
          ],
          "name": "stdout"
        }
      ]
    },
    {
      "cell_type": "code",
      "metadata": {
        "id": "7srKAUvEuwdL",
        "colab_type": "code",
        "colab": {}
      },
      "source": [
        "# Converting -f (from) latin1 (ISO-8859-1) -t (to) standard UTF_8\n",
        "# iconv -c silently discard characters that cannot be converted\n",
        "iconv -f ISO-8859-1 -t UTF-8 input.txt output.txt"
      ],
      "execution_count": 0,
      "outputs": []
    },
    {
      "cell_type": "markdown",
      "metadata": {
        "id": "pdcBCtbjxuBd",
        "colab_type": "text"
      },
      "source": [
        "### `file` - to understand the file type "
      ]
    },
    {
      "cell_type": "code",
      "metadata": {
        "id": "pbXfAff5vQiF",
        "colab_type": "code",
        "colab": {}
      },
      "source": [
        "! sudo apt install  file"
      ],
      "execution_count": 0,
      "outputs": []
    },
    {
      "cell_type": "code",
      "metadata": {
        "id": "kveHPad1w7kn",
        "colab_type": "code",
        "colab": {
          "base_uri": "https://localhost:8080/",
          "height": 853
        },
        "outputId": "95934462-423f-4995-ae64-8d0eb8d99d9d"
      },
      "source": [
        "! file --help"
      ],
      "execution_count": 8,
      "outputs": [
        {
          "output_type": "stream",
          "text": [
            "Usage: file [OPTION...] [FILE...]\n",
            "Determine type of FILEs.\n",
            "\n",
            "      --help                 display this help and exit\n",
            "  -v, --version              output version information and exit\n",
            "  -m, --magic-file LIST      use LIST as a colon-separated list of magic\n",
            "                               number files\n",
            "  -z, --uncompress           try to look inside compressed files\n",
            "  -Z, --uncompress-noreport  only print the contents of compressed files\n",
            "  -b, --brief                do not prepend filenames to output lines\n",
            "  -c, --checking-printout    print the parsed form of the magic file, use in\n",
            "                               conjunction with -m to debug a new magic file\n",
            "                               before installing it\n",
            "  -e, --exclude TEST         exclude TEST from the list of test to be\n",
            "                               performed for file. Valid tests are:\n",
            "                               apptype, ascii, cdf, compress, elf, encoding,\n",
            "                               soft, tar, text, tokens\n",
            "  -f, --files-from FILE      read the filenames to be examined from FILE\n",
            "  -F, --separator STRING     use string as separator instead of `:'\n",
            "  -i, --mime                 output MIME type strings (--mime-type and\n",
            "                               --mime-encoding)\n",
            "      --apple                output the Apple CREATOR/TYPE\n",
            "      --extension            output a slash-separated list of extensions\n",
            "      --mime-type            output the MIME type\n",
            "      --mime-encoding        output the MIME encoding\n",
            "  -k, --keep-going           don't stop at the first match\n",
            "  -l, --list                 list magic strength\n",
            "  -L, --dereference          follow symlinks (default if POSIXLY_CORRECT is set)\n",
            "  -h, --no-dereference       don't follow symlinks (default if POSIXLY_CORRECT is not set) (default)\n",
            "  -n, --no-buffer            do not buffer output\n",
            "  -N, --no-pad               do not pad output\n",
            "  -0, --print0               terminate filenames with ASCII NUL\n",
            "  -p, --preserve-date        preserve access times on files\n",
            "  -P, --parameter            set file engine parameter limits\n",
            "                               indir        15 recursion limit for indirection\n",
            "                               name         30 use limit for name/use magic\n",
            "                               elf_notes   256 max ELF notes processed\n",
            "                               elf_phnum   128 max ELF prog sections processed\n",
            "                               elf_shnum 32768 max ELF sections processed\n",
            "  -r, --raw                  don't translate unprintable chars to \\ooo\n",
            "  -s, --special-files        treat special (block/char devices) files as\n",
            "                             ordinary ones\n",
            "  -C, --compile              compile file specified by -m\n",
            "  -d, --debug                print debugging messages\n",
            "\n",
            "Report bugs to http://bugs.gw.com/\n"
          ],
          "name": "stdout"
        }
      ]
    },
    {
      "cell_type": "code",
      "metadata": {
        "id": "QRE05_Olx5RH",
        "colab_type": "code",
        "colab": {
          "base_uri": "https://localhost:8080/",
          "height": 126
        },
        "outputId": "935f9116-7dca-4c8c-93bf-009b0669285d"
      },
      "source": [
        "! file sample_data/*"
      ],
      "execution_count": 9,
      "outputs": [
        {
          "output_type": "stream",
          "text": [
            "sample_data/anscombe.json:                ASCII text\n",
            "sample_data/california_housing_test.csv:  ASCII text\n",
            "sample_data/california_housing_train.csv: ASCII text\n",
            "sample_data/mnist_test.csv:               ASCII text, with very long lines\n",
            "sample_data/mnist_train_small.csv:        ASCII text, with very long lines\n",
            "sample_data/README.md:                    ASCII text\n"
          ],
          "name": "stdout"
        }
      ]
    },
    {
      "cell_type": "code",
      "metadata": {
        "id": "9G_I0RANykEz",
        "colab_type": "code",
        "colab": {
          "base_uri": "https://localhost:8080/",
          "height": 126
        },
        "outputId": "5a624b0e-caaf-4b52-c51a-ef14480a220f"
      },
      "source": [
        "! file --mime-encoding sample_data/*"
      ],
      "execution_count": 11,
      "outputs": [
        {
          "output_type": "stream",
          "text": [
            "sample_data/anscombe.json:                us-ascii\n",
            "sample_data/california_housing_test.csv:  us-ascii\n",
            "sample_data/california_housing_train.csv: us-ascii\n",
            "sample_data/mnist_test.csv:               us-ascii\n",
            "sample_data/mnist_train_small.csv:        us-ascii\n",
            "sample_data/README.md:                    us-ascii\n"
          ],
          "name": "stdout"
        }
      ]
    },
    {
      "cell_type": "code",
      "metadata": {
        "id": "IS2nmOLUyqOz",
        "colab_type": "code",
        "colab": {
          "base_uri": "https://localhost:8080/",
          "height": 126
        },
        "outputId": "1b8ac638-0f88-4233-b6f8-c52e0868f034"
      },
      "source": [
        "! file -b sample_data/*"
      ],
      "execution_count": 12,
      "outputs": [
        {
          "output_type": "stream",
          "text": [
            "ASCII text\n",
            "ASCII text\n",
            "ASCII text\n",
            "ASCII text, with very long lines\n",
            "ASCII text, with very long lines\n",
            "ASCII text\n"
          ],
          "name": "stdout"
        }
      ]
    },
    {
      "cell_type": "markdown",
      "metadata": {
        "id": "FwthCJOVzQFa",
        "colab_type": "text"
      },
      "source": [
        "### `head` - to read top values of file"
      ]
    },
    {
      "cell_type": "code",
      "metadata": {
        "id": "8LGpdldGzmbj",
        "colab_type": "code",
        "colab": {}
      },
      "source": [
        "# head -n print a specific number of lines\n",
        "# head -c print a specific number of bytes"
      ],
      "execution_count": 0,
      "outputs": []
    },
    {
      "cell_type": "code",
      "metadata": {
        "id": "-hm37XKyzBed",
        "colab_type": "code",
        "colab": {
          "base_uri": "https://localhost:8080/",
          "height": 128
        },
        "outputId": "5856f410-8e45-4ec2-e1b8-8d1248666abb"
      },
      "source": [
        "! head -n 5 sample_data/california_housing_test.csv"
      ],
      "execution_count": 14,
      "outputs": [
        {
          "output_type": "stream",
          "text": [
            "\"longitude\",\"latitude\",\"housing_median_age\",\"total_rooms\",\"total_bedrooms\",\"population\",\"households\",\"median_income\",\"median_house_value\"\n",
            "-122.050000,37.370000,27.000000,3885.000000,661.000000,1537.000000,606.000000,6.608500,344700.000000\n",
            "-118.300000,34.260000,43.000000,1510.000000,310.000000,809.000000,277.000000,3.599000,176500.000000\n",
            "-117.810000,33.780000,27.000000,3589.000000,507.000000,1484.000000,495.000000,5.793400,270500.000000\n",
            "-118.360000,33.820000,28.000000,67.000000,15.000000,49.000000,11.000000,6.135900,330000.000000\n"
          ],
          "name": "stdout"
        }
      ]
    },
    {
      "cell_type": "code",
      "metadata": {
        "id": "TxbRuhgUzYfy",
        "colab_type": "code",
        "colab": {
          "base_uri": "https://localhost:8080/",
          "height": 128
        },
        "outputId": "785fa4f4-5dfb-4111-88ee-214b6bd5094d"
      },
      "source": [
        "! head -c 500 sample_data/california_housing_test.csv"
      ],
      "execution_count": 19,
      "outputs": [
        {
          "output_type": "stream",
          "text": [
            "\"longitude\",\"latitude\",\"housing_median_age\",\"total_rooms\",\"total_bedrooms\",\"population\",\"households\",\"median_income\",\"median_house_value\"\n",
            "-122.050000,37.370000,27.000000,3885.000000,661.000000,1537.000000,606.000000,6.608500,344700.000000\n",
            "-118.300000,34.260000,43.000000,1510.000000,310.000000,809.000000,277.000000,3.599000,176500.000000\n",
            "-117.810000,33.780000,27.000000,3589.000000,507.000000,1484.000000,495.000000,5.793400,270500.000000\n",
            "-118.360000,33.820000,28.000000,67.000000,15.000000,49.00000"
          ],
          "name": "stdout"
        }
      ]
    },
    {
      "cell_type": "markdown",
      "metadata": {
        "id": "QM5g5g3jzw9P",
        "colab_type": "text"
      },
      "source": [
        "### `tr`"
      ]
    },
    {
      "cell_type": "code",
      "metadata": {
        "id": "rwUOpebUzhp8",
        "colab_type": "code",
        "colab": {
          "base_uri": "https://localhost:8080/",
          "height": 980
        },
        "outputId": "7be86f34-a420-4877-8e32-9e9e792128e9"
      },
      "source": [
        "! tr --help"
      ],
      "execution_count": 20,
      "outputs": [
        {
          "output_type": "stream",
          "text": [
            "Usage: tr [OPTION]... SET1 [SET2]\n",
            "Translate, squeeze, and/or delete characters from standard input,\n",
            "writing to standard output.\n",
            "\n",
            "  -c, -C, --complement    use the complement of SET1\n",
            "  -d, --delete            delete characters in SET1, do not translate\n",
            "  -s, --squeeze-repeats   replace each sequence of a repeated character\n",
            "                            that is listed in the last specified SET,\n",
            "                            with a single occurrence of that character\n",
            "  -t, --truncate-set1     first truncate SET1 to length of SET2\n",
            "      --help     display this help and exit\n",
            "      --version  output version information and exit\n",
            "\n",
            "SETs are specified as strings of characters.  Most represent themselves.\n",
            "Interpreted sequences are:\n",
            "\n",
            "  \\NNN            character with octal value NNN (1 to 3 octal digits)\n",
            "  \\\\              backslash\n",
            "  \\a              audible BEL\n",
            "  \\b              backspace\n",
            "  \\f              form feed\n",
            "  \\n              new line\n",
            "  \\r              return\n",
            "  \\t              horizontal tab\n",
            "  \\v              vertical tab\n",
            "  CHAR1-CHAR2     all characters from CHAR1 to CHAR2 in ascending order\n",
            "  [CHAR*]         in SET2, copies of CHAR until length of SET1\n",
            "  [CHAR*REPEAT]   REPEAT copies of CHAR, REPEAT octal if starting with 0\n",
            "  [:alnum:]       all letters and digits\n",
            "  [:alpha:]       all letters\n",
            "  [:blank:]       all horizontal whitespace\n",
            "  [:cntrl:]       all control characters\n",
            "  [:digit:]       all digits\n",
            "  [:graph:]       all printable characters, not including space\n",
            "  [:lower:]       all lower case letters\n",
            "  [:print:]       all printable characters, including space\n",
            "  [:punct:]       all punctuation characters\n",
            "  [:space:]       all horizontal or vertical whitespace\n",
            "  [:upper:]       all upper case letters\n",
            "  [:xdigit:]      all hexadecimal digits\n",
            "  [=CHAR=]        all characters which are equivalent to CHAR\n",
            "\n",
            "Translation occurs if -d is not given and both SET1 and SET2 appear.\n",
            "-t may be used only when translating.  SET2 is extended to length of\n",
            "SET1 by repeating its last character as necessary.  Excess characters\n",
            "of SET2 are ignored.  Only [:lower:] and [:upper:] are guaranteed to\n",
            "expand in ascending order; used in SET2 while translating, they may\n",
            "only be used in pairs to specify case conversion.  -s uses the last\n",
            "specified SET, and occurs after translation or deletion.\n",
            "\n",
            "GNU coreutils online help: <http://www.gnu.org/software/coreutils/>\n",
            "Full documentation at: <http://www.gnu.org/software/coreutils/tr>\n",
            "or available locally via: info '(coreutils) tr invocation'\n"
          ],
          "name": "stdout"
        }
      ]
    },
    {
      "cell_type": "code",
      "metadata": {
        "id": "MmOhkXxI0RCw",
        "colab_type": "code",
        "colab": {
          "base_uri": "https://localhost:8080/",
          "height": 219
        },
        "outputId": "67cb5a35-d25c-42bf-e28c-b66a84dd8896"
      },
      "source": [
        "! head sample_data/california_housing_test.csv"
      ],
      "execution_count": 22,
      "outputs": [
        {
          "output_type": "stream",
          "text": [
            "\"longitude\",\"latitude\",\"housing_median_age\",\"total_rooms\",\"total_bedrooms\",\"population\",\"households\",\"median_income\",\"median_house_value\"\n",
            "-122.050000,37.370000,27.000000,3885.000000,661.000000,1537.000000,606.000000,6.608500,344700.000000\n",
            "-118.300000,34.260000,43.000000,1510.000000,310.000000,809.000000,277.000000,3.599000,176500.000000\n",
            "-117.810000,33.780000,27.000000,3589.000000,507.000000,1484.000000,495.000000,5.793400,270500.000000\n",
            "-118.360000,33.820000,28.000000,67.000000,15.000000,49.000000,11.000000,6.135900,330000.000000\n",
            "-119.670000,36.330000,19.000000,1241.000000,244.000000,850.000000,237.000000,2.937500,81700.000000\n",
            "-119.560000,36.510000,37.000000,1018.000000,213.000000,663.000000,204.000000,1.663500,67000.000000\n",
            "-121.430000,38.630000,43.000000,1009.000000,225.000000,604.000000,218.000000,1.664100,67000.000000\n",
            "-120.650000,35.480000,19.000000,2310.000000,471.000000,1341.000000,441.000000,3.225000,166900.000000\n",
            "-122.840000,38.400000,15.000000,3080.000000,617.000000,1446.000000,599.000000,3.669600,194400.000000\n"
          ],
          "name": "stdout"
        }
      ]
    },
    {
      "cell_type": "code",
      "metadata": {
        "id": "AkTgHc1Lz3tl",
        "colab_type": "code",
        "colab": {
          "base_uri": "https://localhost:8080/",
          "height": 219
        },
        "outputId": "e2bca0e6-896b-4f31-9599-58202a160570"
      },
      "source": [
        "! head sample_data/california_housing_test.csv | tr \",\" \"\\\\t\""
      ],
      "execution_count": 27,
      "outputs": [
        {
          "output_type": "stream",
          "text": [
            "\"longitude\"\t\"latitude\"\t\"housing_median_age\"\t\"total_rooms\"\t\"total_bedrooms\"\t\"population\"\t\"households\"\t\"median_income\"\t\"median_house_value\"\n",
            "-122.050000\t37.370000\t27.000000\t3885.000000\t661.000000\t1537.000000\t606.000000\t6.608500\t344700.000000\n",
            "-118.300000\t34.260000\t43.000000\t1510.000000\t310.000000\t809.000000\t277.000000\t3.599000\t176500.000000\n",
            "-117.810000\t33.780000\t27.000000\t3589.000000\t507.000000\t1484.000000\t495.000000\t5.793400\t270500.000000\n",
            "-118.360000\t33.820000\t28.000000\t67.000000\t15.000000\t49.000000\t11.000000\t6.135900\t330000.000000\n",
            "-119.670000\t36.330000\t19.000000\t1241.000000\t244.000000\t850.000000\t237.000000\t2.937500\t81700.000000\n",
            "-119.560000\t36.510000\t37.000000\t1018.000000\t213.000000\t663.000000\t204.000000\t1.663500\t67000.000000\n",
            "-121.430000\t38.630000\t43.000000\t1009.000000\t225.000000\t604.000000\t218.000000\t1.664100\t67000.000000\n",
            "-120.650000\t35.480000\t19.000000\t2310.000000\t471.000000\t1341.000000\t441.000000\t3.225000\t166900.000000\n",
            "-122.840000\t38.400000\t15.000000\t3080.000000\t617.000000\t1446.000000\t599.000000\t3.669600\t194400.000000\n"
          ],
          "name": "stdout"
        }
      ]
    },
    {
      "cell_type": "code",
      "metadata": {
        "id": "6f26ZZov0OjP",
        "colab_type": "code",
        "colab": {}
      },
      "source": [
        ""
      ],
      "execution_count": 0,
      "outputs": []
    }
  ]
}