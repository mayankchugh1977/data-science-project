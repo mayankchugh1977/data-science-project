{
  "nbformat": 4,
  "nbformat_minor": 0,
  "metadata": {
    "kernelspec": {
      "name": "python3",
      "display_name": "Python 3"
    },
    "language_info": {
      "codemirror_mode": {
        "name": "ipython",
        "version": 3
      },
      "file_extension": ".py",
      "mimetype": "text/x-python",
      "name": "python",
      "nbconvert_exporter": "python",
      "pygments_lexer": "ipython3",
      "version": "3.6.5"
    },
    "colab": {
      "name": "Tensorflow Serving on Google Colab.ipynb",
      "provenance": []
    }
  },
  "cells": [
    {
      "cell_type": "code",
      "metadata": {
        "id": "mZTmnPXW9g5T",
        "colab_type": "code",
        "colab": {}
      },
      "source": [
        "%tensorflow_version 2.x"
      ],
      "execution_count": 0,
      "outputs": []
    },
    {
      "cell_type": "code",
      "metadata": {
        "id": "po077te89v9n",
        "colab_type": "code",
        "colab": {
          "base_uri": "https://localhost:8080/",
          "height": 36
        },
        "outputId": "afec5c70-eb65-43e0-c262-ab1b764b0256"
      },
      "source": [
        "import tensorflow as tf\n",
        "tf.__version__"
      ],
      "execution_count": 2,
      "outputs": [
        {
          "output_type": "execute_result",
          "data": {
            "text/plain": [
              "'2.2.0-rc2'"
            ]
          },
          "metadata": {
            "tags": []
          },
          "execution_count": 2
        }
      ]
    },
    {
      "cell_type": "code",
      "metadata": {
        "id": "4S3AkQsK-Pt0",
        "colab_type": "code",
        "colab": {}
      },
      "source": [
        "from tensorflow.keras.datasets import fashion_mnist"
      ],
      "execution_count": 0,
      "outputs": []
    },
    {
      "cell_type": "code",
      "metadata": {
        "id": "xLFP8Oze-Wg3",
        "colab_type": "code",
        "colab": {
          "base_uri": "https://localhost:8080/",
          "height": 167
        },
        "outputId": "e92b2f83-bdee-4748-a53e-fab40f6b11b6"
      },
      "source": [
        "(x_train, y_train), (x_test, y_test) = fashion_mnist.load_data()"
      ],
      "execution_count": 4,
      "outputs": [
        {
          "output_type": "stream",
          "text": [
            "Downloading data from https://storage.googleapis.com/tensorflow/tf-keras-datasets/train-labels-idx1-ubyte.gz\n",
            "32768/29515 [=================================] - 0s 0us/step\n",
            "Downloading data from https://storage.googleapis.com/tensorflow/tf-keras-datasets/train-images-idx3-ubyte.gz\n",
            "26427392/26421880 [==============================] - 0s 0us/step\n",
            "Downloading data from https://storage.googleapis.com/tensorflow/tf-keras-datasets/t10k-labels-idx1-ubyte.gz\n",
            "8192/5148 [===============================================] - 0s 0us/step\n",
            "Downloading data from https://storage.googleapis.com/tensorflow/tf-keras-datasets/t10k-images-idx3-ubyte.gz\n",
            "4423680/4422102 [==============================] - 0s 0us/step\n"
          ],
          "name": "stdout"
        }
      ]
    },
    {
      "cell_type": "code",
      "metadata": {
        "id": "VpXXPENT-ZhQ",
        "colab_type": "code",
        "colab": {
          "base_uri": "https://localhost:8080/",
          "height": 36
        },
        "outputId": "e3d4c436-9c5d-405c-91be-dd9f7d4da640"
      },
      "source": [
        "x_train.shape, y_train.shape, x_test.shape, y_test.shape"
      ],
      "execution_count": 5,
      "outputs": [
        {
          "output_type": "execute_result",
          "data": {
            "text/plain": [
              "((60000, 28, 28), (60000,), (10000, 28, 28), (10000,))"
            ]
          },
          "metadata": {
            "tags": []
          },
          "execution_count": 5
        }
      ]
    },
    {
      "cell_type": "code",
      "metadata": {
        "id": "tGa23u92DG8e",
        "colab_type": "code",
        "colab": {}
      },
      "source": [
        "x_train = x_train/255.0\n",
        "x_test = x_test/255.0\n",
        "y_train = to_categorical(y_train, num_classes=10)\n",
        "y_test  = to_categorical(y_test,  num_classes=10)"
      ],
      "execution_count": 0,
      "outputs": []
    },
    {
      "cell_type": "code",
      "metadata": {
        "id": "Y3zLnKXODd0_",
        "colab_type": "code",
        "colab": {}
      },
      "source": [
        ""
      ],
      "execution_count": 0,
      "outputs": []
    },
    {
      "cell_type": "code",
      "metadata": {
        "id": "ykjAhJwz-edc",
        "colab_type": "code",
        "colab": {}
      },
      "source": [
        "from tensorflow.keras.models      import Sequential\n",
        "from tensorflow.keras.layers      import Flatten, Dense, Conv2D, Conv1D\n",
        "from tensorflow.keras.losses      import categorical_crossentropy\n",
        "from tensorflow.keras.optimizers  import SGD\n",
        "from tensorflow.keras.activations import relu, softmax\n",
        "from tensorflow.keras.utils       import to_categorical\n",
        "import numpy as np "
      ],
      "execution_count": 0,
      "outputs": []
    },
    {
      "cell_type": "code",
      "metadata": {
        "id": "sM47mDmIDiCI",
        "colab_type": "code",
        "colab": {}
      },
      "source": [
        "x_train = np.expand_dims(x_train, axis=-1)\n",
        "x_test = np.expand_dims(x_test, axis=-1)"
      ],
      "execution_count": 0,
      "outputs": []
    },
    {
      "cell_type": "code",
      "metadata": {
        "id": "-9MmjpFL_IUU",
        "colab_type": "code",
        "colab": {}
      },
      "source": [
        "model = Sequential()\n",
        "model.add(Conv2D(8, kernel_size=(3, 3), input_shape=(28, 28, 1), activation=relu))\n",
        "model.add(Flatten())\n",
        "model.add(Dense(10, activation=softmax))"
      ],
      "execution_count": 0,
      "outputs": []
    },
    {
      "cell_type": "code",
      "metadata": {
        "id": "Krvr4FjT_fQK",
        "colab_type": "code",
        "colab": {
          "base_uri": "https://localhost:8080/",
          "height": 280
        },
        "outputId": "cc93e96a-e1bc-4137-afab-4e20c837b9e9"
      },
      "source": [
        "model.summary()"
      ],
      "execution_count": 31,
      "outputs": [
        {
          "output_type": "stream",
          "text": [
            "Model: \"sequential_6\"\n",
            "_________________________________________________________________\n",
            "Layer (type)                 Output Shape              Param #   \n",
            "=================================================================\n",
            "conv2d_3 (Conv2D)            (None, 26, 26, 8)         80        \n",
            "_________________________________________________________________\n",
            "flatten_2 (Flatten)          (None, 5408)              0         \n",
            "_________________________________________________________________\n",
            "dense_2 (Dense)              (None, 10)                54090     \n",
            "=================================================================\n",
            "Total params: 54,170\n",
            "Trainable params: 54,170\n",
            "Non-trainable params: 0\n",
            "_________________________________________________________________\n"
          ],
          "name": "stdout"
        }
      ]
    },
    {
      "cell_type": "code",
      "metadata": {
        "id": "iz8Cah6e_hzU",
        "colab_type": "code",
        "colab": {}
      },
      "source": [
        "model.compile(\"rmsprop\", categorical_crossentropy, metrics=[\"acc\"])"
      ],
      "execution_count": 0,
      "outputs": []
    },
    {
      "cell_type": "code",
      "metadata": {
        "id": "e1u2MKV1BDMF",
        "colab_type": "code",
        "colab": {
          "base_uri": "https://localhost:8080/",
          "height": 36
        },
        "outputId": "f4a08dcb-2949-40f8-a795-2f40f195b635"
      },
      "source": [
        "x_train.shape, y_train.shape"
      ],
      "execution_count": 33,
      "outputs": [
        {
          "output_type": "execute_result",
          "data": {
            "text/plain": [
              "((60000, 28, 28, 1), (60000, 10))"
            ]
          },
          "metadata": {
            "tags": []
          },
          "execution_count": 33
        }
      ]
    },
    {
      "cell_type": "code",
      "metadata": {
        "id": "VX9nvVhO_sgE",
        "colab_type": "code",
        "colab": {
          "base_uri": "https://localhost:8080/",
          "height": 786
        },
        "outputId": "dbb310bc-286e-463d-b881-717d18524761"
      },
      "source": [
        "model.fit(x_train, y_train, epochs=20, validation_split=0.2)"
      ],
      "execution_count": 34,
      "outputs": [
        {
          "output_type": "stream",
          "text": [
            "Epoch 1/20\n",
            "1500/1500 [==============================] - 15s 10ms/step - loss: 1.2398 - acc: 0.6435 - val_loss: 0.7204 - val_acc: 0.7405\n",
            "Epoch 2/20\n",
            "1500/1500 [==============================] - 15s 10ms/step - loss: 0.6613 - acc: 0.7620 - val_loss: 0.5997 - val_acc: 0.7800\n",
            "Epoch 3/20\n",
            "1500/1500 [==============================] - 15s 10ms/step - loss: 0.5854 - acc: 0.7891 - val_loss: 0.5577 - val_acc: 0.7986\n",
            "Epoch 4/20\n",
            "1500/1500 [==============================] - 15s 10ms/step - loss: 0.5482 - acc: 0.8046 - val_loss: 0.5323 - val_acc: 0.8086\n",
            "Epoch 5/20\n",
            "1500/1500 [==============================] - 14s 10ms/step - loss: 0.5254 - acc: 0.8143 - val_loss: 0.5203 - val_acc: 0.8147\n",
            "Epoch 6/20\n",
            "1500/1500 [==============================] - 15s 10ms/step - loss: 0.5087 - acc: 0.8202 - val_loss: 0.5083 - val_acc: 0.8152\n",
            "Epoch 7/20\n",
            "1500/1500 [==============================] - 15s 10ms/step - loss: 0.4950 - acc: 0.8266 - val_loss: 0.4946 - val_acc: 0.8217\n",
            "Epoch 8/20\n",
            "1500/1500 [==============================] - 15s 10ms/step - loss: 0.4835 - acc: 0.8311 - val_loss: 0.4797 - val_acc: 0.8318\n",
            "Epoch 9/20\n",
            "1500/1500 [==============================] - 15s 10ms/step - loss: 0.4732 - acc: 0.8345 - val_loss: 0.4701 - val_acc: 0.8325\n",
            "Epoch 10/20\n",
            "1500/1500 [==============================] - 14s 10ms/step - loss: 0.4646 - acc: 0.8396 - val_loss: 0.4646 - val_acc: 0.8353\n",
            "Epoch 11/20\n",
            "1500/1500 [==============================] - 14s 9ms/step - loss: 0.4570 - acc: 0.8418 - val_loss: 0.4575 - val_acc: 0.8389\n",
            "Epoch 12/20\n",
            "1500/1500 [==============================] - 14s 10ms/step - loss: 0.4501 - acc: 0.8447 - val_loss: 0.4501 - val_acc: 0.8419\n",
            "Epoch 13/20\n",
            "1500/1500 [==============================] - 14s 10ms/step - loss: 0.4438 - acc: 0.8470 - val_loss: 0.4518 - val_acc: 0.8377\n",
            "Epoch 14/20\n",
            "1500/1500 [==============================] - 14s 10ms/step - loss: 0.4386 - acc: 0.8482 - val_loss: 0.4484 - val_acc: 0.8430\n",
            "Epoch 15/20\n",
            "1500/1500 [==============================] - 15s 10ms/step - loss: 0.4339 - acc: 0.8512 - val_loss: 0.4448 - val_acc: 0.8449\n",
            "Epoch 16/20\n",
            "1500/1500 [==============================] - 15s 10ms/step - loss: 0.4294 - acc: 0.8525 - val_loss: 0.4364 - val_acc: 0.8453\n",
            "Epoch 17/20\n",
            "1500/1500 [==============================] - 15s 10ms/step - loss: 0.4255 - acc: 0.8542 - val_loss: 0.4389 - val_acc: 0.8482\n",
            "Epoch 18/20\n",
            "1500/1500 [==============================] - 15s 10ms/step - loss: 0.4217 - acc: 0.8561 - val_loss: 0.4305 - val_acc: 0.8490\n",
            "Epoch 19/20\n",
            "1500/1500 [==============================] - 15s 10ms/step - loss: 0.4184 - acc: 0.8574 - val_loss: 0.4246 - val_acc: 0.8547\n",
            "Epoch 20/20\n",
            "1500/1500 [==============================] - 15s 10ms/step - loss: 0.4152 - acc: 0.8586 - val_loss: 0.4232 - val_acc: 0.8544\n"
          ],
          "name": "stdout"
        },
        {
          "output_type": "execute_result",
          "data": {
            "text/plain": [
              "<tensorflow.python.keras.callbacks.History at 0x7f22b00820b8>"
            ]
          },
          "metadata": {
            "tags": []
          },
          "execution_count": 34
        }
      ]
    },
    {
      "cell_type": "code",
      "metadata": {
        "id": "ZbksGOFJ_zr7",
        "colab_type": "code",
        "colab": {}
      },
      "source": [
        ""
      ],
      "execution_count": 0,
      "outputs": []
    },
    {
      "cell_type": "code",
      "metadata": {
        "id": "Gmad8LNaAkNV",
        "colab_type": "code",
        "colab": {}
      },
      "source": [
        ""
      ],
      "execution_count": 0,
      "outputs": []
    }
  ]
}